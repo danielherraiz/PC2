{
 "cells": [
  {
   "cell_type": "markdown",
   "id": "31f12064",
   "metadata": {},
   "source": [
    "![MBITSchool](https://i.imgur.com/UiDMkO3.png)\n",
    "\n",
    "### Proyecto de Consolidación APIs y Web Scraping\n",
    "\n",
    "##### Alejandro Paredero - paredero@mbitschool.com"
   ]
  },
  {
   "cell_type": "markdown",
   "id": "f5bce86a",
   "metadata": {},
   "source": [
    "**El proyecto de consolidación de Web Scraping, API REST y Streamlit pretende que de forma autónoma combinemos proyectos de captura, procesamiento de datos y visualización basados en un sistema o entre dos o más distintos.**\n",
    "\n",
    "Aquí la creatividad es muy importante ✔️. Una vez resuelto los retos propuestos siéntete libre de extenderlos con características adicionales.\n",
    "\n",
    "⚠️ **ATENCIÓN**: <u>Ten a mano las presentaciones y los cuadernos resueltos de las sesiones anteriores, te serán de gran ayuda.</u>\n",
    "\n",
    "**Los ejercicios EXTRA son opcionales**. Si dais vuestro consentimiento tras la fecha de cierre, podré hacer publicaciones con capturas de pantalla en redes como LinkedIn con objeto de promocionaros.\n",
    "\n",
    "Para dudas tenéis un foro en el campus o mi correo electrónico 📧 paredero@mbitschool.com"
   ]
  },
  {
   "cell_type": "markdown",
   "id": "79ff36f1",
   "metadata": {},
   "source": [
    "**Datos del alumno:**\n",
    "\n",
    "- **Nombre:** `Daniel Herraiz Tello`\n",
    "- **Consentimiento sobre ejercicios EXTRA:** Si realizas el ejercicio, ¿permites que pueda publicar el contenido en foto/vídeo si el resultado es relevante? `SI`\n",
    "- **Comentario:** Tras realizar los diferentes retos, ¿qué te han parecido? ¿qué problemas has encontrado?"
   ]
  },
  {
   "cell_type": "markdown",
   "id": "a5a641e9",
   "metadata": {},
   "source": [
    "\n",
    "##### Comentarios tras finalizar\n",
    "* ##### Reto 1\n",
    "    * El reto 1 está por completo en reto1.py\n",
    "    * La columna +/- requiere especial atención y me ha dado algunos problemas al variar el nombre de la clase según >0 o <0\n",
    "    * Al realizar el reto inicialmente en el notebook, podía usar una variable global como caché. En el script de python he tenido que usar un sistema distinto:\n",
    "        * Las variables globales se reinician al interactuar con el UI\n",
    "        * Ha sido necesario un sistema de archivos\n",
    "        * Inicialmente probé con un archivo y json (pag1->content1...) pero era muy complicado con los formatos, decidí crear un archivo por página\n",
    "        * He añadido una sección para ver y vaciar caché en la app para facilitar las pruebas\n",
    "\n",
    "* ##### Reto 2\n",
    "    * La única forma que he encontrado de obtener el precio actualizado es cargar y cerrar el driver en cada loop. Cualquier otra forma me daba un valor estático o me saltaba el bot si intentaba refrescar la página.\n",
    "\n",
    "* ##### Reto 3\n",
    "    * He hecho una app más extensa con varios archivos incluidos en este directorio (\"RetoExtraMain\", \"RetoExtraUtils\")\n",
    "    * Encuentro más obstáculos con las tiendas más grandes (amazon, corte inglés, casa del libro)\n",
    "        El buscador carga de distinta manera a veces, en algunas ocasiones hay que expandir un shadow root, hay algunas redirecciones a ciertas categorías según los resultados, etc\n",
    "    * El \"implicit wait\" me ha parecido muy útil excepto cuando esperas encontrar varios elementos (puede sólo quedarse con el primero y no cargar más)\n",
    "    * Streamlit tiene muchas funcionalidades pero también algunas limitaciones al pintar dataFrames (quería por ejemplo haber usado algún formato condicional, y esto no está soportado por el \"data_editor\")\n"
   ]
  },
  {
   "cell_type": "markdown",
   "id": "381b96a4",
   "metadata": {},
   "source": [
    "### Reto 1 - BeautifulSoup y Streamlit: Capturar estadísticas de equipos de hockey"
   ]
  },
  {
   "cell_type": "markdown",
   "id": "ecae7c6b",
   "metadata": {},
   "source": [
    "Vista la web https://www.scrapethissite.com/pages/forms/. Examina como se comporta la URL con la paginación.  El objetivo es capturar la información de las primeras 10 páginas y crear una aplicación sencilla en Streamlit que permita mostrar la información de las columnas \"Team name\", \"Year\", \"Win\", \"Loses\" y \"+/-\"\n",
    "\n",
    "##### Ejercicio:\n",
    "* Captura el los términos listados anteriormente:  \"Team name\", \"Year\", \"Win\", \"Loses\" y \"+/-\" , de al menos las primeras 8 páginas.\n",
    "* Almacena el resultado en un **dataframe** de Steramlit.\n",
    "* Implementa el cacheo de contenido de las URL (Revisa la presentación) para evitar consultas repetidas a las URL.\n",
    "* **Extra**: Permite que el usuario elija el rango de página mínima y máxima a capturar contenido\n",
    "* **Extra**: Permite que el usuario elija filtrar por equipos cuyo \"+/-\" sea superior a una cifra determinada.\n",
    "\n",
    "*PISTA: La página 1 tiene la estructura `https://www.scrapethissite.com/pages/forms/?page_num=1` , la página 2 `https://www.scrapethissite.com/pages/forms/?page_num=2` y así sucesivamente.*"
   ]
  },
  {
   "cell_type": "markdown",
   "id": "f33da1d1",
   "metadata": {},
   "source": [
    "### Reto 2 - Selenium: Captura del valor del oro"
   ]
  },
  {
   "cell_type": "markdown",
   "id": "31e85677",
   "metadata": {},
   "source": [
    "Como vimos en clase, hay páginas que implementan medidas para evitar el Web Scraping. En la web de https://www.inversoro.es/precio-del-oro/precio-oro-hoy/ apreciamos cómo la página web cara un valor antiguo y pasados unos segundos actualiza. \n",
    "\n",
    "Esto hace que bibliotecas como `request` + `BeautifulSoup` no nos sirva aquí ya que capturamos el instante t=0. Sin embargo, con *Selenium* podemos interactuar en tiempo real mientras el navegador se ejecuta.\n",
    "\n",
    "#### Ejercicio\n",
    "Inspecciona la web, obteniendo la etiqueta HTML donde el valor aparece representado y crea un script que utilice Selenium, cargando la página y capturando  dicho valor en tiempo real cada 5 segundos en un periodo de 1 minuto. Almacena el resultado de dicho valor y del timestamp correspondiente (*[ayuda](https://www.geeksforgeeks.org/get-current-timestamp-using-python/)*)"
   ]
  },
  {
   "cell_type": "code",
   "execution_count": 1,
   "id": "37dd5bc6",
   "metadata": {},
   "outputs": [],
   "source": [
    "from selenium.webdriver.common.by import By\n",
    "import datetime\n",
    "import time\n",
    "import pandas as pd\n"
   ]
  },
  {
   "cell_type": "code",
   "execution_count": 4,
   "id": "2d374af5",
   "metadata": {},
   "outputs": [],
   "source": [
    "# Carga de Driver para Firefox\n",
    "from selenium import webdriver\n",
    "from selenium.webdriver.firefox.service import Service\n",
    "\n",
    "service = Service(executable_path=\"C:/Repos/Utils/geckodriver.exe\")\n",
    "options = webdriver.FirefoxOptions()\n",
    "options.add_argument(\"-private\")"
   ]
  },
  {
   "cell_type": "code",
   "execution_count": null,
   "id": "5cfaaab7",
   "metadata": {},
   "outputs": [
    {
     "data": {
      "text/html": [
       "<div>\n",
       "<style scoped>\n",
       "    .dataframe tbody tr th:only-of-type {\n",
       "        vertical-align: middle;\n",
       "    }\n",
       "\n",
       "    .dataframe tbody tr th {\n",
       "        vertical-align: top;\n",
       "    }\n",
       "\n",
       "    .dataframe thead th {\n",
       "        text-align: right;\n",
       "    }\n",
       "</style>\n",
       "<table border=\"1\" class=\"dataframe\">\n",
       "  <thead>\n",
       "    <tr style=\"text-align: right;\">\n",
       "      <th></th>\n",
       "      <th>timestamp</th>\n",
       "      <th>precioOro</th>\n",
       "    </tr>\n",
       "  </thead>\n",
       "  <tbody>\n",
       "    <tr>\n",
       "      <th>0</th>\n",
       "      <td>2025-04-11 13:54:31.761804</td>\n",
       "      <td>2 833,86 €</td>\n",
       "    </tr>\n",
       "    <tr>\n",
       "      <th>1</th>\n",
       "      <td>2025-04-11 13:54:40.337720</td>\n",
       "      <td>2 833,86 €</td>\n",
       "    </tr>\n",
       "    <tr>\n",
       "      <th>2</th>\n",
       "      <td>2025-04-11 13:54:49.100095</td>\n",
       "      <td>2 836,79 €</td>\n",
       "    </tr>\n",
       "    <tr>\n",
       "      <th>3</th>\n",
       "      <td>2025-04-11 13:54:57.550843</td>\n",
       "      <td>2 833,86 €</td>\n",
       "    </tr>\n",
       "    <tr>\n",
       "      <th>4</th>\n",
       "      <td>2025-04-11 13:55:06.044242</td>\n",
       "      <td>2 833,86 €</td>\n",
       "    </tr>\n",
       "    <tr>\n",
       "      <th>5</th>\n",
       "      <td>2025-04-11 13:55:14.662721</td>\n",
       "      <td>2 836,79 €</td>\n",
       "    </tr>\n",
       "    <tr>\n",
       "      <th>6</th>\n",
       "      <td>2025-04-11 13:55:23.283841</td>\n",
       "      <td>2 836,79 €</td>\n",
       "    </tr>\n",
       "    <tr>\n",
       "      <th>7</th>\n",
       "      <td>2025-04-11 13:55:31.820693</td>\n",
       "      <td>2 833,86 €</td>\n",
       "    </tr>\n",
       "  </tbody>\n",
       "</table>\n",
       "</div>"
      ],
      "text/plain": [
       "                   timestamp   precioOro\n",
       "0 2025-04-11 13:54:31.761804  2 833,86 €\n",
       "1 2025-04-11 13:54:40.337720  2 833,86 €\n",
       "2 2025-04-11 13:54:49.100095  2 836,79 €\n",
       "3 2025-04-11 13:54:57.550843  2 833,86 €\n",
       "4 2025-04-11 13:55:06.044242  2 833,86 €\n",
       "5 2025-04-11 13:55:14.662721  2 836,79 €\n",
       "6 2025-04-11 13:55:23.283841  2 836,79 €\n",
       "7 2025-04-11 13:55:31.820693  2 833,86 €"
      ]
     },
     "execution_count": 32,
     "metadata": {},
     "output_type": "execute_result"
    }
   ],
   "source": [
    "# tras realizar el loop y probar varias veces veo que no se actualiza el precio sin refrescar la página\n",
    "# Pruebo la págiona \"tiempo-real\", y salta captcha siempre, no veo forma de saltarlo\n",
    "# Si uso refresh() también salta captcha\n",
    "# Lo único que me funciona es cargar y cerrar el driver en cada loop:\n",
    "\n",
    "entryList = []\n",
    "start_time = datetime.datetime.now().timestamp()\n",
    "while datetime.datetime.now().timestamp() - start_time < 60:\n",
    "    driver = webdriver.Firefox(service=service, options=options)\n",
    "    driver.get(\"https://www.inversoro.es/precio-del-oro/precio-oro-hoy/\")\n",
    "    time.sleep(2.5)\n",
    "    precio_oro = driver.find_element(By.NAME, \"current_price_field\").text\n",
    "    timestamp = datetime.datetime.now()\n",
    "    entryList.append({\"timestamp\": timestamp, \"precioOro\": precio_oro})\n",
    "   # driver.refresh()\n",
    "    driver.close()\n",
    "goldPriceDF = pd.DataFrame(entryList)\n",
    "goldPriceDF"
   ]
  },
  {
   "cell_type": "code",
   "execution_count": null,
   "id": "937dcb17",
   "metadata": {},
   "outputs": [],
   "source": [
    "driver.close()\n"
   ]
  },
  {
   "cell_type": "markdown",
   "id": "2f60755b",
   "metadata": {},
   "source": [
    "### Reto EXTRA - Selenium, BeautifulSoup y Streamlit: El comparador (simple) de precios 📊📉"
   ]
  },
  {
   "cell_type": "markdown",
   "id": "85538731",
   "metadata": {},
   "source": [
    "Los comparadores de precios <u>es uno de los nichos de mercado más lucrativos en Internet.</u> Dado un producto o servicio a nivel de usuario nos beneficiamos del precio más bajo existente y a nivel de empresa éstas obtienen grandes beneficios gracias a sistemas de referidos o de comisiones por venta realizada.\n",
    "\n",
    "En esta ocasión vamos a realizar un simple comparador de precios basado en el número ISBN. Un ISBN es un código normalizado internacional para libros (International Standard Book Number). Estos estaban compuestos por 10 dígitos hasta diciembre de 2006 pero, desde enero de 2007, tienen una extensión de 13 dígitos. \n",
    "\n",
    "\n",
    "Por ejemplo, el ISBN [9788478884452](https://www.google.es/search?q=9788478884452) (haz click) corresponde al libro \"Harry Potter y la piedra filosofal\".\n",
    "\n",
    "Dado que no disponemos de acceso a APIs de las tiendas principales <u>capturaremos el precio a través de técnicas de Web Sraping.</u>\n",
    "\n",
    "##### Ejercicio \n",
    "\n",
    "El objetivo es realizar la consulta de un ISBN, por ejemplo el de \"Harry Potter y la Piedra filosofal\" en al menos **tres** de las siguientes tiendas propuestas. Captura el primer resultado en EUROS, y devuelve cómo resultado cuál tiene el precio más bajo. \n",
    "\n",
    "Crea un sencillo interfaz en Streamlit que pregunte por el ISBN de un número (entre 10 y 13 dígitos) y devuelva como resultado el primer elemento de cada tienda examinada, con el título, la imagen (si la hubiese), el precio y un enlace para hacer click.\n",
    "\n",
    "Como puntos extra:\n",
    "* Incluye en la comparativa más de las 3 tiendas propuestas.\n",
    "* Incluye por texto posteriormente cuál es la diferencia de precio en euros y en porcentaje respecto al valor más bajo detectado para saber cuánto nos estamos ahorrando.\n",
    "* Crea un diagrama de barras con el precio en cada tienda para representar visualmente el ahorro en precio.\n",
    "\n",
    "Ejemplo de tiendas propuestas:\n",
    "- https://www.casadellibro.com/\n",
    "- https://www.libreriacentral.com/\n",
    "- https://www.iberlibro.com/\n",
    "- https://www.amazon.es/\n",
    "- https://ebay.es\n",
    "- https://www.elcorteingles.es/\n",
    "\n",
    "Recuerda que para cada página debes realizar ingeniería inversa, averiguando cómo se comportan las URLs de cada sitio web para hacer una búsqueda directa.\n",
    "\n",
    "**Pista**: Utiliza Selenium para capturar datos si te resulta request/BeautifulSoup complicado de utilizar.\n",
    "\n",
    "**Extra**: *¿Conoces alguna otra página donde comprar libros? Inclúyela en el comprador*\n",
    "\n",
    "**Extra 2**: *¿Cómo podríamos obtener una evolución del precio durante una semana?*"
   ]
  },
  {
   "cell_type": "code",
   "execution_count": 4,
   "id": "e402237e",
   "metadata": {},
   "outputs": [],
   "source": [
    "import json\n",
    "import requests\n",
    "import streamlit as st\n",
    "from bs4 import BeautifulSoup\n",
    "# from selenium import webdriver\n",
    "from time import sleep\n",
    "\n",
    "from selenium.webdriver.common.by import By\n",
    "import datetime\n",
    "import time\n",
    "import pandas as pd\n",
    "# Carga de Driver para Firefox\n",
    "from selenium import webdriver\n",
    "from selenium.webdriver.firefox.service import Service\n",
    "from selenium.webdriver.support.wait import WebDriverWait\n",
    "from selenium.common.exceptions import NoSuchElementException\n",
    "\n",
    "from selenium.webdriver import ActionChains\n",
    "from selenium.webdriver.common.actions.wheel_input import ScrollOrigin"
   ]
  },
  {
   "cell_type": "code",
   "execution_count": 37,
   "id": "75a22ed8",
   "metadata": {},
   "outputs": [
    {
     "name": "stdout",
     "output_type": "stream",
     "text": [
      "https://www.casadellibro.com/?query=9788478884452\n",
      "403\n",
      "[]\n"
     ]
    }
   ],
   "source": [
    "isbn = '9788478884452'\n",
    "url = f\"https://www.casadellibro.com/?query={isbn}\"\n",
    "print(url)\n",
    "page = requests.get(url)\n",
    "print(page.status_code)\n",
    "soup = BeautifulSoup(page.content,\"html.parser\")\n",
    "priceList = soup.find_all(\"span\", class_=\"x-currency\")\n",
    "print(priceList)\n",
    "\n",
    "with open(\"casaLibroBs4.txt\", \"wb\") as cacheFile:\n",
    "        cacheFile.write(page.content)"
   ]
  },
  {
   "cell_type": "markdown",
   "id": "01f13983",
   "metadata": {},
   "source": [
    "## Con beautifulSoup obtengo \"access denied\""
   ]
  },
  {
   "cell_type": "code",
   "execution_count": null,
   "id": "3403b5f1",
   "metadata": {},
   "outputs": [
    {
     "ename": "",
     "evalue": "",
     "output_type": "error",
     "traceback": [
      "\u001b[1;31mThe Kernel crashed while executing code in the current cell or a previous cell. \n",
      "\u001b[1;31mPlease review the code in the cell(s) to identify a possible cause of the failure. \n",
      "\u001b[1;31mClick <a href='https://aka.ms/vscodeJupyterKernelCrash'>here</a> for more info. \n",
      "\u001b[1;31mView Jupyter <a href='command:jupyter.viewOutput'>log</a> for further details."
     ]
    }
   ],
   "source": [
    "driver.close()"
   ]
  },
  {
   "cell_type": "code",
   "execution_count": 3,
   "id": "5dde48f1",
   "metadata": {},
   "outputs": [],
   "source": [
    "\n",
    "service = Service(executable_path=\"C:/Repos/Utils/geckodriver.exe\")\n",
    "options = webdriver.FirefoxOptions()\n",
    "options.add_argument(\"-private\")\n",
    "\n"
   ]
  },
  {
   "cell_type": "code",
   "execution_count": 5,
   "id": "3ec5b815",
   "metadata": {},
   "outputs": [],
   "source": [
    "\n",
    "isbn = '9788478884452'\n",
    "url = f\"https://www.casadellibro.com/?query={isbn}\"\n",
    "driver = webdriver.Firefox(service=service, options=options)\n",
    "driver.get(url)"
   ]
  },
  {
   "cell_type": "code",
   "execution_count": null,
   "id": "8d10a11a",
   "metadata": {},
   "outputs": [],
   "source": []
  },
  {
   "cell_type": "code",
   "execution_count": 28,
   "id": "ffa6331a",
   "metadata": {},
   "outputs": [
    {
     "name": "stdout",
     "output_type": "stream",
     "text": [
      "[]\n"
     ]
    }
   ],
   "source": [
    "soup = BeautifulSoup(driver.page_source,\"html.parser\")\n",
    "priceList = soup.find_all(\"span\", class_=\"x-currency\")\n",
    "print(priceList)\n",
    "\n",
    "with open(\"casaLibroBs4.html\", \"w\",  encoding='utf-8') as cacheFile:\n",
    "        cacheFile.write(driver.page_source)"
   ]
  },
  {
   "cell_type": "code",
   "execution_count": 39,
   "id": "b461cb11",
   "metadata": {},
   "outputs": [],
   "source": [
    "search = driver.find_element(By.XPATH, \"//input[@id='empathy-search']\")\n",
    "search.send_keys(isbn)"
   ]
  },
  {
   "cell_type": "code",
   "execution_count": 42,
   "id": "404460ff",
   "metadata": {},
   "outputs": [
    {
     "name": "stdout",
     "output_type": "stream",
     "text": [
      "[]\n"
     ]
    }
   ],
   "source": [
    "links = driver.find_elements(By.XPATH, \"//article[@data-test='search-grid-result']\")\n",
    "print(links)\n"
   ]
  },
  {
   "cell_type": "code",
   "execution_count": 23,
   "id": "57f9e5ce",
   "metadata": {},
   "outputs": [],
   "source": [
    "# availability = driver.find_element(By.XPATH, \"//div[@data_test='availability']\")\n",
    "# availability.find_elements(By.XPATH, \"//li[@data-test='base-filters-item]\")\n",
    "# print(len(availability))\n",
    "\n",
    "# --- EXPAND SHADOW DOM ROOT ---\n",
    "def expand_shadow_element(element):\n",
    "    shadow_root = driver.execute_script(\"return arguments[0].shadowRoot\", element)\n",
    "    return shadow_root\n",
    "\n",
    "root1 = driver.find_element(By.XPATH, \"//div[@class='x-root-container']\")\n",
    "shadow_root1 = expand_shadow_element(root1)\n",
    "\n",
    "button = shadow_root1.find_element(By.CSS_SELECTOR, 'button[data-test=\"toggle-facets-button\"]')\n",
    "button.click()\n",
    "# availability = shadow_root1.find_element(By.CSS_SELECTOR, 'div[data-test=\"availability\"]')"
   ]
  },
  {
   "cell_type": "code",
   "execution_count": 24,
   "id": "ecfed4cf",
   "metadata": {},
   "outputs": [],
   "source": [
    "availability = shadow_root1.find_element(By.CSS_SELECTOR, 'div[data-test=\"availability\"]')\n",
    "# print(len(availability))"
   ]
  },
  {
   "cell_type": "code",
   "execution_count": 25,
   "id": "6510894d",
   "metadata": {},
   "outputs": [],
   "source": [
    "availability.click()"
   ]
  },
  {
   "cell_type": "code",
   "execution_count": 10,
   "id": "0c066125",
   "metadata": {},
   "outputs": [
    {
     "ename": "WebDriverException",
     "evalue": "Message: Failed to decode response from marionette\n",
     "output_type": "error",
     "traceback": [
      "\u001b[1;31m---------------------------------------------------------------------------\u001b[0m",
      "\u001b[1;31mWebDriverException\u001b[0m                        Traceback (most recent call last)",
      "Cell \u001b[1;32mIn[10], line 1\u001b[0m\n\u001b[1;32m----> 1\u001b[0m \u001b[43mdriver\u001b[49m\u001b[38;5;241;43m.\u001b[39;49m\u001b[43mclose\u001b[49m\u001b[43m(\u001b[49m\u001b[43m)\u001b[49m\n",
      "File \u001b[1;32m~\\AppData\\Roaming\\Python\\Python313\\site-packages\\selenium\\webdriver\\remote\\webdriver.py:579\u001b[0m, in \u001b[0;36mWebDriver.close\u001b[1;34m(self)\u001b[0m\n\u001b[0;32m    572\u001b[0m \u001b[38;5;28;01mdef\u001b[39;00m\u001b[38;5;250m \u001b[39m\u001b[38;5;21mclose\u001b[39m(\u001b[38;5;28mself\u001b[39m) \u001b[38;5;241m-\u001b[39m\u001b[38;5;241m>\u001b[39m \u001b[38;5;28;01mNone\u001b[39;00m:\n\u001b[0;32m    573\u001b[0m \u001b[38;5;250m    \u001b[39m\u001b[38;5;124;03m\"\"\"Closes the current window.\u001b[39;00m\n\u001b[0;32m    574\u001b[0m \n\u001b[0;32m    575\u001b[0m \u001b[38;5;124;03m    Example:\u001b[39;00m\n\u001b[0;32m    576\u001b[0m \u001b[38;5;124;03m    --------\u001b[39;00m\n\u001b[0;32m    577\u001b[0m \u001b[38;5;124;03m    >>> driver.close()\u001b[39;00m\n\u001b[0;32m    578\u001b[0m \u001b[38;5;124;03m    \"\"\"\u001b[39;00m\n\u001b[1;32m--> 579\u001b[0m     \u001b[38;5;28;43mself\u001b[39;49m\u001b[38;5;241;43m.\u001b[39;49m\u001b[43mexecute\u001b[49m\u001b[43m(\u001b[49m\u001b[43mCommand\u001b[49m\u001b[38;5;241;43m.\u001b[39;49m\u001b[43mCLOSE\u001b[49m\u001b[43m)\u001b[49m\n",
      "File \u001b[1;32m~\\AppData\\Roaming\\Python\\Python313\\site-packages\\selenium\\webdriver\\remote\\webdriver.py:429\u001b[0m, in \u001b[0;36mWebDriver.execute\u001b[1;34m(self, driver_command, params)\u001b[0m\n\u001b[0;32m    427\u001b[0m response \u001b[38;5;241m=\u001b[39m \u001b[38;5;28mself\u001b[39m\u001b[38;5;241m.\u001b[39mcommand_executor\u001b[38;5;241m.\u001b[39mexecute(driver_command, params)\n\u001b[0;32m    428\u001b[0m \u001b[38;5;28;01mif\u001b[39;00m response:\n\u001b[1;32m--> 429\u001b[0m     \u001b[38;5;28;43mself\u001b[39;49m\u001b[38;5;241;43m.\u001b[39;49m\u001b[43merror_handler\u001b[49m\u001b[38;5;241;43m.\u001b[39;49m\u001b[43mcheck_response\u001b[49m\u001b[43m(\u001b[49m\u001b[43mresponse\u001b[49m\u001b[43m)\u001b[49m\n\u001b[0;32m    430\u001b[0m     response[\u001b[38;5;124m\"\u001b[39m\u001b[38;5;124mvalue\u001b[39m\u001b[38;5;124m\"\u001b[39m] \u001b[38;5;241m=\u001b[39m \u001b[38;5;28mself\u001b[39m\u001b[38;5;241m.\u001b[39m_unwrap_value(response\u001b[38;5;241m.\u001b[39mget(\u001b[38;5;124m\"\u001b[39m\u001b[38;5;124mvalue\u001b[39m\u001b[38;5;124m\"\u001b[39m, \u001b[38;5;28;01mNone\u001b[39;00m))\n\u001b[0;32m    431\u001b[0m     \u001b[38;5;28;01mreturn\u001b[39;00m response\n",
      "File \u001b[1;32m~\\AppData\\Roaming\\Python\\Python313\\site-packages\\selenium\\webdriver\\remote\\errorhandler.py:232\u001b[0m, in \u001b[0;36mErrorHandler.check_response\u001b[1;34m(self, response)\u001b[0m\n\u001b[0;32m    230\u001b[0m         alert_text \u001b[38;5;241m=\u001b[39m value[\u001b[38;5;124m\"\u001b[39m\u001b[38;5;124malert\u001b[39m\u001b[38;5;124m\"\u001b[39m]\u001b[38;5;241m.\u001b[39mget(\u001b[38;5;124m\"\u001b[39m\u001b[38;5;124mtext\u001b[39m\u001b[38;5;124m\"\u001b[39m)\n\u001b[0;32m    231\u001b[0m     \u001b[38;5;28;01mraise\u001b[39;00m exception_class(message, screen, stacktrace, alert_text)  \u001b[38;5;66;03m# type: ignore[call-arg]  # mypy is not smart enough here\u001b[39;00m\n\u001b[1;32m--> 232\u001b[0m \u001b[38;5;28;01mraise\u001b[39;00m exception_class(message, screen, stacktrace)\n",
      "\u001b[1;31mWebDriverException\u001b[0m: Message: Failed to decode response from marionette\n"
     ]
    }
   ],
   "source": [
    "driver.close()"
   ]
  },
  {
   "cell_type": "code",
   "execution_count": 15,
   "id": "59a9daaf",
   "metadata": {},
   "outputs": [],
   "source": [
    "scroll_origin = ScrollOrigin.from_element(availability)\n",
    "ActionChains(driver)\\\n",
    "    .scroll_from_origin(scroll_origin, 0, 2000)\\\n",
    "    .perform()\n"
   ]
  },
  {
   "cell_type": "code",
   "execution_count": null,
   "id": "b9f1bcc1",
   "metadata": {},
   "outputs": [],
   "source": [
    "html = shadow_root1.find_element(By.XPATH, \"div[class='x-scroll x-flex-auto x-p-40 x-pr-24 x-pt-0']\")\n",
    "# html.send_keys(Keys.END)"
   ]
  },
  {
   "cell_type": "code",
   "execution_count": 39,
   "id": "dd9d6622",
   "metadata": {},
   "outputs": [
    {
     "name": "stdout",
     "output_type": "stream",
     "text": [
      "Todo\n",
      "con Stock\n",
      "(43)\n",
      "agotado\n",
      "(31)\n",
      "descatalogado\n",
      "(18)\n",
      "disponible\n",
      "(14)\n",
      "preventa\n",
      "(1)\n"
     ]
    }
   ],
   "source": [
    "# checkboxList = availability.find_elements(By.CSS_SELECTOR, 'li[data-test=\"base-filters-item\"]')\n",
    "# print(checkboxList)\n",
    "\n",
    "# print(checkboxList[1].text)\n",
    "# checkboxList[1].click()\n",
    "\n",
    "for checkbox in availability.find_elements(By.CSS_SELECTOR, 'li[data-test=\"base-filters-item\"]'):\n",
    "    print(checkbox.text)\n",
    "    if checkbox.text == 'disponible':\n",
    "        checkbox.click()\n",
    "        print('click')\n",
    "        break"
   ]
  },
  {
   "cell_type": "code",
   "execution_count": 48,
   "id": "983e4649",
   "metadata": {},
   "outputs": [
    {
     "name": "stdout",
     "output_type": "stream",
     "text": [
      "con Stock\n",
      "(43)\n",
      "agotado\n",
      "(31)\n",
      "descatalogado\n",
      "(18)\n",
      "disponible\n",
      "(14)\n",
      "click\n"
     ]
    }
   ],
   "source": [
    "for checkbox in availability.find_elements(By.CSS_SELECTOR, 'button[data-test=\"filter\"]'):\n",
    "    print(checkbox.text)\n",
    "    if 'disponible' in checkbox.text:\n",
    "        checkbox.click()\n",
    "        print('click')\n",
    "        break"
   ]
  },
  {
   "cell_type": "code",
   "execution_count": 43,
   "id": "acdd8fa3",
   "metadata": {},
   "outputs": [
    {
     "name": "stdout",
     "output_type": "stream",
     "text": [
      "disponible\n",
      "(14)\n"
     ]
    }
   ],
   "source": [
    "print(availability.find_elements(By.CSS_SELECTOR, 'button[data-test=\"filter\"]')[3].text)\n",
    "availability.find_elements(By.CSS_SELECTOR, 'button[data-test=\"filter\"]')[3].click()"
   ]
  },
  {
   "cell_type": "code",
   "execution_count": 222,
   "id": "b998390d",
   "metadata": {},
   "outputs": [],
   "source": [
    "sortButton = shadow_root1.find_element(By.CSS_SELECTOR, 'div[data-test=\"sort\"]')\n",
    "sortButton.click()"
   ]
  },
  {
   "cell_type": "code",
   "execution_count": 228,
   "id": "242b08fa",
   "metadata": {},
   "outputs": [],
   "source": [
    "sortButton.click()"
   ]
  },
  {
   "cell_type": "code",
   "execution_count": 202,
   "id": "9408400f",
   "metadata": {},
   "outputs": [
    {
     "name": "stdout",
     "output_type": "stream",
     "text": [
      "Precio: De menor a mayor\n",
      "7\n"
     ]
    }
   ],
   "source": [
    "checkboxListSort = sortButton.find_elements(By.CSS_SELECTOR, 'button[data-test=\"sort-picker-button\"]')\n",
    "print(checkboxListSort[2].text)\n",
    "print(len(checkboxListSort))"
   ]
  },
  {
   "cell_type": "code",
   "execution_count": 203,
   "id": "592c23b1",
   "metadata": {},
   "outputs": [],
   "source": [
    "checkboxListSort[2].click()"
   ]
  },
  {
   "cell_type": "code",
   "execution_count": null,
   "id": "d7310c8a",
   "metadata": {},
   "outputs": [
    {
     "ename": "MoveTargetOutOfBoundsException",
     "evalue": "Message: Move target (1006, -102) is out of bounds of viewport dimensions (1280, 601)\nStacktrace:\nRemoteError@chrome://remote/content/shared/RemoteError.sys.mjs:8:8\nWebDriverError@chrome://remote/content/shared/webdriver/Errors.sys.mjs:199:5\nMoveTargetOutOfBoundsError@chrome://remote/content/shared/webdriver/Errors.sys.mjs:518:5\nassertTargetInViewPort@chrome://remote/content/shared/webdriver/Actions.sys.mjs:3103:11\n#assertInViewPort@chrome://remote/content/marionette/actors/MarionetteCommandsChild.sys.mjs:115:17\nreceiveMessage@chrome://remote/content/marionette/actors/MarionetteCommandsChild.sys.mjs:210:42\n",
     "output_type": "error",
     "traceback": [
      "\u001b[1;31m---------------------------------------------------------------------------\u001b[0m",
      "\u001b[1;31mMoveTargetOutOfBoundsException\u001b[0m            Traceback (most recent call last)",
      "Cell \u001b[1;32mIn[215], line 4\u001b[0m\n\u001b[0;32m      1\u001b[0m scroll_origin \u001b[38;5;241m=\u001b[39m ScrollOrigin\u001b[38;5;241m.\u001b[39mfrom_element(sortButton)\n\u001b[0;32m      2\u001b[0m \u001b[43mActionChains\u001b[49m\u001b[43m(\u001b[49m\u001b[43mdriver\u001b[49m\u001b[43m)\u001b[49m\u001b[43m\\\u001b[49m\n\u001b[0;32m      3\u001b[0m \u001b[43m    \u001b[49m\u001b[38;5;241;43m.\u001b[39;49m\u001b[43mscroll_from_origin\u001b[49m\u001b[43m(\u001b[49m\u001b[43mscroll_origin\u001b[49m\u001b[43m,\u001b[49m\u001b[43m \u001b[49m\u001b[38;5;241;43m0\u001b[39;49m\u001b[43m,\u001b[49m\u001b[43m \u001b[49m\u001b[38;5;241;43m4000\u001b[39;49m\u001b[43m)\u001b[49m\u001b[43m\\\u001b[49m\n\u001b[1;32m----> 4\u001b[0m \u001b[43m    \u001b[49m\u001b[38;5;241;43m.\u001b[39;49m\u001b[43mperform\u001b[49m\u001b[43m(\u001b[49m\u001b[43m)\u001b[49m\n\u001b[0;32m      6\u001b[0m \u001b[38;5;66;03m# modalFooter = driver.find_element(By.CSS_SELECTOR, 'button[data-test=\"filters-show-more\"]')\u001b[39;00m\n\u001b[0;32m      7\u001b[0m \u001b[38;5;66;03m# ActionChains(driver)\\\u001b[39;00m\n\u001b[0;32m      8\u001b[0m \u001b[38;5;66;03m#     .scroll_to_element(modalFooter)\\\u001b[39;00m\n\u001b[0;32m      9\u001b[0m \u001b[38;5;66;03m#     .perform()\u001b[39;00m\n",
      "File \u001b[1;32m~\\AppData\\Roaming\\Python\\Python313\\site-packages\\selenium\\webdriver\\common\\action_chains.py:94\u001b[0m, in \u001b[0;36mActionChains.perform\u001b[1;34m(self)\u001b[0m\n\u001b[0;32m     92\u001b[0m \u001b[38;5;28;01mdef\u001b[39;00m\u001b[38;5;250m \u001b[39m\u001b[38;5;21mperform\u001b[39m(\u001b[38;5;28mself\u001b[39m) \u001b[38;5;241m-\u001b[39m\u001b[38;5;241m>\u001b[39m \u001b[38;5;28;01mNone\u001b[39;00m:\n\u001b[0;32m     93\u001b[0m \u001b[38;5;250m    \u001b[39m\u001b[38;5;124;03m\"\"\"Performs all stored actions.\"\"\"\u001b[39;00m\n\u001b[1;32m---> 94\u001b[0m     \u001b[38;5;28;43mself\u001b[39;49m\u001b[38;5;241;43m.\u001b[39;49m\u001b[43mw3c_actions\u001b[49m\u001b[38;5;241;43m.\u001b[39;49m\u001b[43mperform\u001b[49m\u001b[43m(\u001b[49m\u001b[43m)\u001b[49m\n",
      "File \u001b[1;32m~\\AppData\\Roaming\\Python\\Python313\\site-packages\\selenium\\webdriver\\common\\actions\\action_builder.py:170\u001b[0m, in \u001b[0;36mActionBuilder.perform\u001b[1;34m(self)\u001b[0m\n\u001b[0;32m    168\u001b[0m         enc[\u001b[38;5;124m\"\u001b[39m\u001b[38;5;124mactions\u001b[39m\u001b[38;5;124m\"\u001b[39m]\u001b[38;5;241m.\u001b[39mappend(encoded)\n\u001b[0;32m    169\u001b[0m         device\u001b[38;5;241m.\u001b[39mactions \u001b[38;5;241m=\u001b[39m []\n\u001b[1;32m--> 170\u001b[0m \u001b[38;5;28;43mself\u001b[39;49m\u001b[38;5;241;43m.\u001b[39;49m\u001b[43mdriver\u001b[49m\u001b[38;5;241;43m.\u001b[39;49m\u001b[43mexecute\u001b[49m\u001b[43m(\u001b[49m\u001b[43mCommand\u001b[49m\u001b[38;5;241;43m.\u001b[39;49m\u001b[43mW3C_ACTIONS\u001b[49m\u001b[43m,\u001b[49m\u001b[43m \u001b[49m\u001b[43menc\u001b[49m\u001b[43m)\u001b[49m\n",
      "File \u001b[1;32m~\\AppData\\Roaming\\Python\\Python313\\site-packages\\selenium\\webdriver\\remote\\webdriver.py:429\u001b[0m, in \u001b[0;36mWebDriver.execute\u001b[1;34m(self, driver_command, params)\u001b[0m\n\u001b[0;32m    427\u001b[0m response \u001b[38;5;241m=\u001b[39m \u001b[38;5;28mself\u001b[39m\u001b[38;5;241m.\u001b[39mcommand_executor\u001b[38;5;241m.\u001b[39mexecute(driver_command, params)\n\u001b[0;32m    428\u001b[0m \u001b[38;5;28;01mif\u001b[39;00m response:\n\u001b[1;32m--> 429\u001b[0m     \u001b[38;5;28;43mself\u001b[39;49m\u001b[38;5;241;43m.\u001b[39;49m\u001b[43merror_handler\u001b[49m\u001b[38;5;241;43m.\u001b[39;49m\u001b[43mcheck_response\u001b[49m\u001b[43m(\u001b[49m\u001b[43mresponse\u001b[49m\u001b[43m)\u001b[49m\n\u001b[0;32m    430\u001b[0m     response[\u001b[38;5;124m\"\u001b[39m\u001b[38;5;124mvalue\u001b[39m\u001b[38;5;124m\"\u001b[39m] \u001b[38;5;241m=\u001b[39m \u001b[38;5;28mself\u001b[39m\u001b[38;5;241m.\u001b[39m_unwrap_value(response\u001b[38;5;241m.\u001b[39mget(\u001b[38;5;124m\"\u001b[39m\u001b[38;5;124mvalue\u001b[39m\u001b[38;5;124m\"\u001b[39m, \u001b[38;5;28;01mNone\u001b[39;00m))\n\u001b[0;32m    431\u001b[0m     \u001b[38;5;28;01mreturn\u001b[39;00m response\n",
      "File \u001b[1;32m~\\AppData\\Roaming\\Python\\Python313\\site-packages\\selenium\\webdriver\\remote\\errorhandler.py:232\u001b[0m, in \u001b[0;36mErrorHandler.check_response\u001b[1;34m(self, response)\u001b[0m\n\u001b[0;32m    230\u001b[0m         alert_text \u001b[38;5;241m=\u001b[39m value[\u001b[38;5;124m\"\u001b[39m\u001b[38;5;124malert\u001b[39m\u001b[38;5;124m\"\u001b[39m]\u001b[38;5;241m.\u001b[39mget(\u001b[38;5;124m\"\u001b[39m\u001b[38;5;124mtext\u001b[39m\u001b[38;5;124m\"\u001b[39m)\n\u001b[0;32m    231\u001b[0m     \u001b[38;5;28;01mraise\u001b[39;00m exception_class(message, screen, stacktrace, alert_text)  \u001b[38;5;66;03m# type: ignore[call-arg]  # mypy is not smart enough here\u001b[39;00m\n\u001b[1;32m--> 232\u001b[0m \u001b[38;5;28;01mraise\u001b[39;00m exception_class(message, screen, stacktrace)\n",
      "\u001b[1;31mMoveTargetOutOfBoundsException\u001b[0m: Message: Move target (1006, -102) is out of bounds of viewport dimensions (1280, 601)\nStacktrace:\nRemoteError@chrome://remote/content/shared/RemoteError.sys.mjs:8:8\nWebDriverError@chrome://remote/content/shared/webdriver/Errors.sys.mjs:199:5\nMoveTargetOutOfBoundsError@chrome://remote/content/shared/webdriver/Errors.sys.mjs:518:5\nassertTargetInViewPort@chrome://remote/content/shared/webdriver/Actions.sys.mjs:3103:11\n#assertInViewPort@chrome://remote/content/marionette/actors/MarionetteCommandsChild.sys.mjs:115:17\nreceiveMessage@chrome://remote/content/marionette/actors/MarionetteCommandsChild.sys.mjs:210:42\n"
     ]
    }
   ],
   "source": [
    "scroll_origin = ScrollOrigin.from_element(sortButton)\n",
    "ActionChains(driver)\\\n",
    "    .scroll_from_origin(scroll_origin, 0, 3500)\\\n",
    "    .perform()\n",
    "\n",
    "# modalFooter = driver.find_element(By.CSS_SELECTOR, 'button[data-test=\"filters-show-more\"]')\n",
    "# ActionChains(driver)\\\n",
    "#     .scroll_to_element(modalFooter)\\\n",
    "#     .perform()\n",
    "\n"
   ]
  },
  {
   "cell_type": "code",
   "execution_count": null,
   "id": "b6cbf2a9",
   "metadata": {},
   "outputs": [],
   "source": []
  },
  {
   "cell_type": "code",
   "execution_count": null,
   "id": "3f883a1b",
   "metadata": {},
   "outputs": [],
   "source": []
  },
  {
   "cell_type": "code",
   "execution_count": null,
   "id": "0affcd3c",
   "metadata": {},
   "outputs": [],
   "source": []
  },
  {
   "cell_type": "code",
   "execution_count": 44,
   "id": "e06e2701",
   "metadata": {},
   "outputs": [
    {
     "name": "stdout",
     "output_type": "stream",
     "text": [
      "[<selenium.webdriver.remote.webelement.WebElement (session=\"ae533682-0573-4cf9-8819-f64c49859626\", element=\"15fd8340-2d7b-4cd1-acea-96637e77e9fc\")>]\n"
     ]
    }
   ],
   "source": [
    "links = driver.find_elements(By.XPATH, \"//a[@data-test='x-result-link']\")\n",
    "links = driver.find_elements(By.XPATH, \"//div[@data-test='x-relative']\")\n",
    "links = driver.find_elements(By.XPATH, \"//input[@id='empathy-search']\")\n",
    "print(links)\n"
   ]
  },
  {
   "cell_type": "code",
   "execution_count": 47,
   "id": "ee39abcc",
   "metadata": {},
   "outputs": [],
   "source": [
    "def expand_shadow_element(element):\n",
    "    shadow_root = driver.execute_script('return arguments[0].shadowRoot', element)\n",
    "    return shadow_root"
   ]
  },
  {
   "cell_type": "code",
   "execution_count": 62,
   "id": "449e058f",
   "metadata": {},
   "outputs": [
    {
     "name": "stdout",
     "output_type": "stream",
     "text": [
      "<selenium.webdriver.remote.webelement.WebElement (session=\"ae533682-0573-4cf9-8819-f64c49859626\", element=\"493cd458-721b-4237-9e45-cb542d2524cb\")>\n",
      "16,95 €\n",
      "Element found: 16,10 €\n",
      "16,10 €\n"
     ]
    }
   ],
   "source": [
    "root1 = driver.find_element(By.XPATH, \"//div[@class='x-root-container']\")\n",
    "print(root1)\n",
    "shadow_root1 = expand_shadow_element(root1)\n",
    "bookPrice = shadow_root1.find_elements(By.CLASS_NAME, \"x-currency\")\n",
    "print(bookPrice[0].text)\n",
    "\n",
    "# bookPrice1 = shadow_root1.find_elements(By.XPATH, \"//div[@data-test='result-previous-price']\")\n",
    "bookPrice1 = shadow_root1.find_elements(By.CSS_SELECTOR, 'div[data-test=\"result-current-price\"]')\n",
    "\n",
    "try:\n",
    "    bookPrice2 = shadow_root1.find_element(By.CSS_SELECTOR, 'div[data-test=\"result-current-price\"]')\n",
    "    print(\"Element found:\", bookPrice2.text)\n",
    "except NoSuchElementException:\n",
    "    print(\"Element not found.\")\n",
    "\n",
    "print(bookPrice1[0].text)"
   ]
  },
  {
   "cell_type": "code",
   "execution_count": 18,
   "id": "d2ede9c4",
   "metadata": {},
   "outputs": [
    {
     "name": "stdout",
     "output_type": "stream",
     "text": [
      "[]\n",
      "[]\n",
      "[]\n",
      "[]\n"
     ]
    }
   ],
   "source": [
    "\n",
    "listaPrecios = driver.find_elements(By.CLASS_NAME, \"x-currency\")\n",
    "print(listaPrecios)\n",
    "listaPrecios2 = driver.find_elements(By.XPATH, \"/div/div/div[1]/div/div[3]/div[3]/div/ul/li/article/a[2]/div[1]/div[2]/span\")\n",
    "print(listaPrecios2)\n",
    "listaPrecios3 = driver.find_elements(By.CSS_SELECTOR, 'div[data-test=\"result-current-price\"]')\n",
    "print(listaPrecios3)\n",
    "listaPrecios4 = driver.find_elements(By.XPATH, \"//*[@data-test='result-current-price']/span\")\n",
    "print(listaPrecios4)\n"
   ]
  },
  {
   "cell_type": "code",
   "execution_count": 13,
   "id": "c371bcbd",
   "metadata": {},
   "outputs": [
    {
     "name": "stdout",
     "output_type": "stream",
     "text": [
      "[]\n",
      "[<selenium.webdriver.remote.webelement.WebElement (session=\"ae533682-0573-4cf9-8819-f64c49859626\", element=\"455293ad-f0f4-45ca-baf8-20e84364edb5\")>, <selenium.webdriver.remote.webelement.WebElement (session=\"ae533682-0573-4cf9-8819-f64c49859626\", element=\"e5b900a6-2ea4-4f3f-aa00-bd422ba79338\")>, <selenium.webdriver.remote.webelement.WebElement (session=\"ae533682-0573-4cf9-8819-f64c49859626\", element=\"5d6145ed-371b-43b0-821e-1ad7a7de0157\")>, <selenium.webdriver.remote.webelement.WebElement (session=\"ae533682-0573-4cf9-8819-f64c49859626\", element=\"74306c36-5f68-4e6e-9579-dd6164fb3ac5\")>, <selenium.webdriver.remote.webelement.WebElement (session=\"ae533682-0573-4cf9-8819-f64c49859626\", element=\"1c1462b9-0131-4c58-a1b0-1b9cf4118398\")>, <selenium.webdriver.remote.webelement.WebElement (session=\"ae533682-0573-4cf9-8819-f64c49859626\", element=\"18ba1d59-da19-4f00-8b03-8c897392c621\")>, <selenium.webdriver.remote.webelement.WebElement (session=\"ae533682-0573-4cf9-8819-f64c49859626\", element=\"e3812476-a742-4628-a2c4-ac21631448ce\")>]\n"
     ]
    }
   ],
   "source": [
    "listaPrecios4 = driver.find_elements(By.CSS_SELECTOR, 'h2[data-test=\"result-title\"]')\n",
    "print(listaPrecios4)\n",
    "listaPrecios5 = driver.find_elements(By.TAG_NAME, 'h2')\n",
    "print(listaPrecios5)"
   ]
  },
  {
   "cell_type": "code",
   "execution_count": null,
   "id": "621e0bb8",
   "metadata": {},
   "outputs": [
    {
     "name": "stdout",
     "output_type": "stream",
     "text": [
      "[]\n"
     ]
    }
   ],
   "source": [
    "listaPrecios = driver.find_elements(By.CLASS_NAME, \"x-currency\")\n",
    "print(listaPrecios)\n",
    "acceptCookies = driver.find_element(By.XPATH, '//*[@id=\"onetrust-accept-btn-handler\"]')\n",
    "\n",
    "acceptCookies.click()\n"
   ]
  },
  {
   "cell_type": "code",
   "execution_count": 35,
   "id": "d89ee1b0",
   "metadata": {},
   "outputs": [],
   "source": [
    "url2 = f\"https://www.casadellibro.com\"\n",
    "driver.get(url2)\n",
    "with open(\"casaLibroDriver.html\", \"w\",  encoding='utf-8') as cacheFile:\n",
    "        cacheFile.write(driver.page_source)"
   ]
  },
  {
   "cell_type": "code",
   "execution_count": null,
   "id": "bebbc732",
   "metadata": {},
   "outputs": [],
   "source": [
    "driver.refresh()"
   ]
  },
  {
   "cell_type": "code",
   "execution_count": 40,
   "id": "831f9e90",
   "metadata": {},
   "outputs": [
    {
     "ename": "TimeoutException",
     "evalue": "Message: \nStacktrace:\nRemoteError@chrome://remote/content/shared/RemoteError.sys.mjs:8:8\nWebDriverError@chrome://remote/content/shared/webdriver/Errors.sys.mjs:199:5\nNoSuchElementError@chrome://remote/content/shared/webdriver/Errors.sys.mjs:552:5\ndom.find/</<@chrome://remote/content/shared/DOM.sys.mjs:136:16\n",
     "output_type": "error",
     "traceback": [
      "\u001b[1;31m---------------------------------------------------------------------------\u001b[0m",
      "\u001b[1;31mTimeoutException\u001b[0m                          Traceback (most recent call last)",
      "Cell \u001b[1;32mIn[40], line 6\u001b[0m\n\u001b[0;32m      4\u001b[0m driver\u001b[38;5;241m.\u001b[39mget(url)\n\u001b[0;32m      5\u001b[0m wait \u001b[38;5;241m=\u001b[39m WebDriverWait(driver, timeout\u001b[38;5;241m=\u001b[39m\u001b[38;5;241m2\u001b[39m)\n\u001b[1;32m----> 6\u001b[0m \u001b[43mwait\u001b[49m\u001b[38;5;241;43m.\u001b[39;49m\u001b[43muntil\u001b[49m\u001b[43m(\u001b[49m\u001b[38;5;28;43;01mlambda\u001b[39;49;00m\u001b[43m \u001b[49m\u001b[43m_\u001b[49m\u001b[43m \u001b[49m\u001b[43m:\u001b[49m\u001b[43m \u001b[49m\u001b[43mdriver\u001b[49m\u001b[38;5;241;43m.\u001b[39;49m\u001b[43mfind_element\u001b[49m\u001b[43m(\u001b[49m\u001b[43mBy\u001b[49m\u001b[38;5;241;43m.\u001b[39;49m\u001b[43mCLASS_NAME\u001b[49m\u001b[43m,\u001b[49m\u001b[43m \u001b[49m\u001b[38;5;124;43m\"\u001b[39;49m\u001b[38;5;124;43mx-currency\u001b[39;49m\u001b[38;5;124;43m\"\u001b[39;49m\u001b[43m)\u001b[49m\u001b[38;5;241;43m.\u001b[39;49m\u001b[43mis_displayed\u001b[49m\u001b[43m(\u001b[49m\u001b[43m)\u001b[49m\u001b[43m)\u001b[49m\n\u001b[0;32m      7\u001b[0m listaPrecios \u001b[38;5;241m=\u001b[39m driver\u001b[38;5;241m.\u001b[39mfind_elements(By\u001b[38;5;241m.\u001b[39mCLASS_NAME, \u001b[38;5;124m\"\u001b[39m\u001b[38;5;124mx-currency\u001b[39m\u001b[38;5;124m\"\u001b[39m)\n\u001b[0;32m      8\u001b[0m \u001b[38;5;66;03m# //*[@id=\"onetrust-accept-btn-handler\"]\u001b[39;00m\n",
      "File \u001b[1;32m~\\AppData\\Roaming\\Python\\Python313\\site-packages\\selenium\\webdriver\\support\\wait.py:146\u001b[0m, in \u001b[0;36mWebDriverWait.until\u001b[1;34m(self, method, message)\u001b[0m\n\u001b[0;32m    144\u001b[0m         \u001b[38;5;28;01mbreak\u001b[39;00m\n\u001b[0;32m    145\u001b[0m     time\u001b[38;5;241m.\u001b[39msleep(\u001b[38;5;28mself\u001b[39m\u001b[38;5;241m.\u001b[39m_poll)\n\u001b[1;32m--> 146\u001b[0m \u001b[38;5;28;01mraise\u001b[39;00m TimeoutException(message, screen, stacktrace)\n",
      "\u001b[1;31mTimeoutException\u001b[0m: Message: \nStacktrace:\nRemoteError@chrome://remote/content/shared/RemoteError.sys.mjs:8:8\nWebDriverError@chrome://remote/content/shared/webdriver/Errors.sys.mjs:199:5\nNoSuchElementError@chrome://remote/content/shared/webdriver/Errors.sys.mjs:552:5\ndom.find/</<@chrome://remote/content/shared/DOM.sys.mjs:136:16\n"
     ]
    }
   ],
   "source": [
    "# driver.navigate().to(url)\n",
    "# firstPrice = driver.find_element(By.CLASS_NAME, \"x-currency\")\n",
    "# driver.refresh()\n",
    "driver.get(url)\n",
    "wait = WebDriverWait(driver, timeout=2)\n",
    "wait.until(lambda _ : driver.find_element(By.CLASS_NAME, \"x-currency\").is_displayed())\n",
    "listaPrecios = driver.find_elements(By.CLASS_NAME, \"x-currency\")\n",
    "# //*[@id=\"onetrust-accept-btn-handler\"]\n",
    "print(listaPrecios)"
   ]
  },
  {
   "cell_type": "code",
   "execution_count": null,
   "id": "801d7f7d",
   "metadata": {},
   "outputs": [],
   "source": [
    "## ENTREGA AQUÍ EL CÓDIGO PYTHON DE LA APLICACIÓN STREAMLIT\n",
    "\n"
   ]
  },
  {
   "cell_type": "code",
   "execution_count": 1,
   "id": "aefa179e",
   "metadata": {},
   "outputs": [],
   "source": [
    "#tienda 2\n",
    "\n",
    "from selenium import webdriver\n",
    "from selenium.webdriver.common.by import By\n",
    "from selenium.webdriver.firefox.service import Service\n",
    "from selenium.common.exceptions import NoSuchElementException\n",
    "from selenium.webdriver.firefox.options import Options\n",
    "import requests\n",
    "from bs4 import BeautifulSoup\n",
    "\n",
    "import time"
   ]
  },
  {
   "cell_type": "code",
   "execution_count": null,
   "id": "f356f885",
   "metadata": {},
   "outputs": [],
   "source": [
    "\n",
    "# --- SETUP FIREFOX DRIVER ---\n",
    "service = Service(executable_path=\"C:/Repos/Utils/geckodriver.exe\")\n",
    "options = Options()\n",
    "searchInput= \"piedra filosofal\"\n",
    "query = searchInput.strip().replace(\" \",\"+\")\n",
    "driver = webdriver.Firefox(service=service, options=options)\n",
    "# driver.get(f\"https://www.libreriacentral.com/SearchResults.aspx?st={query}&cId=0&sm=qck\")\n",
    "\n",
    "# time.sleep(1) \n",
    "\n",
    "# search = driver.find_element(By.XPATH, \"//input[@id='empathy-search']\")\n",
    "# search.send_keys(query)   "
   ]
  },
  {
   "cell_type": "code",
   "execution_count": 2,
   "id": "71e96bdf",
   "metadata": {},
   "outputs": [
    {
     "ename": "NameError",
     "evalue": "name 'driver' is not defined",
     "output_type": "error",
     "traceback": [
      "\u001b[1;31m---------------------------------------------------------------------------\u001b[0m",
      "\u001b[1;31mNameError\u001b[0m                                 Traceback (most recent call last)",
      "Cell \u001b[1;32mIn[2], line 1\u001b[0m\n\u001b[1;32m----> 1\u001b[0m \u001b[43mdriver\u001b[49m\u001b[38;5;241m.\u001b[39mclose()\n",
      "\u001b[1;31mNameError\u001b[0m: name 'driver' is not defined"
     ]
    }
   ],
   "source": [
    "driver.close()"
   ]
  },
  {
   "cell_type": "code",
   "execution_count": 1,
   "id": "0cf32c27",
   "metadata": {},
   "outputs": [
    {
     "ename": "NameError",
     "evalue": "name 'requests' is not defined",
     "output_type": "error",
     "traceback": [
      "\u001b[1;31m---------------------------------------------------------------------------\u001b[0m",
      "\u001b[1;31mNameError\u001b[0m                                 Traceback (most recent call last)",
      "Cell \u001b[1;32mIn[1], line 5\u001b[0m\n\u001b[0;32m      2\u001b[0m query \u001b[38;5;241m=\u001b[39m searchInput\u001b[38;5;241m.\u001b[39mstrip()\u001b[38;5;241m.\u001b[39mreplace(\u001b[38;5;124m\"\u001b[39m\u001b[38;5;124m \u001b[39m\u001b[38;5;124m\"\u001b[39m,\u001b[38;5;124m\"\u001b[39m\u001b[38;5;124m+\u001b[39m\u001b[38;5;124m\"\u001b[39m)\n\u001b[0;32m      4\u001b[0m url \u001b[38;5;241m=\u001b[39m \u001b[38;5;124mf\u001b[39m\u001b[38;5;124m\"\u001b[39m\u001b[38;5;124mhttps://www.libreriacentral.com/SearchResults.aspx?st=\u001b[39m\u001b[38;5;132;01m{\u001b[39;00mquery\u001b[38;5;132;01m}\u001b[39;00m\u001b[38;5;124m&cId=0&sm=qck\u001b[39m\u001b[38;5;124m\"\u001b[39m\n\u001b[1;32m----> 5\u001b[0m page \u001b[38;5;241m=\u001b[39m \u001b[43mrequests\u001b[49m\u001b[38;5;241m.\u001b[39mget(url)\n\u001b[0;32m      6\u001b[0m soup \u001b[38;5;241m=\u001b[39m BeautifulSoup(page\u001b[38;5;241m.\u001b[39mcontent,\u001b[38;5;124m\"\u001b[39m\u001b[38;5;124mhtml.parser\u001b[39m\u001b[38;5;124m\"\u001b[39m)\n\u001b[0;32m      7\u001b[0m results \u001b[38;5;241m=\u001b[39m soup\u001b[38;5;241m.\u001b[39mfind_all(\u001b[38;5;124m\"\u001b[39m\u001b[38;5;124mdiv\u001b[39m\u001b[38;5;124m\"\u001b[39m,class_\u001b[38;5;241m=\u001b[39m\u001b[38;5;124m\"\u001b[39m\u001b[38;5;124mproducts-preview-list-item\u001b[39m\u001b[38;5;124m\"\u001b[39m)\n",
      "\u001b[1;31mNameError\u001b[0m: name 'requests' is not defined"
     ]
    }
   ],
   "source": [
    "searchInput= \"piedra filosofal\"\n",
    "query = searchInput.strip().replace(\" \",\"+\")\n",
    "\n",
    "url = f\"https://www.libreriacentral.com/SearchResults.aspx?st={query}&cId=0&sm=qck\"\n",
    "page = requests.get(url)\n",
    "soup = BeautifulSoup(page.content,\"html.parser\")\n",
    "results = soup.find_all(\"div\",class_=\"products-preview-list-item\")"
   ]
  },
  {
   "cell_type": "code",
   "execution_count": 88,
   "id": "d65cde5d",
   "metadata": {},
   "outputs": [
    {
     "name": "stdout",
     "output_type": "stream",
     "text": [
      "no\n"
     ]
    }
   ],
   "source": [
    "pricetest = ' '\n",
    "if not pricetest:\n",
    "    print('si')\n",
    "else:\n",
    "    print('no')"
   ]
  },
  {
   "cell_type": "code",
   "execution_count": 45,
   "id": "6d5cf4f2",
   "metadata": {},
   "outputs": [
    {
     "name": "stdout",
     "output_type": "stream",
     "text": [
      "Rowling, J. K.\n",
      "<div class=\"precio\" id=\"ctl00_CPHMainCenter_searchedProducts_rptrProdSearched_ctl00_ProductSmall_pnlPrice\">\n",
      " <strong>\n",
      "  <span content=\"16.10\" id=\"ctl00_CPHMainCenter_searchedProducts_rptrProdSearched_ctl00_ProductSmall_lblPriceWeb\" itemprop=\"price\">\n",
      "   16,10\n",
      "  </span>\n",
      "  <span content=\"EUR\" itemprop=\"priceCurrency\">\n",
      "   €\n",
      "  </span>\n",
      " </strong>\n",
      " <strike>\n",
      "  P.V.P.:\n",
      "  <span id=\"ctl00_CPHMainCenter_searchedProducts_rptrProdSearched_ctl00_ProductSmall_lblPrice\">\n",
      "   16,95\n",
      "  </span>\n",
      "  €\n",
      " </strike>\n",
      "</div>\n",
      "\n",
      "16,10\n",
      "€\n",
      "16,95\n"
     ]
    }
   ],
   "source": [
    "\n",
    "# print(results[0].find(attrs={\"itemprop\": \"name\"}).get_text())\n",
    "print(results[0].find(\"meta\", attrs={\"itemprop\": \"author\"})['content'])\n",
    "price_ele = results[0].find(\"div\", class_=\"precio\")\n",
    "print(results[0].find(\"div\", class_=\"precio\").prettify())\n",
    "\n",
    "for price_substring in price_ele.find_all(\"span\"):\n",
    "    # print(price_substring[0].strip() + price_substring[0].strip())\n",
    "    print(price_substring.get_text().strip())"
   ]
  },
  {
   "cell_type": "code",
   "execution_count": 80,
   "id": "b2eeadf7",
   "metadata": {},
   "outputs": [
    {
     "name": "stdout",
     "output_type": "stream",
     "text": [
      "Rowling, J. K.\n",
      "37,00 €\n",
      "38,95 €\n",
      "Resources/Pictures/978841817407.jpg\n",
      "\n",
      "Disponible\n"
     ]
    }
   ],
   "source": [
    "result = results[1]\n",
    "name_element = result.find(attrs={\"itemprop\": \"name\"})\n",
    "title = name_element.get_text().strip()\n",
    "author = result.find(\"meta\", attrs={\"itemprop\": \"author\"})['content'].strip()\n",
    "print(author)\n",
    "price_substrings = result.find(\"div\", class_=\"precio\").find_all(\"span\")\n",
    "current_price = price_substrings[0].get_text().strip() +' '+price_substrings[1].get_text().strip()\n",
    "if 2 < len(price_substrings):\n",
    "    original_price = price_substrings[2].get_text().strip() +' '+price_substrings[1].get_text().strip()\n",
    "else:\n",
    "    original_price = current_price\n",
    "\n",
    "print(current_price)\n",
    "print(original_price)\n",
    "\n",
    "img_url = result.find(\"img\", class_='foto')['src']\n",
    "print(img_url)\n",
    "\n",
    "availability = result.find(\"link\", attrs={\"itemprop\": \"availability\"})\n",
    "print(availability.get_text().strip())\n",
    "availability2 = result.find(\"span\", class_='css-disponible')\n",
    "print(availability2.get_text())"
   ]
  },
  {
   "cell_type": "code",
   "execution_count": null,
   "id": "aecf634f",
   "metadata": {},
   "outputs": [
    {
     "name": "stdout",
     "output_type": "stream",
     "text": [
      "1\n",
      "Harry Potter y la piedra filosofal\n",
      "Rowling, J. K.\n",
      "16,10 €\n",
      "2\n",
      "Harry Potter y la piedra filosofal (Ed. Minalima)\n",
      "Rowling, J. K.\n",
      "37,00 €\n",
      "3\n",
      "Harry Potter y la piedra filosofal (Harry Potter 1)\n",
      "Rowling, J. K.\n",
      "12,30 €\n",
      "4\n",
      "harry potter y la piedra filosofal\n",
      "Rowling, J. K.\n",
      "19,90 €\n",
      "5\n",
      "6\n",
      "7\n",
      "8\n",
      "9\n",
      "10\n",
      "11\n",
      "12\n",
      "13\n",
      "14\n",
      "15\n",
      "16\n"
     ]
    }
   ],
   "source": [
    "\n",
    "books = []\n",
    "i = 0\n",
    "for result in results:\n",
    "    i+=1\n",
    "    print(i)\n",
    "    try:\n",
    "        #In stock? \n",
    "        availability = result.find(\"span\", class_='css-disponible')\n",
    "        if availability and result.find(\"span\", class_='css-disponible').get_text().strip() == \"Disponible\":\n",
    "\n",
    "            # Title\n",
    "            name_element = result.find(attrs={\"itemprop\": \"name\"})\n",
    "            title = name_element.get_text().strip()\n",
    "            print(title)\n",
    "\n",
    "            #Author\n",
    "            author = result.find(\"meta\", attrs={\"itemprop\": \"author\"})['content'].strip()\n",
    "            print(author)\n",
    "            detail = 'N/A'\n",
    "\n",
    "            # Price \n",
    "            try:\n",
    "                price_substrings = result.find(\"div\", class_=\"precio\").find_all(\"span\")\n",
    "                current_price = price_substrings[0].get_text().strip() +' '+price_substrings[1].get_text().strip()\n",
    "                if len(price_substrings) > 2:\n",
    "                    original_price = price_substrings[2].get_text().strip() +' '+price_substrings[1].get_text().strip()\n",
    "                else:\n",
    "                    original_price = current_price\n",
    "            except e:\n",
    "                current_price = \"N/A\"\n",
    "                original_price = \"N/A\"\n",
    "            print(current_price)\n",
    "            # Image\n",
    "            try:\n",
    "                img_url = result.find(\"img\", class_='foto')['src']\n",
    "            except e:\n",
    "                img_url = \"N/A\"\n",
    "\n",
    "            #Link\n",
    "            try:\n",
    "                link = name_element[\"href\"]\n",
    "                print(link)\n",
    "            except:\n",
    "                link = \"N/A\"\n",
    "\n",
    "            books.append({\n",
    "                \"Title\": title,\n",
    "                \"Author\": author,\n",
    "                \"Detail\": detail,\n",
    "                \"Original Price\": original_price,\n",
    "                \"Current Price\": current_price,\n",
    "                \"Image url\": img_url,\n",
    "                \"Link url\": link\n",
    "            })\n",
    "    except Exception as e:\n",
    "        print(f\"Error al obtener resultados: {e}\")"
   ]
  },
  {
   "cell_type": "code",
   "execution_count": 90,
   "id": "3808755d",
   "metadata": {},
   "outputs": [
    {
     "name": "stdout",
     "output_type": "stream",
     "text": [
      "https://www.iberlibro.com/servlet/SearchResults?cond=new&ds=20&fs=es&kn=9788478884452&n=100046497&pt=book&rollup=on&sortby=2\n"
     ]
    }
   ],
   "source": [
    "query = '9788478884452'\n",
    "baseUrl = 'https://www.iberlibro.com/'\n",
    "queryUrl = query.strip().replace(\" \",\"%20\")\n",
    "url = f\"{baseUrl}servlet/SearchResults?cond=new&ds=20&fs=es&kn={queryUrl}&n=100046497&pt=book&rollup=on&sortby=2\"\n",
    "page = requests.get(url)\n",
    "soup = BeautifulSoup(page.content,\"html.parser\")\n",
    "results = soup.find_all(\"div\",class_=\"products-preview-list-item\")\n",
    "print(url)"
   ]
  },
  {
   "cell_type": "code",
   "execution_count": 7,
   "id": "7ebcb9ae",
   "metadata": {},
   "outputs": [],
   "source": [
    "driver = webdriver.Firefox(service=service, options=options)\n",
    "driver.implicitly_wait(5)\n",
    "\n",
    "# time.sleep(2)  # Wait for dynamic content to load\n",
    "# acceptCookies = driver.find_element(By.XPATH, '//*[@id=\"onetrust-accept-btn-handler\"]')\n",
    "# acceptCookies.click()\n",
    "# time.sleep(1) \n"
   ]
  },
  {
   "cell_type": "code",
   "execution_count": 143,
   "id": "3c1af2e1",
   "metadata": {},
   "outputs": [
    {
     "ename": "WebDriverException",
     "evalue": "Message: Failed to decode response from marionette\n",
     "output_type": "error",
     "traceback": [
      "\u001b[1;31m---------------------------------------------------------------------------\u001b[0m",
      "\u001b[1;31mWebDriverException\u001b[0m                        Traceback (most recent call last)",
      "Cell \u001b[1;32mIn[143], line 1\u001b[0m\n\u001b[1;32m----> 1\u001b[0m \u001b[43mdriver\u001b[49m\u001b[38;5;241;43m.\u001b[39;49m\u001b[43mclose\u001b[49m\u001b[43m(\u001b[49m\u001b[43m)\u001b[49m\n",
      "File \u001b[1;32m~\\AppData\\Roaming\\Python\\Python313\\site-packages\\selenium\\webdriver\\remote\\webdriver.py:579\u001b[0m, in \u001b[0;36mWebDriver.close\u001b[1;34m(self)\u001b[0m\n\u001b[0;32m    572\u001b[0m \u001b[38;5;28;01mdef\u001b[39;00m\u001b[38;5;250m \u001b[39m\u001b[38;5;21mclose\u001b[39m(\u001b[38;5;28mself\u001b[39m) \u001b[38;5;241m-\u001b[39m\u001b[38;5;241m>\u001b[39m \u001b[38;5;28;01mNone\u001b[39;00m:\n\u001b[0;32m    573\u001b[0m \u001b[38;5;250m    \u001b[39m\u001b[38;5;124;03m\"\"\"Closes the current window.\u001b[39;00m\n\u001b[0;32m    574\u001b[0m \n\u001b[0;32m    575\u001b[0m \u001b[38;5;124;03m    Example:\u001b[39;00m\n\u001b[0;32m    576\u001b[0m \u001b[38;5;124;03m    --------\u001b[39;00m\n\u001b[0;32m    577\u001b[0m \u001b[38;5;124;03m    >>> driver.close()\u001b[39;00m\n\u001b[0;32m    578\u001b[0m \u001b[38;5;124;03m    \"\"\"\u001b[39;00m\n\u001b[1;32m--> 579\u001b[0m     \u001b[38;5;28;43mself\u001b[39;49m\u001b[38;5;241;43m.\u001b[39;49m\u001b[43mexecute\u001b[49m\u001b[43m(\u001b[49m\u001b[43mCommand\u001b[49m\u001b[38;5;241;43m.\u001b[39;49m\u001b[43mCLOSE\u001b[49m\u001b[43m)\u001b[49m\n",
      "File \u001b[1;32m~\\AppData\\Roaming\\Python\\Python313\\site-packages\\selenium\\webdriver\\remote\\webdriver.py:429\u001b[0m, in \u001b[0;36mWebDriver.execute\u001b[1;34m(self, driver_command, params)\u001b[0m\n\u001b[0;32m    427\u001b[0m response \u001b[38;5;241m=\u001b[39m \u001b[38;5;28mself\u001b[39m\u001b[38;5;241m.\u001b[39mcommand_executor\u001b[38;5;241m.\u001b[39mexecute(driver_command, params)\n\u001b[0;32m    428\u001b[0m \u001b[38;5;28;01mif\u001b[39;00m response:\n\u001b[1;32m--> 429\u001b[0m     \u001b[38;5;28;43mself\u001b[39;49m\u001b[38;5;241;43m.\u001b[39;49m\u001b[43merror_handler\u001b[49m\u001b[38;5;241;43m.\u001b[39;49m\u001b[43mcheck_response\u001b[49m\u001b[43m(\u001b[49m\u001b[43mresponse\u001b[49m\u001b[43m)\u001b[49m\n\u001b[0;32m    430\u001b[0m     response[\u001b[38;5;124m\"\u001b[39m\u001b[38;5;124mvalue\u001b[39m\u001b[38;5;124m\"\u001b[39m] \u001b[38;5;241m=\u001b[39m \u001b[38;5;28mself\u001b[39m\u001b[38;5;241m.\u001b[39m_unwrap_value(response\u001b[38;5;241m.\u001b[39mget(\u001b[38;5;124m\"\u001b[39m\u001b[38;5;124mvalue\u001b[39m\u001b[38;5;124m\"\u001b[39m, \u001b[38;5;28;01mNone\u001b[39;00m))\n\u001b[0;32m    431\u001b[0m     \u001b[38;5;28;01mreturn\u001b[39;00m response\n",
      "File \u001b[1;32m~\\AppData\\Roaming\\Python\\Python313\\site-packages\\selenium\\webdriver\\remote\\errorhandler.py:232\u001b[0m, in \u001b[0;36mErrorHandler.check_response\u001b[1;34m(self, response)\u001b[0m\n\u001b[0;32m    230\u001b[0m         alert_text \u001b[38;5;241m=\u001b[39m value[\u001b[38;5;124m\"\u001b[39m\u001b[38;5;124malert\u001b[39m\u001b[38;5;124m\"\u001b[39m]\u001b[38;5;241m.\u001b[39mget(\u001b[38;5;124m\"\u001b[39m\u001b[38;5;124mtext\u001b[39m\u001b[38;5;124m\"\u001b[39m)\n\u001b[0;32m    231\u001b[0m     \u001b[38;5;28;01mraise\u001b[39;00m exception_class(message, screen, stacktrace, alert_text)  \u001b[38;5;66;03m# type: ignore[call-arg]  # mypy is not smart enough here\u001b[39;00m\n\u001b[1;32m--> 232\u001b[0m \u001b[38;5;28;01mraise\u001b[39;00m exception_class(message, screen, stacktrace)\n",
      "\u001b[1;31mWebDriverException\u001b[0m: Message: Failed to decode response from marionette\n"
     ]
    }
   ],
   "source": [
    "driver.close()"
   ]
  },
  {
   "cell_type": "code",
   "execution_count": 4,
   "id": "a9ac7300",
   "metadata": {},
   "outputs": [],
   "source": [
    "\n",
    "service = Service(executable_path=\"C:/Repos/Utils/geckodriver.exe\")\n",
    "options = webdriver.FirefoxOptions()\n",
    "options.add_argument(\"-private\")"
   ]
  },
  {
   "cell_type": "code",
   "execution_count": 5,
   "id": "30daf0ac",
   "metadata": {},
   "outputs": [],
   "source": [
    "driver = webdriver.Firefox(service=service, options=options)\n",
    "url = \"https://www.amazon.es/\"\n",
    "driver.get(url)"
   ]
  },
  {
   "cell_type": "code",
   "execution_count": 138,
   "id": "9ce84217",
   "metadata": {},
   "outputs": [],
   "source": [
    "categorySelector = driver.find_element(By.ID, \"searchDropdownBox\")\n",
    "categorySelector.click()\n",
    "booksOption = categorySelector.find_element(By.XPATH, \"//option[@value='search-alias=stripbooks']\")\n",
    "booksOption.click()\n"
   ]
  },
  {
   "cell_type": "code",
   "execution_count": 139,
   "id": "7927444d",
   "metadata": {},
   "outputs": [],
   "source": [
    "query = \"piedra filosofal\"\n",
    "search = driver.find_element(By.XPATH, \"//input[@id='twotabsearchtextbox']\")\n",
    "search.send_keys(query)\n",
    "acceptSearch = driver.find_element(By.XPATH, \"//input[@id='nav-search-submit-button']\")\n",
    "acceptSearch.click()"
   ]
  },
  {
   "cell_type": "code",
   "execution_count": 140,
   "id": "f79b3778",
   "metadata": {},
   "outputs": [],
   "source": [
    "from selenium.webdriver.support.select import Select"
   ]
  },
  {
   "cell_type": "code",
   "execution_count": 151,
   "id": "feaec932",
   "metadata": {},
   "outputs": [],
   "source": [
    "driver.find_element(By.CSS_SELECTOR, \"span[class='a-dropdown-container']\").click()\n",
    "sortPrice = driver.find_element(By.XPATH, \"//a[@id='s-result-sort-select_1']\")\n",
    "sortPrice.click()"
   ]
  },
  {
   "cell_type": "code",
   "execution_count": 149,
   "id": "39589347",
   "metadata": {},
   "outputs": [
    {
     "ename": "ElementClickInterceptedException",
     "evalue": "Message: Element <select id=\"s-result-sort-select\" class=\"a-native-dropdown a-declarative\" name=\"s\"> is not clickable at point (1173,153) because another element <a id=\"s-result-sort-select_0\" class=\"a-dropdown-link a-active\" href=\"javascript:void(0)\"> obscures it\nStacktrace:\nRemoteError@chrome://remote/content/shared/RemoteError.sys.mjs:8:8\nWebDriverError@chrome://remote/content/shared/webdriver/Errors.sys.mjs:199:5\nElementClickInterceptedError@chrome://remote/content/shared/webdriver/Errors.sys.mjs:351:5\nwebdriverClickElement@chrome://remote/content/marionette/interaction.sys.mjs:177:11\ninteraction.clickElement@chrome://remote/content/marionette/interaction.sys.mjs:136:11\nclickElement@chrome://remote/content/marionette/actors/MarionetteCommandsChild.sys.mjs:354:29\nreceiveMessage@chrome://remote/content/marionette/actors/MarionetteCommandsChild.sys.mjs:230:31\n",
     "output_type": "error",
     "traceback": [
      "\u001b[1;31m---------------------------------------------------------------------------\u001b[0m",
      "\u001b[1;31mElementClickInterceptedException\u001b[0m          Traceback (most recent call last)",
      "Cell \u001b[1;32mIn[149], line 7\u001b[0m\n\u001b[0;32m      4\u001b[0m select_element \u001b[38;5;241m=\u001b[39m driver\u001b[38;5;241m.\u001b[39mfind_element(By\u001b[38;5;241m.\u001b[39mID, \u001b[38;5;124m'\u001b[39m\u001b[38;5;124ms-result-sort-select\u001b[39m\u001b[38;5;124m'\u001b[39m)\n\u001b[0;32m      6\u001b[0m select_sort \u001b[38;5;241m=\u001b[39m Select(select_element)\n\u001b[1;32m----> 7\u001b[0m \u001b[43mselect_sort\u001b[49m\u001b[38;5;241;43m.\u001b[39;49m\u001b[43mselect_by_value\u001b[49m\u001b[43m(\u001b[49m\u001b[38;5;124;43m'\u001b[39;49m\u001b[38;5;124;43mprice-asc-rank\u001b[39;49m\u001b[38;5;124;43m'\u001b[39;49m\u001b[43m)\u001b[49m\n",
      "File \u001b[1;32m~\\AppData\\Roaming\\Python\\Python313\\site-packages\\selenium\\webdriver\\support\\select.py:79\u001b[0m, in \u001b[0;36mSelect.select_by_value\u001b[1;34m(self, value)\u001b[0m\n\u001b[0;32m     77\u001b[0m matched \u001b[38;5;241m=\u001b[39m \u001b[38;5;28;01mFalse\u001b[39;00m\n\u001b[0;32m     78\u001b[0m \u001b[38;5;28;01mfor\u001b[39;00m opt \u001b[38;5;129;01min\u001b[39;00m opts:\n\u001b[1;32m---> 79\u001b[0m     \u001b[38;5;28;43mself\u001b[39;49m\u001b[38;5;241;43m.\u001b[39;49m\u001b[43m_set_selected\u001b[49m\u001b[43m(\u001b[49m\u001b[43mopt\u001b[49m\u001b[43m)\u001b[49m\n\u001b[0;32m     80\u001b[0m     \u001b[38;5;28;01mif\u001b[39;00m \u001b[38;5;129;01mnot\u001b[39;00m \u001b[38;5;28mself\u001b[39m\u001b[38;5;241m.\u001b[39mis_multiple:\n\u001b[0;32m     81\u001b[0m         \u001b[38;5;28;01mreturn\u001b[39;00m\n",
      "File \u001b[1;32m~\\AppData\\Roaming\\Python\\Python313\\site-packages\\selenium\\webdriver\\support\\select.py:214\u001b[0m, in \u001b[0;36mSelect._set_selected\u001b[1;34m(self, option)\u001b[0m\n\u001b[0;32m    212\u001b[0m \u001b[38;5;28;01mif\u001b[39;00m \u001b[38;5;129;01mnot\u001b[39;00m option\u001b[38;5;241m.\u001b[39mis_enabled():\n\u001b[0;32m    213\u001b[0m     \u001b[38;5;28;01mraise\u001b[39;00m \u001b[38;5;167;01mNotImplementedError\u001b[39;00m(\u001b[38;5;124m\"\u001b[39m\u001b[38;5;124mYou may not select a disabled option\u001b[39m\u001b[38;5;124m\"\u001b[39m)\n\u001b[1;32m--> 214\u001b[0m \u001b[43moption\u001b[49m\u001b[38;5;241;43m.\u001b[39;49m\u001b[43mclick\u001b[49m\u001b[43m(\u001b[49m\u001b[43m)\u001b[49m\n",
      "File \u001b[1;32m~\\AppData\\Roaming\\Python\\Python313\\site-packages\\selenium\\webdriver\\remote\\webelement.py:119\u001b[0m, in \u001b[0;36mWebElement.click\u001b[1;34m(self)\u001b[0m\n\u001b[0;32m    111\u001b[0m \u001b[38;5;28;01mdef\u001b[39;00m\u001b[38;5;250m \u001b[39m\u001b[38;5;21mclick\u001b[39m(\u001b[38;5;28mself\u001b[39m) \u001b[38;5;241m-\u001b[39m\u001b[38;5;241m>\u001b[39m \u001b[38;5;28;01mNone\u001b[39;00m:\n\u001b[0;32m    112\u001b[0m \u001b[38;5;250m    \u001b[39m\u001b[38;5;124;03m\"\"\"Clicks the element.\u001b[39;00m\n\u001b[0;32m    113\u001b[0m \n\u001b[0;32m    114\u001b[0m \u001b[38;5;124;03m    Example:\u001b[39;00m\n\u001b[1;32m   (...)\u001b[0m\n\u001b[0;32m    117\u001b[0m \u001b[38;5;124;03m    >>> element.click()\u001b[39;00m\n\u001b[0;32m    118\u001b[0m \u001b[38;5;124;03m    \"\"\"\u001b[39;00m\n\u001b[1;32m--> 119\u001b[0m     \u001b[38;5;28;43mself\u001b[39;49m\u001b[38;5;241;43m.\u001b[39;49m\u001b[43m_execute\u001b[49m\u001b[43m(\u001b[49m\u001b[43mCommand\u001b[49m\u001b[38;5;241;43m.\u001b[39;49m\u001b[43mCLICK_ELEMENT\u001b[49m\u001b[43m)\u001b[49m\n",
      "File \u001b[1;32m~\\AppData\\Roaming\\Python\\Python313\\site-packages\\selenium\\webdriver\\remote\\webelement.py:572\u001b[0m, in \u001b[0;36mWebElement._execute\u001b[1;34m(self, command, params)\u001b[0m\n\u001b[0;32m    570\u001b[0m     params \u001b[38;5;241m=\u001b[39m {}\n\u001b[0;32m    571\u001b[0m params[\u001b[38;5;124m\"\u001b[39m\u001b[38;5;124mid\u001b[39m\u001b[38;5;124m\"\u001b[39m] \u001b[38;5;241m=\u001b[39m \u001b[38;5;28mself\u001b[39m\u001b[38;5;241m.\u001b[39m_id\n\u001b[1;32m--> 572\u001b[0m \u001b[38;5;28;01mreturn\u001b[39;00m \u001b[38;5;28;43mself\u001b[39;49m\u001b[38;5;241;43m.\u001b[39;49m\u001b[43m_parent\u001b[49m\u001b[38;5;241;43m.\u001b[39;49m\u001b[43mexecute\u001b[49m\u001b[43m(\u001b[49m\u001b[43mcommand\u001b[49m\u001b[43m,\u001b[49m\u001b[43m \u001b[49m\u001b[43mparams\u001b[49m\u001b[43m)\u001b[49m\n",
      "File \u001b[1;32m~\\AppData\\Roaming\\Python\\Python313\\site-packages\\selenium\\webdriver\\remote\\webdriver.py:429\u001b[0m, in \u001b[0;36mWebDriver.execute\u001b[1;34m(self, driver_command, params)\u001b[0m\n\u001b[0;32m    427\u001b[0m response \u001b[38;5;241m=\u001b[39m \u001b[38;5;28mself\u001b[39m\u001b[38;5;241m.\u001b[39mcommand_executor\u001b[38;5;241m.\u001b[39mexecute(driver_command, params)\n\u001b[0;32m    428\u001b[0m \u001b[38;5;28;01mif\u001b[39;00m response:\n\u001b[1;32m--> 429\u001b[0m     \u001b[38;5;28;43mself\u001b[39;49m\u001b[38;5;241;43m.\u001b[39;49m\u001b[43merror_handler\u001b[49m\u001b[38;5;241;43m.\u001b[39;49m\u001b[43mcheck_response\u001b[49m\u001b[43m(\u001b[49m\u001b[43mresponse\u001b[49m\u001b[43m)\u001b[49m\n\u001b[0;32m    430\u001b[0m     response[\u001b[38;5;124m\"\u001b[39m\u001b[38;5;124mvalue\u001b[39m\u001b[38;5;124m\"\u001b[39m] \u001b[38;5;241m=\u001b[39m \u001b[38;5;28mself\u001b[39m\u001b[38;5;241m.\u001b[39m_unwrap_value(response\u001b[38;5;241m.\u001b[39mget(\u001b[38;5;124m\"\u001b[39m\u001b[38;5;124mvalue\u001b[39m\u001b[38;5;124m\"\u001b[39m, \u001b[38;5;28;01mNone\u001b[39;00m))\n\u001b[0;32m    431\u001b[0m     \u001b[38;5;28;01mreturn\u001b[39;00m response\n",
      "File \u001b[1;32m~\\AppData\\Roaming\\Python\\Python313\\site-packages\\selenium\\webdriver\\remote\\errorhandler.py:232\u001b[0m, in \u001b[0;36mErrorHandler.check_response\u001b[1;34m(self, response)\u001b[0m\n\u001b[0;32m    230\u001b[0m         alert_text \u001b[38;5;241m=\u001b[39m value[\u001b[38;5;124m\"\u001b[39m\u001b[38;5;124malert\u001b[39m\u001b[38;5;124m\"\u001b[39m]\u001b[38;5;241m.\u001b[39mget(\u001b[38;5;124m\"\u001b[39m\u001b[38;5;124mtext\u001b[39m\u001b[38;5;124m\"\u001b[39m)\n\u001b[0;32m    231\u001b[0m     \u001b[38;5;28;01mraise\u001b[39;00m exception_class(message, screen, stacktrace, alert_text)  \u001b[38;5;66;03m# type: ignore[call-arg]  # mypy is not smart enough here\u001b[39;00m\n\u001b[1;32m--> 232\u001b[0m \u001b[38;5;28;01mraise\u001b[39;00m exception_class(message, screen, stacktrace)\n",
      "\u001b[1;31mElementClickInterceptedException\u001b[0m: Message: Element <select id=\"s-result-sort-select\" class=\"a-native-dropdown a-declarative\" name=\"s\"> is not clickable at point (1173,153) because another element <a id=\"s-result-sort-select_0\" class=\"a-dropdown-link a-active\" href=\"javascript:void(0)\"> obscures it\nStacktrace:\nRemoteError@chrome://remote/content/shared/RemoteError.sys.mjs:8:8\nWebDriverError@chrome://remote/content/shared/webdriver/Errors.sys.mjs:199:5\nElementClickInterceptedError@chrome://remote/content/shared/webdriver/Errors.sys.mjs:351:5\nwebdriverClickElement@chrome://remote/content/marionette/interaction.sys.mjs:177:11\ninteraction.clickElement@chrome://remote/content/marionette/interaction.sys.mjs:136:11\nclickElement@chrome://remote/content/marionette/actors/MarionetteCommandsChild.sys.mjs:354:29\nreceiveMessage@chrome://remote/content/marionette/actors/MarionetteCommandsChild.sys.mjs:230:31\n"
     ]
    }
   ],
   "source": [
    "#sort alternative\n",
    "\n",
    "driver.find_element(By.CSS_SELECTOR, \"span[class='a-dropdown-container']\").click()\n",
    "select_element = driver.find_element(By.ID, 's-result-sort-select')\n",
    "\n",
    "select_sort = Select(select_element)\n",
    "select_sort.select_by_value('price-asc-rank')"
   ]
  },
  {
   "cell_type": "code",
   "execution_count": 20,
   "id": "808f5fd2",
   "metadata": {},
   "outputs": [],
   "source": [
    "#Category button\n",
    "driver.find_element(By.ID, \"searchDropdownBox\").click()\n",
    "#Select books category\n",
    "driver.find_element(By.XPATH, \"//option[@value='search-alias=stripbooks']\").click()\n",
    "#Find search input and send query\n",
    "search = driver.find_element(By.XPATH, \"//input[@id='twotabsearchtextbox']\")\n",
    "search.send_keys(query)\n",
    "#Confirm search\n",
    "driver.find_element(By.XPATH, \"//input[@id='nav-search-submit-button']\").click()\n",
    "\n",
    "# #Sort price ascending\n",
    "driver.find_element(By.XPATH, \"//span[@class='a-dropdown-prompt']\").click()\n",
    "driver.find_element(By.XPATH, \"//a[@id='s-result-sort-select_1']\").click()"
   ]
  },
  {
   "cell_type": "code",
   "execution_count": null,
   "id": "bff3769b",
   "metadata": {},
   "outputs": [],
   "source": [
    "results = driver.find_elements(By.XPATH, \"//div[@data-csa-c-type='item']\")\n",
    "print(len(results))\n",
    "\n",
    "for result in results:\n",
    "    try:\n",
    "        # bookHeaderInfo = result.find_element(By.XPATH, \"//div[@data-cy='title-recipe']\")\n",
    "        title = result.find_element(By.XPATH, \".//h2[@class='a-size-medium a-spacing-none a-color-base a-text-normal']\").text\n",
    "        #Authors might come with different class \n",
    "        print(title)\n",
    "        try:\n",
    "            driver.implicitly_wait(0.5)\n",
    "            author = result.find_element(By.XPATH, \".//a[@class='a-size-base a-link-normal s-underline-text s-underline-link-text s-link-style']\").text\n",
    "            print(author)\n",
    "        except Exception as e:\n",
    "            try:\n",
    "                author = result.find_elements(By.XPATH, \".//span[@class='a-size-base']\")[1].text\n",
    "                # print('author 2')\n",
    "                # print(author)\n",
    "            except:\n",
    "                continue\n",
    "        #Different prices for different formats\n",
    "        for priceResult in result.find_elements(By.XPATH, \".//div[@data-cy='price-recipe']\"):\n",
    "            # print(priceResult.text)\n",
    "            current_price = priceResult.find_elements(By.CSS_SELECTOR, '.span[class=\"a-price\"]')\n",
    "            # current_price = priceResult.find_elements(By.XPATH, './/span[@class=\"a-price-whole\"]')\n",
    "            if priceList:\n",
    "                price = priceList[0]\n",
    "                print(price.text)\n",
    "                if len(priceList)>1:\n",
    "                    originalPrice = priceList[1]\n",
    "            \n",
    "                # print(f'orig price: {originalPrice.text}')\n",
    "                # print(f'final price: {price.text}')\n",
    "            \n",
    "    except Exception as e:\n",
    "        print(f\"Error al obtener resultados de {url} : {e}\")\n"
   ]
  },
  {
   "cell_type": "code",
   "execution_count": 88,
   "id": "a5f71f8c",
   "metadata": {},
   "outputs": [
    {
     "name": "stdout",
     "output_type": "stream",
     "text": [
      "18\n",
      "Harry Potter y la piedra filosofal (edición Ravenclaw del 20º aniversario) (Harry Potter 1): Ingenio · Estudio · Sabiduría\n",
      "price 1\n",
      "19\n",
      "76€\n",
      "price 2\n",
      "\n",
      "price 3\n",
      "\n",
      "price 4\n",
      "21,95€\n",
      "price 5\n",
      "\n",
      "La piedra filosofal de los evangelios a los tratados alquímicos\n",
      "price 1\n",
      "9\n",
      "00€\n",
      "price 2\n",
      "\n",
      "price 3\n",
      "\n",
      "price 4\n",
      "10,00€\n",
      "price 5\n",
      "\n",
      "price 6\n",
      "\n",
      "price 7\n",
      "\n",
      "price 8\n",
      "\n",
      "Harry Potter y la piedra filosofal\n",
      "price 1\n",
      "0\n",
      "00€\n",
      "price 2\n",
      "\n",
      "price 3\n",
      "\n",
      "price 4\n",
      "\n",
      "price 5\n",
      "\n",
      "price 6\n",
      "\n",
      "Sobre la Piedra Filosofal: 3 (Nuevos Horizontes)\n",
      "price 1\n",
      "6\n",
      "88€\n",
      "price 2\n",
      "\n",
      "Potter Libro para Colorear: La Piedra Filosofal para colorear\n",
      "price 1\n",
      "7\n",
      "81€\n",
      "price 2\n",
      "\n",
      "price 3\n",
      "\n",
      "price 4\n",
      "8,68€\n",
      "price 5\n",
      "\n",
      "Tratado de la piedra filosofal y Tratado sobre el arte de la alquimia (2010)\n",
      "price 1\n",
      "8\n",
      "06€\n",
      "price 2\n",
      "\n",
      "price 3\n",
      "\n",
      "price 4\n",
      "8,95€\n",
      "price 5\n",
      "\n",
      "El libro la piedra filosofal: Alquimia\n",
      "price 1\n",
      "8\n",
      "43€\n",
      "price 2\n",
      "\n",
      "price 3\n",
      "\n",
      "price 4\n",
      "9,37€\n",
      "price 5\n",
      "\n",
      "La piedra filosofal: Libro de alquimia\n",
      "price 1\n",
      "8\n",
      "57€\n",
      "price 2\n",
      "\n",
      "price 3\n",
      "\n",
      "price 4\n",
      "9,52€\n",
      "price 5\n",
      "\n",
      "Harry Potter y la piedra filosofal (edición Gryffindor del 20º aniversario) (Harry Potter 1): Valor · Coraje · Audacia (Español)\n",
      "price 1\n",
      "24\n",
      "26€\n",
      "price 2\n",
      "\n",
      "price 3\n",
      "\n",
      "price 4\n",
      "26,95€\n",
      "price 5\n",
      "\n",
      "Harry Potter y la piedra filosofal (Harry Potter [edición con ilustraciones de Xavier Bonet] 1)\n",
      "price 1\n",
      "18\n",
      "86€\n",
      "price 2\n",
      "\n",
      "price 3\n",
      "\n",
      "price 4\n",
      "20,95€\n",
      "price 5\n",
      "\n",
      "price 6\n",
      "\n",
      "Harry Potter y la piedra filosofal (edición especial limitada por el 25º aniversario) (Harry Potter 1)(edición en español)\n",
      "Harry Potter y la piedra filosofal (Harry Potter [edición ilustrada] 1)\n",
      "price 1\n",
      "29\n",
      "65€\n",
      "price 2\n",
      "\n",
      "price 3\n",
      "\n",
      "price 4\n",
      "39,95€\n",
      "price 5\n",
      "\n",
      "price 6\n",
      "\n",
      "price 7\n",
      "\n",
      "price 8\n",
      "\n",
      "Harry Potter y la piedra filosofal: Edición ilustrada (Harry Potter Illustrated Edtn) y Harry Potter no oficial: el increíble juego completo de colección de 2 libros de preguntas y respuestas\n",
      "Harry Potter y la piedra filosofal (Harry Potter [edición MinaLima] 1), Español\n",
      "price 1\n",
      "35\n",
      "96€\n",
      "price 2\n",
      "\n",
      "price 3\n",
      "\n",
      "price 4\n",
      "39,95€\n",
      "price 5\n",
      "\n",
      "Estuche Harry Potter: una aventura mágica\n",
      "price 1\n",
      "34\n",
      "97€\n",
      "price 2\n",
      "\n",
      "price 3\n",
      "\n",
      "price 4\n",
      "38,85€\n",
      "price 5\n",
      "\n",
      "La piedra filosofal\n",
      "Teseo y el minotauro - Perseo y medusa - Edipo y la esfinge: Descubre el maravilloso mundo de la mitología griega, en una colección de divertidos libros infantiles.: 5 (Mitología para niños)\n",
      "price 1\n",
      "13\n",
      "41€\n",
      "price 2\n",
      "\n",
      "price 3\n",
      "\n",
      "price 4\n",
      "14,90€\n",
      "price 5\n",
      "\n",
      "LOS CUENTOS QUE NUNCA LEÍSTE\n",
      "price 1\n",
      "0\n",
      "00€\n",
      "price 2\n",
      "\n"
     ]
    }
   ],
   "source": [
    "results = driver.find_elements(By.CSS_SELECTOR, \"div[data-csa-c-type='item']\")\n",
    "print(len(results))\n",
    "\n",
    "for result in results:\n",
    "    try:\n",
    "        # bookHeaderInfo = result.find_element(By.XPATH, \"//div[@data-cy='title-recipe']\")\n",
    "        title = result.find_element(By.CSS_SELECTOR, \"h2[class='a-size-medium a-spacing-none a-color-base a-text-normal']\").text\n",
    "        #Authors might come with different class \n",
    "        print(title)\n",
    "        try:\n",
    "            driver.implicitly_wait(0.5)\n",
    "            author = result.find_element(By.CSS_SELECTOR, \"a[class='a-size-base a-link-normal s-underline-text s-underline-link-text s-link-style']\").text\n",
    "            # print(author)\n",
    "        except Exception as e:\n",
    "            try:\n",
    "                author = result.find_elements(By.CSS_SELECTOR, \"span[class='a-size-base']\")[1].text\n",
    "                # print('author 2')\n",
    "                # print(author)\n",
    "            except:\n",
    "                continue\n",
    "        #Different prices for different formats\n",
    "        # for priceResult in result.find_elements(By.CSS_SELECTOR, \"[data-cy='price-recipe'] .a-price-whole, .a-price-fraction\"):\n",
    "        i=0\n",
    "        for priceResult in result.find_elements(By.CSS_SELECTOR, \"[data-cy='price-recipe'] .a-price, .a-offscreen\"):\n",
    "            i+=1\n",
    "            print(f\"price {i}\")\n",
    "            print(priceResult.text)\n",
    "            # print(result.text)\n",
    "            # current_price = priceResult.find_elements(By.CSS_SELECTOR, '.span[class=\"a-price\"]')\n",
    "            # current_price = priceResult.find_elements(By.XPATH, './/span[@class=\"a-price-whole\"]')\n",
    "            if priceList:\n",
    "                price = priceList[0]\n",
    "                # print(price.text)\n",
    "                if len(priceList)>1:\n",
    "                    originalPrice = priceList[1]\n",
    "            \n",
    "                # print(f'orig price: {originalPrice.text}')\n",
    "                # print(f'final price: {price.text}')\n",
    "            \n",
    "    except Exception as e:\n",
    "        print(f\"Error al obtener resultados de {url} : {e}\")\n"
   ]
  },
  {
   "cell_type": "code",
   "execution_count": 113,
   "id": "b4f5b57e",
   "metadata": {},
   "outputs": [],
   "source": [
    "import pandas as pd\n",
    "import re"
   ]
  },
  {
   "cell_type": "code",
   "execution_count": null,
   "id": "2c9777b5",
   "metadata": {},
   "outputs": [
    {
     "name": "stdout",
     "output_type": "stream",
     "text": [
      "18\n",
      "Harry Potter y la piedra filosofal (edición Ravenclaw del 20º aniversario) (Harry Potter 1): Ingenio · Estudio · Sabiduría\n",
      "https://m.media-amazon.com/images/I/81AaIMWmRRL._AC_UY218_.jpg\n",
      "Tapa dura\n",
      "https://www.amazon.es/Harry-Potter-piedra-filosofal-Philosophers/dp/8498388910/ref=sr_1_1?__mk_es_ES=%C3%85M%C3%85%C5%BD%C3%95%C3%91&crid=2BFZ717XNNAYX&dib=eyJ2IjoiMSJ9.FTsUqtwzrbMe5TeCNNRtGiXS5lQZPpNhHYvvVkwMkRCd4XpKtQNXH1QmF5WlpnvWb7cLB1317BecjcDDpM2jaMdtbidaXBIxpvrfpLM5PjiDot7eXHqoWRTuldfOJxBtEf0bYYPreJsZcHcMBsomzjA_zeELDDPHPKSQH1KokLtWCCAnHpb1looQgzQ503gw3525QtmaccdXkAzU5mkJvQBUgpVBvakJ7MT2fgx2S_8.cLgp7anfNZ2C7WSEsvvHrI2U56i41u6yk3Wh3oVez8Y&dib_tag=se&keywords=piedra+filosofal&qid=1745424937&s=books&sprefix=%2Cstripbooks%2C71&sr=1-1\n",
      "price 0\n",
      "current price: 19.76\n",
      "original price: 21.95\n",
      "La piedra filosofal de los evangelios a los tratados alquímicos\n",
      "https://m.media-amazon.com/images/I/81s+GpSGrwL._AC_UY218_.jpg\n",
      "Tapa blanda\n",
      "https://www.amazon.es/piedra-filosofal-evangelios-tratados-alqu%C3%ADmicos/dp/8493329886/ref=sr_1_2?__mk_es_ES=%C3%85M%C3%85%C5%BD%C3%95%C3%91&crid=2BFZ717XNNAYX&dib=eyJ2IjoiMSJ9.FTsUqtwzrbMe5TeCNNRtGiXS5lQZPpNhHYvvVkwMkRCd4XpKtQNXH1QmF5WlpnvWb7cLB1317BecjcDDpM2jaMdtbidaXBIxpvrfpLM5PjiDot7eXHqoWRTuldfOJxBtEf0bYYPreJsZcHcMBsomzjA_zeELDDPHPKSQH1KokLtWCCAnHpb1looQgzQ503gw3525QtmaccdXkAzU5mkJvQBUgpVBvakJ7MT2fgx2S_8.cLgp7anfNZ2C7WSEsvvHrI2U56i41u6yk3Wh3oVez8Y&dib_tag=se&keywords=piedra+filosofal&qid=1745424937&s=books&sprefix=%2Cstripbooks%2C71&sr=1-2\n",
      "Versión Kindle\n",
      "https://www.amazon.es/piedra-filosofal-Evangelios-tratados-alqu%C3%ADmicos-ebook/dp/B0D5M51X54/ref=sr_1_2?__mk_es_ES=%C3%85M%C3%85%C5%BD%C3%95%C3%91&crid=2BFZ717XNNAYX&dib=eyJ2IjoiMSJ9.FTsUqtwzrbMe5TeCNNRtGiXS5lQZPpNhHYvvVkwMkRCd4XpKtQNXH1QmF5WlpnvWb7cLB1317BecjcDDpM2jaMdtbidaXBIxpvrfpLM5PjiDot7eXHqoWRTuldfOJxBtEf0bYYPreJsZcHcMBsomzjA_zeELDDPHPKSQH1KokLtWCCAnHpb1looQgzQ503gw3525QtmaccdXkAzU5mkJvQBUgpVBvakJ7MT2fgx2S_8.cLgp7anfNZ2C7WSEsvvHrI2U56i41u6yk3Wh3oVez8Y&dib_tag=se&keywords=piedra+filosofal&qid=1745424937&s=books&sprefix=%2Cstripbooks%2C71&sr=1-2\n",
      "price 0\n",
      "current price: 9.0\n",
      "original price: 10.0\n",
      "price 1\n",
      "current price: 6.17\n",
      "original price: 10.0\n",
      "Harry Potter y la piedra filosofal\n",
      "https://m.media-amazon.com/images/I/81DIK77B0PL._AC_UY218_.jpg\n",
      "Versión Kindle\n",
      "https://www.amazon.es/Harry-Potter-piedra-filosofal-colecci%C3%B3n-ebook/dp/B0192CTNHW/ref=sr_1_3?__mk_es_ES=%C3%85M%C3%85%C5%BD%C3%95%C3%91&crid=2BFZ717XNNAYX&dib=eyJ2IjoiMSJ9.FTsUqtwzrbMe5TeCNNRtGiXS5lQZPpNhHYvvVkwMkRCd4XpKtQNXH1QmF5WlpnvWb7cLB1317BecjcDDpM2jaMdtbidaXBIxpvrfpLM5PjiDot7eXHqoWRTuldfOJxBtEf0bYYPreJsZcHcMBsomzjA_zeELDDPHPKSQH1KokLtWCCAnHpb1looQgzQ503gw3525QtmaccdXkAzU5mkJvQBUgpVBvakJ7MT2fgx2S_8.cLgp7anfNZ2C7WSEsvvHrI2U56i41u6yk3Wh3oVez8Y&dib_tag=se&keywords=piedra+filosofal&qid=1745424937&s=books&sprefix=%2Cstripbooks%2C71&sr=1-3\n",
      "Audible Audiolibro\n",
      "https://www.amazon.es/Harry-Potter-piedra-filosofal/dp/B08K8MSQH2/ref=sr_1_3?__mk_es_ES=%C3%85M%C3%85%C5%BD%C3%95%C3%91&crid=2BFZ717XNNAYX&dib=eyJ2IjoiMSJ9.FTsUqtwzrbMe5TeCNNRtGiXS5lQZPpNhHYvvVkwMkRCd4XpKtQNXH1QmF5WlpnvWb7cLB1317BecjcDDpM2jaMdtbidaXBIxpvrfpLM5PjiDot7eXHqoWRTuldfOJxBtEf0bYYPreJsZcHcMBsomzjA_zeELDDPHPKSQH1KokLtWCCAnHpb1looQgzQ503gw3525QtmaccdXkAzU5mkJvQBUgpVBvakJ7MT2fgx2S_8.cLgp7anfNZ2C7WSEsvvHrI2U56i41u6yk3Wh3oVez8Y&dib_tag=se&keywords=piedra+filosofal&qid=1745424937&s=books&sprefix=%2Cstripbooks%2C71&sr=1-3\n",
      "Tapa dura\n",
      "https://www.amazon.es/Harry-Potter-Piedra-Filosofal-Rowling/dp/8478884459/ref=sr_1_3?__mk_es_ES=%C3%85M%C3%85%C5%BD%C3%95%C3%91&crid=2BFZ717XNNAYX&dib=eyJ2IjoiMSJ9.FTsUqtwzrbMe5TeCNNRtGiXS5lQZPpNhHYvvVkwMkRCd4XpKtQNXH1QmF5WlpnvWb7cLB1317BecjcDDpM2jaMdtbidaXBIxpvrfpLM5PjiDot7eXHqoWRTuldfOJxBtEf0bYYPreJsZcHcMBsomzjA_zeELDDPHPKSQH1KokLtWCCAnHpb1looQgzQ503gw3525QtmaccdXkAzU5mkJvQBUgpVBvakJ7MT2fgx2S_8.cLgp7anfNZ2C7WSEsvvHrI2U56i41u6yk3Wh3oVez8Y&dib_tag=se&keywords=piedra+filosofal&qid=1745424937&s=books&sprefix=%2Cstripbooks%2C71&sr=1-3\n",
      "price 0\n",
      "current price: 0.0\n",
      "original price: 0.0\n",
      "price 1\n",
      "current price: 0.0\n",
      "original price: 0.0\n",
      "price 2\n",
      "current price: 15.26\n",
      "original price: 16.95\n",
      "Sobre la Piedra Filosofal: 3 (Nuevos Horizontes)\n",
      "https://m.media-amazon.com/images/I/71HhMRl+keL._AC_UY218_.jpg\n",
      "Tapa blanda\n",
      "https://www.amazon.es/Sobre-Piedra-Filosofal-Nuevos-Horizontes/dp/8495311542/ref=sr_1_4?__mk_es_ES=%C3%85M%C3%85%C5%BD%C3%95%C3%91&crid=2BFZ717XNNAYX&dib=eyJ2IjoiMSJ9.FTsUqtwzrbMe5TeCNNRtGiXS5lQZPpNhHYvvVkwMkRCd4XpKtQNXH1QmF5WlpnvWb7cLB1317BecjcDDpM2jaMdtbidaXBIxpvrfpLM5PjiDot7eXHqoWRTuldfOJxBtEf0bYYPreJsZcHcMBsomzjA_zeELDDPHPKSQH1KokLtWCCAnHpb1looQgzQ503gw3525QtmaccdXkAzU5mkJvQBUgpVBvakJ7MT2fgx2S_8.cLgp7anfNZ2C7WSEsvvHrI2U56i41u6yk3Wh3oVez8Y&dib_tag=se&keywords=piedra+filosofal&qid=1745424937&s=books&sprefix=%2Cstripbooks%2C71&sr=1-4\n",
      "price 0\n",
      "current price: 6.88\n",
      "original price: 6.88\n",
      "Potter Libro para Colorear: La Piedra Filosofal para colorear\n",
      "https://m.media-amazon.com/images/I/716uCTds23L._AC_UY218_.jpg\n",
      "Tapa blanda\n",
      "https://www.amazon.es/Potter-Libro-para-Colorear-Filosofal/dp/B0D6MRZFMM/ref=sr_1_5?__mk_es_ES=%C3%85M%C3%85%C5%BD%C3%95%C3%91&crid=2BFZ717XNNAYX&dib=eyJ2IjoiMSJ9.FTsUqtwzrbMe5TeCNNRtGiXS5lQZPpNhHYvvVkwMkRCd4XpKtQNXH1QmF5WlpnvWb7cLB1317BecjcDDpM2jaMdtbidaXBIxpvrfpLM5PjiDot7eXHqoWRTuldfOJxBtEf0bYYPreJsZcHcMBsomzjA_zeELDDPHPKSQH1KokLtWCCAnHpb1looQgzQ503gw3525QtmaccdXkAzU5mkJvQBUgpVBvakJ7MT2fgx2S_8.cLgp7anfNZ2C7WSEsvvHrI2U56i41u6yk3Wh3oVez8Y&dib_tag=se&keywords=piedra+filosofal&qid=1745424937&s=books&sprefix=%2Cstripbooks%2C71&sr=1-5\n",
      "price 0\n",
      "current price: 7.81\n",
      "original price: 8.68\n",
      "Tratado de la piedra filosofal y Tratado sobre el arte de la alquimia (2010)\n",
      "https://m.media-amazon.com/images/I/91GyF21onCL._AC_UY218_.jpg\n",
      "Tapa blanda\n",
      "https://www.amazon.es/Tratado-piedra-filosofal-sobre-alquimia/dp/8478086633/ref=sr_1_6?__mk_es_ES=%C3%85M%C3%85%C5%BD%C3%95%C3%91&crid=2BFZ717XNNAYX&dib=eyJ2IjoiMSJ9.FTsUqtwzrbMe5TeCNNRtGiXS5lQZPpNhHYvvVkwMkRCd4XpKtQNXH1QmF5WlpnvWb7cLB1317BecjcDDpM2jaMdtbidaXBIxpvrfpLM5PjiDot7eXHqoWRTuldfOJxBtEf0bYYPreJsZcHcMBsomzjA_zeELDDPHPKSQH1KokLtWCCAnHpb1looQgzQ503gw3525QtmaccdXkAzU5mkJvQBUgpVBvakJ7MT2fgx2S_8.cLgp7anfNZ2C7WSEsvvHrI2U56i41u6yk3Wh3oVez8Y&dib_tag=se&keywords=piedra+filosofal&qid=1745424937&s=books&sprefix=%2Cstripbooks%2C71&sr=1-6\n",
      "price 0\n",
      "current price: 8.06\n",
      "original price: 8.95\n",
      "El libro la piedra filosofal: Alquimia\n",
      "https://m.media-amazon.com/images/I/61vsjOxkiXL._AC_UY218_.jpg\n",
      "Tapa blanda\n",
      "https://www.amazon.es/El-libro-piedra-filosofal-Alquimia/dp/1540379396/ref=sr_1_7?__mk_es_ES=%C3%85M%C3%85%C5%BD%C3%95%C3%91&crid=2BFZ717XNNAYX&dib=eyJ2IjoiMSJ9.FTsUqtwzrbMe5TeCNNRtGiXS5lQZPpNhHYvvVkwMkRCd4XpKtQNXH1QmF5WlpnvWb7cLB1317BecjcDDpM2jaMdtbidaXBIxpvrfpLM5PjiDot7eXHqoWRTuldfOJxBtEf0bYYPreJsZcHcMBsomzjA_zeELDDPHPKSQH1KokLtWCCAnHpb1looQgzQ503gw3525QtmaccdXkAzU5mkJvQBUgpVBvakJ7MT2fgx2S_8.cLgp7anfNZ2C7WSEsvvHrI2U56i41u6yk3Wh3oVez8Y&dib_tag=se&keywords=piedra+filosofal&qid=1745424937&s=books&sprefix=%2Cstripbooks%2C71&sr=1-7\n",
      "price 0\n",
      "current price: 8.43\n",
      "original price: 9.37\n",
      "La piedra filosofal: Libro de alquimia\n",
      "https://m.media-amazon.com/images/I/71DLq-ZAoHL._AC_UY218_.jpg\n",
      "Tapa blanda\n",
      "https://www.amazon.es/piedra-filosofal-Libro-alquimia/dp/B0C5G9NGXB/ref=sr_1_8?__mk_es_ES=%C3%85M%C3%85%C5%BD%C3%95%C3%91&crid=2BFZ717XNNAYX&dib=eyJ2IjoiMSJ9.FTsUqtwzrbMe5TeCNNRtGiXS5lQZPpNhHYvvVkwMkRCd4XpKtQNXH1QmF5WlpnvWb7cLB1317BecjcDDpM2jaMdtbidaXBIxpvrfpLM5PjiDot7eXHqoWRTuldfOJxBtEf0bYYPreJsZcHcMBsomzjA_zeELDDPHPKSQH1KokLtWCCAnHpb1looQgzQ503gw3525QtmaccdXkAzU5mkJvQBUgpVBvakJ7MT2fgx2S_8.cLgp7anfNZ2C7WSEsvvHrI2U56i41u6yk3Wh3oVez8Y&dib_tag=se&keywords=piedra+filosofal&qid=1745424937&s=books&sprefix=%2Cstripbooks%2C71&sr=1-8\n",
      "price 0\n",
      "current price: 8.57\n",
      "original price: 9.52\n",
      "Harry Potter y la piedra filosofal (edición Gryffindor del 20º aniversario) (Harry Potter 1): Valor · Coraje · Audacia (Español)\n",
      "https://m.media-amazon.com/images/I/81T6V8gqfOL._AC_UY218_.jpg\n",
      "Tapa dura\n",
      "https://www.amazon.es/nube-Mart%C3%ADn-Harry-Potter/dp/8498388872/ref=sr_1_9?__mk_es_ES=%C3%85M%C3%85%C5%BD%C3%95%C3%91&crid=2BFZ717XNNAYX&dib=eyJ2IjoiMSJ9.FTsUqtwzrbMe5TeCNNRtGiXS5lQZPpNhHYvvVkwMkRCd4XpKtQNXH1QmF5WlpnvWb7cLB1317BecjcDDpM2jaMdtbidaXBIxpvrfpLM5PjiDot7eXHqoWRTuldfOJxBtEf0bYYPreJsZcHcMBsomzjA_zeELDDPHPKSQH1KokLtWCCAnHpb1looQgzQ503gw3525QtmaccdXkAzU5mkJvQBUgpVBvakJ7MT2fgx2S_8.cLgp7anfNZ2C7WSEsvvHrI2U56i41u6yk3Wh3oVez8Y&dib_tag=se&keywords=piedra+filosofal&qid=1745424937&s=books&sprefix=%2Cstripbooks%2C71&sr=1-9\n",
      "price 0\n",
      "current price: 24.26\n",
      "original price: 26.95\n",
      "Harry Potter y la piedra filosofal (Harry Potter [edición con ilustraciones de Xavier Bonet] 1)\n",
      "https://m.media-amazon.com/images/I/816eW3eMz9L._AC_UY218_.jpg\n",
      "Tapa dura\n",
      "https://www.amazon.es/Potter-piedra-filosofal-edici%C3%B3n-ilustraciones/dp/8419275808/ref=sr_1_10?__mk_es_ES=%C3%85M%C3%85%C5%BD%C3%95%C3%91&crid=2BFZ717XNNAYX&dib=eyJ2IjoiMSJ9.FTsUqtwzrbMe5TeCNNRtGiXS5lQZPpNhHYvvVkwMkRCd4XpKtQNXH1QmF5WlpnvWb7cLB1317BecjcDDpM2jaMdtbidaXBIxpvrfpLM5PjiDot7eXHqoWRTuldfOJxBtEf0bYYPreJsZcHcMBsomzjA_zeELDDPHPKSQH1KokLtWCCAnHpb1looQgzQ503gw3525QtmaccdXkAzU5mkJvQBUgpVBvakJ7MT2fgx2S_8.cLgp7anfNZ2C7WSEsvvHrI2U56i41u6yk3Wh3oVez8Y&dib_tag=se&keywords=piedra+filosofal&qid=1745424937&s=books&sprefix=%2Cstripbooks%2C71&sr=1-10\n",
      "Tapa blanda\n",
      "https://www.amazon.es/Harry-Potter-Piedra-Filosofal-Sorcerers/dp/B0D32JLN3B/ref=sr_1_10?__mk_es_ES=%C3%85M%C3%85%C5%BD%C3%95%C3%91&crid=2BFZ717XNNAYX&dib=eyJ2IjoiMSJ9.FTsUqtwzrbMe5TeCNNRtGiXS5lQZPpNhHYvvVkwMkRCd4XpKtQNXH1QmF5WlpnvWb7cLB1317BecjcDDpM2jaMdtbidaXBIxpvrfpLM5PjiDot7eXHqoWRTuldfOJxBtEf0bYYPreJsZcHcMBsomzjA_zeELDDPHPKSQH1KokLtWCCAnHpb1looQgzQ503gw3525QtmaccdXkAzU5mkJvQBUgpVBvakJ7MT2fgx2S_8.cLgp7anfNZ2C7WSEsvvHrI2U56i41u6yk3Wh3oVez8Y&dib_tag=se&keywords=piedra+filosofal&qid=1745424937&s=books&sprefix=%2Cstripbooks%2C71&sr=1-10\n",
      "price 0\n",
      "current price: 18.86\n",
      "original price: 20.95\n",
      "price 1\n",
      "current price: 24.19\n",
      "original price: 24.19\n",
      "Harry Potter y la piedra filosofal (edición especial limitada por el 25º aniversario) (Harry Potter 1)(edición en español)\n",
      "https://m.media-amazon.com/images/I/81T-IxMzgZL._AC_UY218_.jpg\n",
      "Tapa dura\n",
      "https://www.amazon.es/Harry-Potter-piedra-filosofal-aniversario/dp/8419275301/ref=sr_1_11?__mk_es_ES=%C3%85M%C3%85%C5%BD%C3%95%C3%91&crid=2BFZ717XNNAYX&dib=eyJ2IjoiMSJ9.FTsUqtwzrbMe5TeCNNRtGiXS5lQZPpNhHYvvVkwMkRCd4XpKtQNXH1QmF5WlpnvWb7cLB1317BecjcDDpM2jaMdtbidaXBIxpvrfpLM5PjiDot7eXHqoWRTuldfOJxBtEf0bYYPreJsZcHcMBsomzjA_zeELDDPHPKSQH1KokLtWCCAnHpb1looQgzQ503gw3525QtmaccdXkAzU5mkJvQBUgpVBvakJ7MT2fgx2S_8.cLgp7anfNZ2C7WSEsvvHrI2U56i41u6yk3Wh3oVez8Y&dib_tag=se&keywords=piedra+filosofal&qid=1745424937&s=books&sprefix=%2Cstripbooks%2C71&sr=1-11\n",
      "Harry Potter y la piedra filosofal (Harry Potter [edición ilustrada] 1)\n",
      "https://m.media-amazon.com/images/I/91-m-29l27L._AC_UY218_.jpg\n",
      "Tapa dura\n",
      "https://www.amazon.es/Harry-Potter-piedra-filosofal-Ilustrado/dp/8498387078/ref=sr_1_12?__mk_es_ES=%C3%85M%C3%85%C5%BD%C3%95%C3%91&crid=2BFZ717XNNAYX&dib=eyJ2IjoiMSJ9.FTsUqtwzrbMe5TeCNNRtGiXS5lQZPpNhHYvvVkwMkRCd4XpKtQNXH1QmF5WlpnvWb7cLB1317BecjcDDpM2jaMdtbidaXBIxpvrfpLM5PjiDot7eXHqoWRTuldfOJxBtEf0bYYPreJsZcHcMBsomzjA_zeELDDPHPKSQH1KokLtWCCAnHpb1looQgzQ503gw3525QtmaccdXkAzU5mkJvQBUgpVBvakJ7MT2fgx2S_8.cLgp7anfNZ2C7WSEsvvHrI2U56i41u6yk3Wh3oVez8Y&dib_tag=se&keywords=piedra+filosofal&qid=1745424937&s=books&sprefix=%2Cstripbooks%2C71&sr=1-12\n",
      "Tapa blanda\n",
      "https://www.amazon.es/HP1-HP-piedra-filosofal-Ed-ilustrada-Ilustrado/dp/8498389399/ref=sr_1_12?__mk_es_ES=%C3%85M%C3%85%C5%BD%C3%95%C3%91&crid=2BFZ717XNNAYX&dib=eyJ2IjoiMSJ9.FTsUqtwzrbMe5TeCNNRtGiXS5lQZPpNhHYvvVkwMkRCd4XpKtQNXH1QmF5WlpnvWb7cLB1317BecjcDDpM2jaMdtbidaXBIxpvrfpLM5PjiDot7eXHqoWRTuldfOJxBtEf0bYYPreJsZcHcMBsomzjA_zeELDDPHPKSQH1KokLtWCCAnHpb1looQgzQ503gw3525QtmaccdXkAzU5mkJvQBUgpVBvakJ7MT2fgx2S_8.cLgp7anfNZ2C7WSEsvvHrI2U56i41u6yk3Wh3oVez8Y&dib_tag=se&keywords=piedra+filosofal&qid=1745424937&s=books&sprefix=%2Cstripbooks%2C71&sr=1-12\n",
      "price 0\n",
      "current price: 29.65\n",
      "original price: 39.95\n",
      "price 1\n",
      "current price: 19.76\n",
      "original price: 21.95\n",
      "Harry Potter y la piedra filosofal: Edición ilustrada (Harry Potter Illustrated Edtn) y Harry Potter no oficial: el increíble juego completo de colección de 2 libros de preguntas y respuestas\n",
      "Harry Potter y la piedra filosofal (Harry Potter [edición MinaLima] 1), Español\n",
      "https://m.media-amazon.com/images/I/81nE2-8HncL._AC_UY218_.jpg\n",
      "Tapa dura\n",
      "https://www.amazon.es/Harry-Potter-piedra-filosofal-Minalima/dp/8418174072/ref=sr_1_14?__mk_es_ES=%C3%85M%C3%85%C5%BD%C3%95%C3%91&crid=2BFZ717XNNAYX&dib=eyJ2IjoiMSJ9.FTsUqtwzrbMe5TeCNNRtGiXS5lQZPpNhHYvvVkwMkRCd4XpKtQNXH1QmF5WlpnvWb7cLB1317BecjcDDpM2jaMdtbidaXBIxpvrfpLM5PjiDot7eXHqoWRTuldfOJxBtEf0bYYPreJsZcHcMBsomzjA_zeELDDPHPKSQH1KokLtWCCAnHpb1looQgzQ503gw3525QtmaccdXkAzU5mkJvQBUgpVBvakJ7MT2fgx2S_8.cLgp7anfNZ2C7WSEsvvHrI2U56i41u6yk3Wh3oVez8Y&dib_tag=se&keywords=piedra+filosofal&qid=1745424937&s=books&sprefix=%2Cstripbooks%2C71&sr=1-14\n",
      "price 0\n",
      "current price: 35.96\n",
      "original price: 39.95\n",
      "Estuche Harry Potter: una aventura mágica\n",
      "https://m.media-amazon.com/images/I/81ev-5PzbUL._AC_UY218_.jpg\n",
      "Libro de bolsillo\n",
      "https://www.amazon.es/Estuche-Harry-Potter-aventura-m%C3%A1gica/dp/8418796189/ref=sr_1_15?__mk_es_ES=%C3%85M%C3%85%C5%BD%C3%95%C3%91&crid=2BFZ717XNNAYX&dib=eyJ2IjoiMSJ9.FTsUqtwzrbMe5TeCNNRtGiXS5lQZPpNhHYvvVkwMkRCd4XpKtQNXH1QmF5WlpnvWb7cLB1317BecjcDDpM2jaMdtbidaXBIxpvrfpLM5PjiDot7eXHqoWRTuldfOJxBtEf0bYYPreJsZcHcMBsomzjA_zeELDDPHPKSQH1KokLtWCCAnHpb1looQgzQ503gw3525QtmaccdXkAzU5mkJvQBUgpVBvakJ7MT2fgx2S_8.cLgp7anfNZ2C7WSEsvvHrI2U56i41u6yk3Wh3oVez8Y&dib_tag=se&keywords=piedra+filosofal&qid=1745424937&s=books&sprefix=%2Cstripbooks%2C71&sr=1-15\n",
      "price 0\n",
      "current price: 34.97\n",
      "original price: 38.85\n",
      "La piedra filosofal\n",
      "Teseo y el minotauro - Perseo y medusa - Edipo y la esfinge: Descubre el maravilloso mundo de la mitología griega, en una colección de divertidos libros infantiles.: 5 (Mitología para niños)\n",
      "https://m.media-amazon.com/images/I/61d+qffyTNL._AC_UY218_.jpg\n",
      "Tapa dura\n",
      "https://www.amazon.es/sspa/click?ie=UTF8&spc=MTo4NTg1MzgyNDQ1NDIzOTM0OjE3NDU0MjQ5Mzc6c3BfYnRmOjMwMDA3ODM4NjI2NzQzMjo6MDo6&url=%2FTeseo-Minotauro-Perseo-Medusa-Esfinge%2Fdp%2F8418139099%2Fref%3Dsr_1_17_sspa%3F__mk_es_ES%3D%25C3%2585M%25C3%2585%25C5%25BD%25C3%2595%25C3%2591%26crid%3D2BFZ717XNNAYX%26dib%3DeyJ2IjoiMSJ9.FTsUqtwzrbMe5TeCNNRtGiXS5lQZPpNhHYvvVkwMkRCd4XpKtQNXH1QmF5WlpnvWb7cLB1317BecjcDDpM2jaMdtbidaXBIxpvrfpLM5PjiDot7eXHqoWRTuldfOJxBtEf0bYYPreJsZcHcMBsomzjA_zeELDDPHPKSQH1KokLtWCCAnHpb1looQgzQ503gw3525QtmaccdXkAzU5mkJvQBUgpVBvakJ7MT2fgx2S_8.cLgp7anfNZ2C7WSEsvvHrI2U56i41u6yk3Wh3oVez8Y%26dib_tag%3Dse%26keywords%3Dpiedra%2Bfilosofal%26qid%3D1745424937%26s%3Dbooks%26sprefix%3D%252Cstripbooks%252C71%26sr%3D1-17-spons%26sp_csd%3Dd2lkZ2V0TmFtZT1zcF9idGY%26psc%3D1\n",
      "price 0\n",
      "current price: 13.41\n",
      "original price: 14.9\n",
      "LOS CUENTOS QUE NUNCA LEÍSTE\n",
      "https://m.media-amazon.com/images/I/612w52Q5KaL._AC_UY218_.jpg\n",
      "Versión Kindle\n",
      "https://www.amazon.es/sspa/click?ie=UTF8&spc=MTo4NTg1MzgyNDQ1NDIzOTM0OjE3NDU0MjQ5Mzc6c3BfYnRmOjMwMDE0ODYxMzEwOTIzMjo6MDo6&url=%2FLOS-CUENTOS-QUE-NUNCA-LE%25C3%258DSTE-ebook%2Fdp%2FB0CS44BY9Z%2Fref%3Dsr_1_18_sspa%3F__mk_es_ES%3D%25C3%2585M%25C3%2585%25C5%25BD%25C3%2595%25C3%2591%26crid%3D2BFZ717XNNAYX%26dib%3DeyJ2IjoiMSJ9.FTsUqtwzrbMe5TeCNNRtGiXS5lQZPpNhHYvvVkwMkRCd4XpKtQNXH1QmF5WlpnvWb7cLB1317BecjcDDpM2jaMdtbidaXBIxpvrfpLM5PjiDot7eXHqoWRTuldfOJxBtEf0bYYPreJsZcHcMBsomzjA_zeELDDPHPKSQH1KokLtWCCAnHpb1looQgzQ503gw3525QtmaccdXkAzU5mkJvQBUgpVBvakJ7MT2fgx2S_8.cLgp7anfNZ2C7WSEsvvHrI2U56i41u6yk3Wh3oVez8Y%26dib_tag%3Dse%26keywords%3Dpiedra%2Bfilosofal%26qid%3D1745424937%26s%3Dbooks%26sprefix%3D%252Cstripbooks%252C71%26sr%3D1-18-spons%26sp_csd%3Dd2lkZ2V0TmFtZT1zcF9idGY%26psc%3D1\n",
      "price 0\n",
      "current price: 0.0\n",
      "original price: 0.0\n"
     ]
    },
    {
     "data": {
      "text/html": [
       "<div>\n",
       "<style scoped>\n",
       "    .dataframe tbody tr th:only-of-type {\n",
       "        vertical-align: middle;\n",
       "    }\n",
       "\n",
       "    .dataframe tbody tr th {\n",
       "        vertical-align: top;\n",
       "    }\n",
       "\n",
       "    .dataframe thead th {\n",
       "        text-align: right;\n",
       "    }\n",
       "</style>\n",
       "<table border=\"1\" class=\"dataframe\">\n",
       "  <thead>\n",
       "    <tr style=\"text-align: right;\">\n",
       "      <th></th>\n",
       "      <th>0</th>\n",
       "    </tr>\n",
       "  </thead>\n",
       "  <tbody>\n",
       "    <tr>\n",
       "      <th>0</th>\n",
       "      <td>{'Título': 'LOS CUENTOS QUE NUNCA LEÍSTE', 'Au...</td>\n",
       "    </tr>\n",
       "  </tbody>\n",
       "</table>\n",
       "</div>"
      ],
      "text/plain": [
       "                                                   0\n",
       "0  {'Título': 'LOS CUENTOS QUE NUNCA LEÍSTE', 'Au..."
      ]
     },
     "execution_count": 114,
     "metadata": {},
     "output_type": "execute_result"
    }
   ],
   "source": [
    "\n",
    "results = driver.find_elements(By.CSS_SELECTOR, \"div[data-csa-c-type='item']\")\n",
    "print(len(results))\n",
    "baseUrl = \"https://www.amazon.es/\"\n",
    "books = []\n",
    "driver.implicitly_wait(0)\n",
    "for result in results:\n",
    "    tempBooks = []\n",
    "    try:\n",
    "        title = result.find_element(By.CSS_SELECTOR, \"h2[class='a-size-medium a-spacing-none a-color-base a-text-normal']\").text\n",
    "        #Authors might come with different class \n",
    "        try:\n",
    "            author = result.find_element(By.CSS_SELECTOR, \"a[class='a-size-base a-link-normal s-underline-text s-underline-link-text s-link-style']\").text\n",
    "        except Exception as e:\n",
    "            try:\n",
    "                author = result.find_elements(By.CSS_SELECTOR, \"span[class='a-size-base']\")[1].text\n",
    "            except:\n",
    "                continue\n",
    "        try:\n",
    "            img_url = result.find_element(By.CSS_SELECTOR, \"img[class='s-image']\").get_attribute(\"src\")\n",
    "            print(img_url)\n",
    "        except:\n",
    "            print('no image')\n",
    "        #Different prices for different formats. Will be saved as different book results\n",
    "        # i=0\n",
    "        \n",
    "        for detailResult in result.find_elements(By.XPATH, './/a[@class=\"a-size-base a-link-normal s-underline-text s-underline-link-text s-link-style a-text-bold\"]'):\n",
    "            print(detailResult.text)\n",
    "            detail = detailResult.text\n",
    "            link = detailResult.get_attribute(\"href\")\n",
    "            print(link)\n",
    "            tempBooks.append({\n",
    "                \"Título\": title,\n",
    "                \"Autor\": author,\n",
    "                \"Detalle\": detail,\n",
    "                \"Cubierta\": img_url,\n",
    "                \"Enlace\": link,\n",
    "                \"Tienda\": \"Amazon\"\n",
    "            })\n",
    "        i=0\n",
    "        for price in result.find_elements(By.XPATH, './/a[@aria-describedby=\"price-link\"]'):\n",
    "            print(f\"price {i}\")\n",
    "            current_price = re.match(r\"(\\d+[.]?\\d*)\", price.text.replace(\"\\n\", \".\").replace(\",\", \".\"))\n",
    "            if current_price:\n",
    "                current_price = float(current_price.group(1))\n",
    "                print(f\"current price: {current_price}\")\n",
    "                try:\n",
    "                    original_price = price.find_element(By.XPATH, './/span[@class=\"a-price a-text-price\"]')\n",
    "                    original_price = re.match(r\"(\\d+[.]?\\d*)\", original_price.text.replace(\"\\n\", \".\").replace(\",\", \".\"))\n",
    "                    if original_price:\n",
    "                        original_price = float(original_price.group(1))\n",
    "                    else:\n",
    "                        original_price = current_price\n",
    "                except:\n",
    "                    original_price = current_price\n",
    "                print(f\"original price: {original_price}\")\n",
    "                if priceList:\n",
    "                    price = priceList[0]\n",
    "                    # print(price.text)\n",
    "                    if len(priceList)>1:\n",
    "                        originalPrice = priceList[1]\n",
    "            tempBooks[i][\"Precio base\"] = original_price\n",
    "            tempBooks[i][\"Precio final\"] = current_price\n",
    "            i+=1\n",
    "        \n",
    "           \n",
    "    except Exception as e:\n",
    "        print(f\"Error al obtener resultados de {url} : {e}\")\n",
    "    i+=1 \n",
    "books.append(tempBooks)\n",
    "bookDf = pd.DataFrame(books)\n",
    "bookDf.head(10)"
   ]
  },
  {
   "cell_type": "code",
   "execution_count": 86,
   "id": "84f61ca3",
   "metadata": {},
   "outputs": [
    {
     "name": "stdout",
     "output_type": "stream",
     "text": [
      "libro 1\n",
      "detail 1\n",
      "Tapa dura\n",
      "libro 2\n",
      "detail 1\n",
      "Tapa blanda\n",
      "libro 3\n",
      "detail 1\n",
      "Versión Kindle\n",
      "libro 4\n",
      "detail 1\n",
      "Tapa blanda\n",
      "libro 5\n",
      "detail 1\n",
      "Tapa blanda\n",
      "libro 6\n",
      "detail 1\n",
      "Tapa blanda\n",
      "libro 7\n",
      "detail 1\n",
      "Tapa blanda\n",
      "err\n",
      "libro 8\n",
      "detail 1\n",
      "Tapa blanda\n",
      "libro 9\n",
      "detail 1\n",
      "Tapa dura\n",
      "libro 10\n",
      "detail 1\n",
      "Tapa dura\n",
      "libro 11\n",
      "detail 1\n",
      "Tapa dura\n",
      "libro 12\n",
      "detail 1\n",
      "Tapa dura\n",
      "libro 13\n",
      "detail 1\n",
      "Tapa blanda\n",
      "libro 14\n",
      "detail 1\n",
      "Tapa dura\n",
      "libro 15\n",
      "detail 1\n",
      "Libro de bolsillo\n",
      "libro 16\n",
      "detail 1\n",
      "Tapa blanda\n",
      "libro 17\n",
      "detail 1\n",
      "Tapa dura\n",
      "libro 18\n",
      "detail 1\n",
      "Versión Kindle\n"
     ]
    }
   ],
   "source": [
    "i=0\n",
    "j=0\n",
    "for result in results:\n",
    "    j=0\n",
    "    i+=1\n",
    "    print(f\"libro {i}\")\n",
    "    for priceResult in result.find_elements(By.XPATH, './/div[@class=\"a-row a-spacing-mini a-size-base a-color-base\"]'):\n",
    "        j+=1\n",
    "        print(f\"detail {j}\")\n",
    "        print(priceResult.text)\n",
    "        try:\n",
    "            for alt in priceResult.find_elements(By.XPATH, './/div[@class=\"a-size-base a-link-normal s-underline-text s-underline-link-text s-link-style a-text-bold\"]'):\n",
    "                print(alt.text)\n",
    "        except:\n",
    "            print('err')"
   ]
  },
  {
   "cell_type": "code",
   "execution_count": 109,
   "id": "5e2c5844",
   "metadata": {},
   "outputs": [
    {
     "name": "stdout",
     "output_type": "stream",
     "text": [
      "https://m.media-amazon.com/images/I/81AaIMWmRRL._AC_UY218_.jpg\n",
      "https://m.media-amazon.com/images/I/81s+GpSGrwL._AC_UY218_.jpg\n",
      "https://m.media-amazon.com/images/I/81DIK77B0PL._AC_UY218_.jpg\n",
      "https://m.media-amazon.com/images/I/71HhMRl+keL._AC_UY218_.jpg\n",
      "https://m.media-amazon.com/images/I/716uCTds23L._AC_UY218_.jpg\n",
      "https://m.media-amazon.com/images/I/91GyF21onCL._AC_UY218_.jpg\n",
      "https://m.media-amazon.com/images/I/61vsjOxkiXL._AC_UY218_.jpg\n",
      "https://m.media-amazon.com/images/I/71DLq-ZAoHL._AC_UY218_.jpg\n",
      "https://m.media-amazon.com/images/I/81T6V8gqfOL._AC_UY218_.jpg\n",
      "https://m.media-amazon.com/images/I/816eW3eMz9L._AC_UY218_.jpg\n",
      "https://m.media-amazon.com/images/I/81T-IxMzgZL._AC_UY218_.jpg\n",
      "https://m.media-amazon.com/images/I/91-m-29l27L._AC_UY218_.jpg\n",
      "https://m.media-amazon.com/images/I/61+eyKIZDQL._AC_UY218_.jpg\n",
      "https://m.media-amazon.com/images/I/81nE2-8HncL._AC_UY218_.jpg\n",
      "https://m.media-amazon.com/images/I/81ev-5PzbUL._AC_UY218_.jpg\n",
      "https://m.media-amazon.com/images/I/51FY1mL2zML._AC_UY218_.jpg\n",
      "https://m.media-amazon.com/images/I/61d+qffyTNL._AC_UY218_.jpg\n",
      "https://m.media-amazon.com/images/I/612w52Q5KaL._AC_UY218_.jpg\n"
     ]
    }
   ],
   "source": [
    "\n",
    "i=0\n",
    "j=0\n",
    "for result in results:\n",
    "    try:\n",
    "        image_url = result.find_element(By.CSS_SELECTOR, \"img[class='s-image']\").get_attribute(\"src\")\n",
    "        print(image_url)\n",
    "    except:\n",
    "        print('no image')\n"
   ]
  },
  {
   "cell_type": "code",
   "execution_count": 46,
   "id": "8d5d8f96",
   "metadata": {},
   "outputs": [
    {
     "name": "stdout",
     "output_type": "stream",
     "text": [
      "test\n",
      "<selenium.webdriver.remote.webelement.WebElement (session=\"3ed690e8-77cf-40a6-93fa-0e33d5df8e39\", element=\"3b4db4f3-b2ec-4096-bb94-64364b2ad468\")>\n",
      "18\n",
      "86€\n",
      "test\n",
      "<selenium.webdriver.remote.webelement.WebElement (session=\"3ed690e8-77cf-40a6-93fa-0e33d5df8e39\", element=\"7c023266-2988-48cc-bd55-2176db839d41\")>\n",
      "24\n",
      "19€\n"
     ]
    }
   ],
   "source": [
    "for allprices in results[9].find_elements(By.XPATH, './/span[@class=\"a-price\"]'):\n",
    "    print('test')\n",
    "    print(allprices)\n",
    "    print (allprices.text)"
   ]
  },
  {
   "cell_type": "code",
   "execution_count": null,
   "id": "a693e9ed",
   "metadata": {},
   "outputs": [],
   "source": [
    "results = driver.find_elements(By.CSS_SELECTOR, \"div[data-csa-c-type='item']\")\n",
    "print(len(results))\n",
    "books = []\n",
    "\n",
    "for result in results:\n",
    "    try:\n",
    "        # Title\n",
    "        title = result.find_element(By.CSS_SELECTOR, \"h2.a-size-medium\").text\n",
    "\n",
    "        # Author (may vary in structure)\n",
    "        try:\n",
    "            author = result.find_element(By.CSS_SELECTOR, \"a.a-link-normal.s-underline-text\").text\n",
    "        except:\n",
    "            try:\n",
    "                author = result.find_elements(By.CSS_SELECTOR, \"span.a-size-base\")[1].text\n",
    "            except:\n",
    "                continue\n",
    "\n",
    "        # Image\n",
    "        try:\n",
    "            img_url = result.find_element(By.CSS_SELECTOR, \"img.s-image\").get_attribute(\"src\")\n",
    "        except:\n",
    "            img_url = \"\"\n",
    "\n",
    "        # All detail links\n",
    "        detail_links = result.find_elements(By.XPATH, './/a[contains(@class,\"a-text-bold\")]')\n",
    "        # All prices\n",
    "        price_elements = result.find_elements(By.XPATH, './/a[@aria-describedby=\"price-link\"]')\n",
    "\n",
    "        for i in range(max(len(detail_links), len(price_elements))):\n",
    "            detail = detail_links[i].text if i < len(detail_links) else \"\"\n",
    "            link = detail_links[i].get_attribute(\"href\") if i < len(detail_links) else \"\"\n",
    "\n",
    "            current_price = None\n",
    "            original_price = None\n",
    "\n",
    "            if i < len(price_elements):\n",
    "                price_text = price_elements[i].text.replace(\"\\n\", \".\").replace(\",\", \".\")\n",
    "                match = re.match(r\"(\\d+[.]?\\d*)\", price_text)\n",
    "                if match:\n",
    "                    current_price = float(match.group(1))\n",
    "                try:\n",
    "                    original_text = price_elements[i].find_element(By.XPATH, './/span[@class=\"a-price a-text-price\"]').text\n",
    "                    match = re.match(r\"(\\d+[.]?\\d*)\", original_text.replace(\"\\n\", \".\").replace(\",\", \".\"))\n",
    "                    if match:\n",
    "                        original_price = float(match.group(1))\n",
    "                    else:\n",
    "                        original_price = current_price\n",
    "                except:\n",
    "                    original_price = current_price\n",
    "\n",
    "            books.append({\n",
    "                \"Título\": title,\n",
    "                \"Autor\": author,\n",
    "                \"Detalle\": detail,\n",
    "                \"Cubierta\": img_url,\n",
    "                \"Enlace\": link,\n",
    "                \"Tienda\": \"Amazon\",\n",
    "                \"Precio base\": original_price,\n",
    "                \"Precio final\": current_price\n",
    "            })\n",
    "\n",
    "    except Exception as e:\n",
    "        print(f\"Error procesando un resultado: {e}\")\n",
    "\n",
    "# Convert to DataFrame\n",
    "bookDf = pd.DataFrame(books)\n",
    "bookDf.head(15)"
   ]
  },
  {
   "cell_type": "code",
   "execution_count": null,
   "id": "cd30519d",
   "metadata": {},
   "outputs": [],
   "source": [
    "service = Service(executable_path=\"C:/Repos/Utils/geckodriver.exe\")\n"
   ]
  },
  {
   "cell_type": "code",
   "execution_count": null,
   "id": "57d83a5d",
   "metadata": {},
   "outputs": [],
   "source": [
    "options = webdriver.FirefoxOptions()\n",
    "options.add_argument(\"-private\")\n",
    "driver = webdriver.Firefox(service=service, options=options)\n",
    "url = \"https://www.amazon.es/\"\n",
    "driver.get(url)"
   ]
  },
  {
   "cell_type": "code",
   "execution_count": null,
   "id": "dcdaa697",
   "metadata": {},
   "outputs": [],
   "source": [
    "url = 'https://www.casadellibro.com/libro-harry-potter-y-la-piedra-filosofal-edicion-especial-con-cantos-p-intados-harry-potter-1/9788419868282/16710131'\n",
    "driver.get(url)\n"
   ]
  },
  {
   "cell_type": "code",
   "execution_count": 9,
   "id": "027af9d7",
   "metadata": {},
   "outputs": [
    {
     "name": "stdout",
     "output_type": "stream",
     "text": [
      "190,00 €\n"
     ]
    }
   ],
   "source": [
    "current_price = driver.find_element(By.XPATH, \"//*[@id='p-pf-f' or @id='p-pmkt-f']\").text\n",
    "try:\n",
    "    original_price = driver.find_element(By.CSS_SELECTOR, 'p[class=\"s-5-text\"]').text.split('€')[0]\n",
    "    print(current_price)\n",
    "except:  \n",
    "    original_price = current_price\n",
    "\n",
    "print(original_price)\n"
   ]
  },
  {
   "cell_type": "code",
   "execution_count": 131,
   "id": "80855adf",
   "metadata": {},
   "outputs": [
    {
     "name": "stdout",
     "output_type": "stream",
     "text": [
      "accepted\n"
     ]
    }
   ],
   "source": [
    "url = \"https://www.amazon.es/\"\n",
    "driver.get(url)\n",
    "driver.implicitly_wait(5)\n",
    "\n",
    "# time.sleep(2)  # Wait for dynamic content to load\n",
    "# acceptCookies = driver.find_element(By.XPATH, '//*[@id=\"onetrust-accept-btn-handler\"]')\n",
    "# acceptCookies.click()\n",
    "# time.sleep(1) \n",
    "#cookies\n",
    "try:\n",
    "    driver.find_element(By.ID, \"sp-cc-accept\").click()\n",
    "except:\n",
    "    print('accepted')\n",
    "#Category button\n",
    "driver.find_element(By.ID, \"searchDropdownBox\").click()\n",
    "#Select books category\n",
    "driver.find_element(By.XPATH, \"//option[@value='search-alias=stripbooks']\").click()\n",
    "#Find search input and send query\n",
    "search = driver.find_element(By.XPATH, \"//input[@id='twotabsearchtextbox']\")\n",
    "search.send_keys(query)\n",
    "#Confirm search\n",
    "driver.find_element(By.XPATH, \"//input[@id='nav-search-submit-button']\").click()\n",
    "\n",
    "# #Sort price ascending\n",
    "driver.find_element(By.CSS_SELECTOR, \"span[class='a-dropdown-prompt']\").click()\n",
    "driver.find_element(By.CSS_SELECTOR, \"a[id='s-result-sort-select_1']\").click()\n",
    "options.add_argument(\"-private\")\n",
    "results = driver.find_elements(By.CSS_SELECTOR, \"div[data-csa-c-type='item']\")"
   ]
  },
  {
   "cell_type": "code",
   "execution_count": 135,
   "id": "ac0ee806",
   "metadata": {},
   "outputs": [
    {
     "ename": "WebDriverException",
     "evalue": "Message: Failed to decode response from marionette\n",
     "output_type": "error",
     "traceback": [
      "\u001b[1;31m---------------------------------------------------------------------------\u001b[0m",
      "\u001b[1;31mWebDriverException\u001b[0m                        Traceback (most recent call last)",
      "Cell \u001b[1;32mIn[135], line 1\u001b[0m\n\u001b[1;32m----> 1\u001b[0m \u001b[43mdriver\u001b[49m\u001b[38;5;241;43m.\u001b[39;49m\u001b[43mclose\u001b[49m\u001b[43m(\u001b[49m\u001b[43m)\u001b[49m\n",
      "File \u001b[1;32m~\\AppData\\Roaming\\Python\\Python313\\site-packages\\selenium\\webdriver\\remote\\webdriver.py:579\u001b[0m, in \u001b[0;36mWebDriver.close\u001b[1;34m(self)\u001b[0m\n\u001b[0;32m    572\u001b[0m \u001b[38;5;28;01mdef\u001b[39;00m\u001b[38;5;250m \u001b[39m\u001b[38;5;21mclose\u001b[39m(\u001b[38;5;28mself\u001b[39m) \u001b[38;5;241m-\u001b[39m\u001b[38;5;241m>\u001b[39m \u001b[38;5;28;01mNone\u001b[39;00m:\n\u001b[0;32m    573\u001b[0m \u001b[38;5;250m    \u001b[39m\u001b[38;5;124;03m\"\"\"Closes the current window.\u001b[39;00m\n\u001b[0;32m    574\u001b[0m \n\u001b[0;32m    575\u001b[0m \u001b[38;5;124;03m    Example:\u001b[39;00m\n\u001b[0;32m    576\u001b[0m \u001b[38;5;124;03m    --------\u001b[39;00m\n\u001b[0;32m    577\u001b[0m \u001b[38;5;124;03m    >>> driver.close()\u001b[39;00m\n\u001b[0;32m    578\u001b[0m \u001b[38;5;124;03m    \"\"\"\u001b[39;00m\n\u001b[1;32m--> 579\u001b[0m     \u001b[38;5;28;43mself\u001b[39;49m\u001b[38;5;241;43m.\u001b[39;49m\u001b[43mexecute\u001b[49m\u001b[43m(\u001b[49m\u001b[43mCommand\u001b[49m\u001b[38;5;241;43m.\u001b[39;49m\u001b[43mCLOSE\u001b[49m\u001b[43m)\u001b[49m\n",
      "File \u001b[1;32m~\\AppData\\Roaming\\Python\\Python313\\site-packages\\selenium\\webdriver\\remote\\webdriver.py:429\u001b[0m, in \u001b[0;36mWebDriver.execute\u001b[1;34m(self, driver_command, params)\u001b[0m\n\u001b[0;32m    427\u001b[0m response \u001b[38;5;241m=\u001b[39m \u001b[38;5;28mself\u001b[39m\u001b[38;5;241m.\u001b[39mcommand_executor\u001b[38;5;241m.\u001b[39mexecute(driver_command, params)\n\u001b[0;32m    428\u001b[0m \u001b[38;5;28;01mif\u001b[39;00m response:\n\u001b[1;32m--> 429\u001b[0m     \u001b[38;5;28;43mself\u001b[39;49m\u001b[38;5;241;43m.\u001b[39;49m\u001b[43merror_handler\u001b[49m\u001b[38;5;241;43m.\u001b[39;49m\u001b[43mcheck_response\u001b[49m\u001b[43m(\u001b[49m\u001b[43mresponse\u001b[49m\u001b[43m)\u001b[49m\n\u001b[0;32m    430\u001b[0m     response[\u001b[38;5;124m\"\u001b[39m\u001b[38;5;124mvalue\u001b[39m\u001b[38;5;124m\"\u001b[39m] \u001b[38;5;241m=\u001b[39m \u001b[38;5;28mself\u001b[39m\u001b[38;5;241m.\u001b[39m_unwrap_value(response\u001b[38;5;241m.\u001b[39mget(\u001b[38;5;124m\"\u001b[39m\u001b[38;5;124mvalue\u001b[39m\u001b[38;5;124m\"\u001b[39m, \u001b[38;5;28;01mNone\u001b[39;00m))\n\u001b[0;32m    431\u001b[0m     \u001b[38;5;28;01mreturn\u001b[39;00m response\n",
      "File \u001b[1;32m~\\AppData\\Roaming\\Python\\Python313\\site-packages\\selenium\\webdriver\\remote\\errorhandler.py:232\u001b[0m, in \u001b[0;36mErrorHandler.check_response\u001b[1;34m(self, response)\u001b[0m\n\u001b[0;32m    230\u001b[0m         alert_text \u001b[38;5;241m=\u001b[39m value[\u001b[38;5;124m\"\u001b[39m\u001b[38;5;124malert\u001b[39m\u001b[38;5;124m\"\u001b[39m]\u001b[38;5;241m.\u001b[39mget(\u001b[38;5;124m\"\u001b[39m\u001b[38;5;124mtext\u001b[39m\u001b[38;5;124m\"\u001b[39m)\n\u001b[0;32m    231\u001b[0m     \u001b[38;5;28;01mraise\u001b[39;00m exception_class(message, screen, stacktrace, alert_text)  \u001b[38;5;66;03m# type: ignore[call-arg]  # mypy is not smart enough here\u001b[39;00m\n\u001b[1;32m--> 232\u001b[0m \u001b[38;5;28;01mraise\u001b[39;00m exception_class(message, screen, stacktrace)\n",
      "\u001b[1;31mWebDriverException\u001b[0m: Message: Failed to decode response from marionette\n"
     ]
    }
   ],
   "source": [
    "driver.close()"
   ]
  },
  {
   "cell_type": "code",
   "execution_count": 160,
   "id": "de1ddebe",
   "metadata": {},
   "outputs": [
    {
     "name": "stdout",
     "output_type": "stream",
     "text": [
      "3\n",
      "https://m.media-amazon.com/images/I/91R1AixEiLL._AC_UY218_.jpg\n",
      "Tapa dura\n",
      "price match: 16.1\n",
      "Versión Kindle\n",
      "skipped with: Versión Kindle\n",
      "Audible Audiolibro\n",
      "skipped with: Audible Audiolibro\n",
      "https://m.media-amazon.com/images/I/81VR2yyPi9L._AC_UY218_.jpg\n",
      "Versión Kindle\n",
      "skipped with: Versión Kindle\n",
      "https://m.media-amazon.com/images/I/81NewGv4UHL._AC_UY218_.jpg\n",
      "Versión Kindle\n",
      "skipped with: Versión Kindle\n",
      "                                              Título         Autor    Detalle  \\\n",
      "0  Harry Potter y la piedra filosofal (Harry Pott...  J.K. Rowling  Tapa dura   \n",
      "\n",
      "                                            Cubierta  \\\n",
      "0  https://m.media-amazon.com/images/I/91R1AixEiL...   \n",
      "\n",
      "                                              Enlace  Tienda  Precio base  \\\n",
      "0  https://www.amazon.es/Harry-Potter-Piedra-Filo...  Amazon        16.95   \n",
      "\n",
      "   Precio final  \n",
      "0          16.1  \n"
     ]
    }
   ],
   "source": [
    "\n",
    "results = driver.find_elements(By.CSS_SELECTOR, \"div[data-csa-c-type='item']\")\n",
    "# print(datetime.now().time())\n",
    "print(len(results))\n",
    "baseUrl = \"https://www.amazon.es/\"\n",
    "books = []\n",
    "driver.implicitly_wait(0)\n",
    "for result in results:\n",
    "    tempBooks = []\n",
    "    try:\n",
    "        title = result.find_element(By.CSS_SELECTOR, \"h2[class='a-size-medium a-spacing-none a-color-base a-text-normal']\").text\n",
    "        #Authors might come with different class \n",
    "        try:\n",
    "            author = result.find_element(By.CSS_SELECTOR, \"a[class='a-size-base a-link-normal s-underline-text s-underline-link-text s-link-style']\").text\n",
    "        except Exception as e:\n",
    "            try:\n",
    "                author = result.find_elements(By.CSS_SELECTOR, \"span[class='a-size-base']\")[1].text\n",
    "            except:\n",
    "                continue\n",
    "        try:\n",
    "            img_url = result.find_element(By.CSS_SELECTOR, \"img[class='s-image']\").get_attribute(\"src\")\n",
    "            print(img_url)\n",
    "        except:\n",
    "            print('no image')\n",
    "        #Different prices for different formats. Will be saved as different book results\n",
    "        # i=0\n",
    "        # All detail links\n",
    "        detail_link_List = result.find_elements(By.XPATH, './/a[contains(@class,\"a-text-bold\")]')\n",
    "        # All prices\n",
    "        price_List = result.find_elements(By.XPATH, './/a[@aria-describedby=\"price-link\"]')\n",
    "        \n",
    "        for i in range(len(price_List)):\n",
    "            try:\n",
    "                \n",
    "                detail = detail_link_List[i].text\n",
    "                print(detail)\n",
    "                if \"Kindle\" in detail or \"Audiolibro\" in detail:\n",
    "                    print(f\"skipped with: {detail}\")\n",
    "                    continue\n",
    "                link = detail_link_List[i].get_attribute(\"href\")\n",
    "            except:\n",
    "                detail = \"N/A\"\n",
    "                link = \"N/A\" \n",
    "                print('no detail')     \n",
    "            price_text = price_List[i].text.replace(\"\\n\", \".\").replace(\",\", \".\")\n",
    "            match = re.match(r\"(\\d+[.]?\\d*)\", price_text)\n",
    "            if match:\n",
    "                \n",
    "                current_price = float(match.group(1))\n",
    "                print(f\"price match: {current_price}\")\n",
    "            try:\n",
    "                original_text = price_List[i].find_element(By.XPATH, './/span[@class=\"a-price a-text-price\"]').text\n",
    "                match = re.match(r\"(\\d+[.]?\\d*)\", original_text.replace(\"\\n\", \".\").replace(\",\", \".\"))\n",
    "                if match:\n",
    "                    original_price = float(match.group(1))\n",
    "                else:\n",
    "                    original_price = current_price\n",
    "            except:\n",
    "                print(f\"origin price exception: {current_price}\")\n",
    "                original_price = current_price\n",
    "            books.append({\n",
    "                \"Título\": title,\n",
    "                \"Autor\": author,\n",
    "                \"Detalle\": detail,\n",
    "                \"Cubierta\": img_url,\n",
    "                \"Enlace\": link,\n",
    "                \"Tienda\": \"Amazon\",\n",
    "                \"Precio base\": original_price,\n",
    "                \"Precio final\": current_price\n",
    "            })\n",
    "    except Exception as e:\n",
    "        print(f\"Error procesando un resultado: {e}\")\n",
    "        \n",
    "bookDf = pd.DataFrame(books)\n",
    "print(bookDf.head())\n",
    " "
   ]
  },
  {
   "cell_type": "code",
   "execution_count": 180,
   "id": "cfa5ba31",
   "metadata": {},
   "outputs": [
    {
     "name": "stdout",
     "output_type": "stream",
     "text": [
      "Piezas en las que puede confiar\n",
      "Compra en la Store de RIDEX en Amazon \n",
      "Filtros\n",
      "Frenos\n",
      "Correas, Cadenas, Rodillos\n",
      "Patrocinado\n",
      "Mostrando resultados de Todos los departamentos\n",
      "No hay resultados para 12435345 en Libros\n",
      "salio\n",
      "Resultados\n",
      "Más información sobre estos resultados. Consulta la página del producto para ver otras opciones de compra.\n",
      "Febi Bilstein 36745 Interruptores\n",
      "214\n",
      "6\n",
      "80€\n",
      "Recomendado:\n",
      "11,99€\n",
      "Entrega GRATIS el dom, 27 de abr en tu primer pedido\n",
      "Entrega más rápida mañana, 25 de abr\n",
      "Añadir a la cesta\n",
      "Más opciones de compra\n",
      "4,84 €(7 nuevas ofertas)\n",
      "Febi 26274 Limpiaparabrisas\n",
      "431\n",
      "10+ comprados el mes pasado\n",
      "19\n",
      "90€\n",
      "Entrega GRATIS el dom, 27 de abr en tu primer pedido\n",
      "Entrega más rápida mañana, 25 de abr\n",
      "Añadir a la cesta\n",
      "Más opciones de compra\n",
      "11,50 €(4+ ofertas usadas y nuevas)\n",
      "Bosch P3353 - Filtro de aceite para vehículos\n",
      "13\n",
      "9\n",
      "90€\n",
      "Ahorra con Suscríbete y ahorra\n",
      "Entrega GRATIS el dom, 27 de abr en tu primer pedido\n",
      "Entrega más rápida mañana, 25 de abr\n",
      "Añadir a la cesta\n",
      "Más opciones de compra\n",
      "6,83 €(9 nuevas ofertas)\n",
      "Patrocinado\n",
      "Sachs 2290 601 098 conjuntos de embrague\n",
      "56\n",
      "Automóvil\n",
      "482\n",
      "17€\n",
      "Mediano:\n",
      "517,78€\n",
      "Entrega GRATIS el mar, 6 de may\n",
      "Más resultados\n",
      "Febi 12415 Bloque de Motor\n",
      "28\n",
      "8\n",
      "45€\n",
      "Entrega GRATIS el mié, 30 de abr en tu primer pedido\n",
      "Añadir a la cesta\n",
      "Más opciones de compra\n",
      "5,03 €(6 nuevas ofertas)\n",
      "Bosch 0986280433 Sensor de Velocidad\n",
      "1\n",
      "37\n",
      "48€\n",
      "Recomendado:\n",
      "52,00€\n",
      "Entrega GRATIS el dom, 27 de abr\n",
      "Entrega más rápida mañana, 25 de abr\n",
      "Sólo queda(n) 5 en stock.\n",
      "Añadir a la cesta\n",
      "Más opciones de compra\n",
      "12,91 €(8+ ofertas usadas y nuevas)\n",
      "Valeo Pastillas de freno First 301545 Juego de 4 pastillas Eje delantero Completamente equipado con accesorios montados\n",
      "1\n",
      "28\n",
      "24€\n",
      "Entrega GRATIS el mar, 29 de abr en tu primer pedido\n",
      "Entrega más rápida el lun, 28 de abr\n",
      "Sólo queda(n) 1 en stock (hay más unidades en camino).\n",
      "Añadir a la cesta\n",
      "Más opciones de compra\n",
      "20,67 €(6 nuevas ofertas)\n",
      "Bosch - 0445130104 Parte Diferente\n",
      "3\n",
      "64\n",
      "77€\n",
      "Entrega GRATIS entre el 29 de abr - 2 de may\n",
      "Añadir a la cesta\n",
      "Más opciones de compra\n",
      "50,53 €(7 nuevas ofertas)\n",
      "VALEO 884530\n",
      "87\n",
      "63€\n",
      "Entrega GRATIS entre el 30 de abr - 6 de may\n",
      "Añadir a la cesta\n",
      "Más opciones de compra\n",
      "71,60 €(3 nuevas ofertas)\n",
      "Recíbelo más rápido\n",
      "81\n",
      "95€\n",
      "Entrega por 12,50 € entre el 30 de abr - 5 de may\n",
      "Bomba de freno GOLDONI 02030353\n",
      "123\n",
      "60€\n",
      "Entrega por 21 € entre el 2 - 6 de may\n",
      "Añadir a la cesta\n",
      "VALEO 884518\n",
      "41\n",
      "68€ (\n",
      "23,39€/kg)\n",
      "Entrega por 12,50 € entre el 30 de abr - 5 de may\n",
      "Añadir a la cesta\n",
      "Más opciones de compra\n",
      "40,78 €(3 nuevas ofertas)\n",
      "VALEO 884553\n",
      "62\n",
      "47€ (\n",
      "40,83€/kg)\n",
      "Entrega por 12,50 € entre el 30 de abr - 5 de may\n",
      "Añadir a la cesta\n",
      "VALEO 884543\n",
      "86\n",
      "61€\n",
      "Entrega por 12,50 € entre el 30 de abr - 5 de may\n",
      "Añadir a la cesta\n",
      "Más opciones de compra\n",
      "76,30 €(3 nuevas ofertas)\n",
      "FAE 12445 Interruptores\n",
      "13\n",
      "92€\n",
      "Entrega por 1 € entre el 30 de abr - 6 de may\n",
      "Añadir a la cesta\n",
      "Más opciones de compra\n",
      "3,17 €(5 nuevas ofertas)\n",
      "(4 piezas) C4532C0G1H224J320KA\n",
      "24\n",
      "44€\n",
      "Entrega GRATIS entre el 16 - 23 de may\n",
      "Añadir a la cesta\n",
      "Febi 12445 Suspensión de Ruedas\n",
      "20\n",
      "68€ (\n",
      "36,28€/kg)\n",
      "Entrega por 12,50 € entre el 30 de abr - 5 de may\n",
      "Añadir a la cesta\n",
      "Más opciones de compra\n",
      "19,25 €(7 nuevas ofertas)\n",
      "Patrocinado\n",
      "Sachs 2290 601 098 conjuntos de embrague\n",
      "56\n",
      "Automóvil\n",
      "482\n",
      "17€\n",
      "Mediano:\n",
      "517,78€\n",
      "Entrega GRATIS el mar, 6 de may\n",
      "Marcas relacionadas con la búsqueda\n",
      "Patrocinado\n",
      "Para mayor seguridad en el tráfico rodado\n",
      "Descubre Hella GmbH & Co. KGaA \n",
      "Rendimiento comprobado. Diseñados para durar.\n",
      "Descubre SACHS \n",
      "Piezas en las que puede confiar\n",
      "Descubre RIDEX \n",
      "¿Necesitas ayuda?\n",
      "Visita la sección de ayuda o ponte en contacto con nosotros\n",
      "Patrocinado\n"
     ]
    }
   ],
   "source": [
    "\n",
    "for resultWindow in driver.find_elements(By.XPATH, \"//div[contains(@data-cel-widget,'search_result')]\"):\n",
    "    print(resultWindow.text)\n",
    "    if 'No hay resultados para' in resultWindow.text:\n",
    "        print('salio')"
   ]
  },
  {
   "cell_type": "code",
   "execution_count": null,
   "id": "2ac8c62b",
   "metadata": {},
   "outputs": [],
   "source": [
    "\n"
   ]
  },
  {
   "cell_type": "code",
   "execution_count": 3,
   "id": "d3b3e316",
   "metadata": {},
   "outputs": [
    {
     "name": "stdout",
     "output_type": "stream",
     "text": [
      "HOLA\n",
      "Con stock (17)\n",
      "no click\n",
      "Agotado (16)\n",
      "no click\n",
      "Descatalogado (11)\n",
      "no click\n",
      "Disponible (8)\n",
      "click\n",
      "https://www.casadellibro.com/libro-la-piedra-filosofal-de-j-obleman-historia-de-un-doctor-que-ha-resuelto-el-problema-de-vivir-sin-comer/9788494435140/2772441\n",
      "14,50 \n",
      "1\n",
      "Error al obtener resultados de https://www.casadellibro.com : Message: The element with the reference cf11c1d4-0db2-43db-868e-d1faa0e77dc3 is stale; either its node document is not the active document, or it is no longer connected to the DOM; For documentation on this error, please visit: https://www.selenium.dev/documentation/webdriver/troubleshooting/errors#stale-element-reference-exception\n",
      "Stacktrace:\n",
      "RemoteError@chrome://remote/content/shared/RemoteError.sys.mjs:8:8\n",
      "WebDriverError@chrome://remote/content/shared/webdriver/Errors.sys.mjs:199:5\n",
      "StaleElementReferenceError@chrome://remote/content/shared/webdriver/Errors.sys.mjs:796:5\n",
      "getKnownElement@chrome://remote/content/marionette/json.sys.mjs:405:11\n",
      "deserializeJSON@chrome://remote/content/marionette/json.sys.mjs:263:20\n",
      "cloneObject@chrome://remote/content/marionette/json.sys.mjs:59:24\n",
      "deserializeJSON@chrome://remote/content/marionette/json.sys.mjs:293:16\n",
      "cloneObject@chrome://remote/content/marionette/json.sys.mjs:59:24\n",
      "deserializeJSON@chrome://remote/content/marionette/json.sys.mjs:293:16\n",
      "json.deserialize@chrome://remote/content/marionette/json.sys.mjs:297:10\n",
      "receiveMessage@chrome://remote/content/marionette/actors/MarionetteCommandsChild.sys.mjs:202:30\n",
      "\n",
      "Error al obtener resultados de https://www.casadellibro.com : Message: The element with the reference 0e8d475c-f3ba-45a0-9bc0-0f027f476716 is stale; either its node document is not the active document, or it is no longer connected to the DOM; For documentation on this error, please visit: https://www.selenium.dev/documentation/webdriver/troubleshooting/errors#stale-element-reference-exception\n",
      "Stacktrace:\n",
      "RemoteError@chrome://remote/content/shared/RemoteError.sys.mjs:8:8\n",
      "WebDriverError@chrome://remote/content/shared/webdriver/Errors.sys.mjs:199:5\n",
      "StaleElementReferenceError@chrome://remote/content/shared/webdriver/Errors.sys.mjs:796:5\n",
      "getKnownElement@chrome://remote/content/marionette/json.sys.mjs:405:11\n",
      "deserializeJSON@chrome://remote/content/marionette/json.sys.mjs:263:20\n",
      "cloneObject@chrome://remote/content/marionette/json.sys.mjs:59:24\n",
      "deserializeJSON@chrome://remote/content/marionette/json.sys.mjs:293:16\n",
      "cloneObject@chrome://remote/content/marionette/json.sys.mjs:59:24\n",
      "deserializeJSON@chrome://remote/content/marionette/json.sys.mjs:293:16\n",
      "json.deserialize@chrome://remote/content/marionette/json.sys.mjs:297:10\n",
      "receiveMessage@chrome://remote/content/marionette/actors/MarionetteCommandsChild.sys.mjs:202:30\n",
      "\n",
      "Error al obtener resultados de https://www.casadellibro.com : Message: The element with the reference 475ae909-efcf-4a98-a3d6-1a2d330ba5b3 is stale; either its node document is not the active document, or it is no longer connected to the DOM; For documentation on this error, please visit: https://www.selenium.dev/documentation/webdriver/troubleshooting/errors#stale-element-reference-exception\n",
      "Stacktrace:\n",
      "RemoteError@chrome://remote/content/shared/RemoteError.sys.mjs:8:8\n",
      "WebDriverError@chrome://remote/content/shared/webdriver/Errors.sys.mjs:199:5\n",
      "StaleElementReferenceError@chrome://remote/content/shared/webdriver/Errors.sys.mjs:796:5\n",
      "getKnownElement@chrome://remote/content/marionette/json.sys.mjs:405:11\n",
      "deserializeJSON@chrome://remote/content/marionette/json.sys.mjs:263:20\n",
      "cloneObject@chrome://remote/content/marionette/json.sys.mjs:59:24\n",
      "deserializeJSON@chrome://remote/content/marionette/json.sys.mjs:293:16\n",
      "cloneObject@chrome://remote/content/marionette/json.sys.mjs:59:24\n",
      "deserializeJSON@chrome://remote/content/marionette/json.sys.mjs:293:16\n",
      "json.deserialize@chrome://remote/content/marionette/json.sys.mjs:297:10\n",
      "receiveMessage@chrome://remote/content/marionette/actors/MarionetteCommandsChild.sys.mjs:202:30\n",
      "\n",
      "Error al obtener resultados de https://www.casadellibro.com : Message: The element with the reference 7604cd3d-aea2-48d2-813a-836355f4c934 is stale; either its node document is not the active document, or it is no longer connected to the DOM; For documentation on this error, please visit: https://www.selenium.dev/documentation/webdriver/troubleshooting/errors#stale-element-reference-exception\n",
      "Stacktrace:\n",
      "RemoteError@chrome://remote/content/shared/RemoteError.sys.mjs:8:8\n",
      "WebDriverError@chrome://remote/content/shared/webdriver/Errors.sys.mjs:199:5\n",
      "StaleElementReferenceError@chrome://remote/content/shared/webdriver/Errors.sys.mjs:796:5\n",
      "getKnownElement@chrome://remote/content/marionette/json.sys.mjs:405:11\n",
      "deserializeJSON@chrome://remote/content/marionette/json.sys.mjs:263:20\n",
      "cloneObject@chrome://remote/content/marionette/json.sys.mjs:59:24\n",
      "deserializeJSON@chrome://remote/content/marionette/json.sys.mjs:293:16\n",
      "cloneObject@chrome://remote/content/marionette/json.sys.mjs:59:24\n",
      "deserializeJSON@chrome://remote/content/marionette/json.sys.mjs:293:16\n",
      "json.deserialize@chrome://remote/content/marionette/json.sys.mjs:297:10\n",
      "receiveMessage@chrome://remote/content/marionette/actors/MarionetteCommandsChild.sys.mjs:202:30\n",
      "\n",
      "Error al obtener resultados de https://www.casadellibro.com : Message: The element with the reference b2dffd6d-7d12-4da0-aa35-8e21800957f0 is stale; either its node document is not the active document, or it is no longer connected to the DOM; For documentation on this error, please visit: https://www.selenium.dev/documentation/webdriver/troubleshooting/errors#stale-element-reference-exception\n",
      "Stacktrace:\n",
      "RemoteError@chrome://remote/content/shared/RemoteError.sys.mjs:8:8\n",
      "WebDriverError@chrome://remote/content/shared/webdriver/Errors.sys.mjs:199:5\n",
      "StaleElementReferenceError@chrome://remote/content/shared/webdriver/Errors.sys.mjs:796:5\n",
      "getKnownElement@chrome://remote/content/marionette/json.sys.mjs:405:11\n",
      "deserializeJSON@chrome://remote/content/marionette/json.sys.mjs:263:20\n",
      "cloneObject@chrome://remote/content/marionette/json.sys.mjs:59:24\n",
      "deserializeJSON@chrome://remote/content/marionette/json.sys.mjs:293:16\n",
      "cloneObject@chrome://remote/content/marionette/json.sys.mjs:59:24\n",
      "deserializeJSON@chrome://remote/content/marionette/json.sys.mjs:293:16\n",
      "json.deserialize@chrome://remote/content/marionette/json.sys.mjs:297:10\n",
      "receiveMessage@chrome://remote/content/marionette/actors/MarionetteCommandsChild.sys.mjs:202:30\n",
      "\n",
      "Error al obtener resultados de https://www.casadellibro.com : Message: The element with the reference 5521c8da-35d8-44ab-9a96-a01238c60a82 is stale; either its node document is not the active document, or it is no longer connected to the DOM; For documentation on this error, please visit: https://www.selenium.dev/documentation/webdriver/troubleshooting/errors#stale-element-reference-exception\n",
      "Stacktrace:\n",
      "RemoteError@chrome://remote/content/shared/RemoteError.sys.mjs:8:8\n",
      "WebDriverError@chrome://remote/content/shared/webdriver/Errors.sys.mjs:199:5\n",
      "StaleElementReferenceError@chrome://remote/content/shared/webdriver/Errors.sys.mjs:796:5\n",
      "getKnownElement@chrome://remote/content/marionette/json.sys.mjs:405:11\n",
      "deserializeJSON@chrome://remote/content/marionette/json.sys.mjs:263:20\n",
      "cloneObject@chrome://remote/content/marionette/json.sys.mjs:59:24\n",
      "deserializeJSON@chrome://remote/content/marionette/json.sys.mjs:293:16\n",
      "cloneObject@chrome://remote/content/marionette/json.sys.mjs:59:24\n",
      "deserializeJSON@chrome://remote/content/marionette/json.sys.mjs:293:16\n",
      "json.deserialize@chrome://remote/content/marionette/json.sys.mjs:297:10\n",
      "receiveMessage@chrome://remote/content/marionette/actors/MarionetteCommandsChild.sys.mjs:202:30\n",
      "\n",
      "Error al obtener resultados de https://www.casadellibro.com : Message: The element with the reference 5e9d7f0e-f68f-46fc-8e34-26feaae6fe8c is stale; either its node document is not the active document, or it is no longer connected to the DOM; For documentation on this error, please visit: https://www.selenium.dev/documentation/webdriver/troubleshooting/errors#stale-element-reference-exception\n",
      "Stacktrace:\n",
      "RemoteError@chrome://remote/content/shared/RemoteError.sys.mjs:8:8\n",
      "WebDriverError@chrome://remote/content/shared/webdriver/Errors.sys.mjs:199:5\n",
      "StaleElementReferenceError@chrome://remote/content/shared/webdriver/Errors.sys.mjs:796:5\n",
      "getKnownElement@chrome://remote/content/marionette/json.sys.mjs:405:11\n",
      "deserializeJSON@chrome://remote/content/marionette/json.sys.mjs:263:20\n",
      "cloneObject@chrome://remote/content/marionette/json.sys.mjs:59:24\n",
      "deserializeJSON@chrome://remote/content/marionette/json.sys.mjs:293:16\n",
      "cloneObject@chrome://remote/content/marionette/json.sys.mjs:59:24\n",
      "deserializeJSON@chrome://remote/content/marionette/json.sys.mjs:293:16\n",
      "json.deserialize@chrome://remote/content/marionette/json.sys.mjs:297:10\n",
      "receiveMessage@chrome://remote/content/marionette/actors/MarionetteCommandsChild.sys.mjs:202:30\n",
      "\n",
      "tienda 1 size: 1\n",
      "                                              Título          Autor  \\\n",
      "0  LA PIEDRA FILOSOFAL DE J. OBLEMAN, HISTORIA DE...  JULIO NOMBELA   \n",
      "\n",
      "       Detalle Precio base Precio final  \\\n",
      "0  Tapa blanda      14,50       13,77 €   \n",
      "\n",
      "                                            Cubierta  \\\n",
      "0  https://imagessl5.casadellibro.com/a/l/t5/40/9...   \n",
      "\n",
      "                                              Enlace          Tienda  \n",
      "0  https://www.casadellibro.com/libro-la-piedra-f...  Casa del libro  \n"
     ]
    }
   ],
   "source": [
    "\n",
    "from RetoExtraUtils import getBooksCasaLibro\n",
    "\n",
    "books = getBooksCasaLibro(\"piedra filosofal\", 3 ,False)\n",
    "print(books.head(10))\n"
   ]
  },
  {
   "cell_type": "code",
   "execution_count": 26,
   "id": "6c43fc5b",
   "metadata": {},
   "outputs": [
    {
     "ename": "WebDriverException",
     "evalue": "Message: Failed to write request to stream\n",
     "output_type": "error",
     "traceback": [
      "\u001b[1;31m---------------------------------------------------------------------------\u001b[0m",
      "\u001b[1;31mWebDriverException\u001b[0m                        Traceback (most recent call last)",
      "Cell \u001b[1;32mIn[26], line 1\u001b[0m\n\u001b[1;32m----> 1\u001b[0m \u001b[43mdriver\u001b[49m\u001b[38;5;241;43m.\u001b[39;49m\u001b[43mclose\u001b[49m\u001b[43m(\u001b[49m\u001b[43m)\u001b[49m\n",
      "File \u001b[1;32m~\\AppData\\Roaming\\Python\\Python313\\site-packages\\selenium\\webdriver\\remote\\webdriver.py:579\u001b[0m, in \u001b[0;36mWebDriver.close\u001b[1;34m(self)\u001b[0m\n\u001b[0;32m    572\u001b[0m \u001b[38;5;28;01mdef\u001b[39;00m\u001b[38;5;250m \u001b[39m\u001b[38;5;21mclose\u001b[39m(\u001b[38;5;28mself\u001b[39m) \u001b[38;5;241m-\u001b[39m\u001b[38;5;241m>\u001b[39m \u001b[38;5;28;01mNone\u001b[39;00m:\n\u001b[0;32m    573\u001b[0m \u001b[38;5;250m    \u001b[39m\u001b[38;5;124;03m\"\"\"Closes the current window.\u001b[39;00m\n\u001b[0;32m    574\u001b[0m \n\u001b[0;32m    575\u001b[0m \u001b[38;5;124;03m    Example:\u001b[39;00m\n\u001b[0;32m    576\u001b[0m \u001b[38;5;124;03m    --------\u001b[39;00m\n\u001b[0;32m    577\u001b[0m \u001b[38;5;124;03m    >>> driver.close()\u001b[39;00m\n\u001b[0;32m    578\u001b[0m \u001b[38;5;124;03m    \"\"\"\u001b[39;00m\n\u001b[1;32m--> 579\u001b[0m     \u001b[38;5;28;43mself\u001b[39;49m\u001b[38;5;241;43m.\u001b[39;49m\u001b[43mexecute\u001b[49m\u001b[43m(\u001b[49m\u001b[43mCommand\u001b[49m\u001b[38;5;241;43m.\u001b[39;49m\u001b[43mCLOSE\u001b[49m\u001b[43m)\u001b[49m\n",
      "File \u001b[1;32m~\\AppData\\Roaming\\Python\\Python313\\site-packages\\selenium\\webdriver\\remote\\webdriver.py:429\u001b[0m, in \u001b[0;36mWebDriver.execute\u001b[1;34m(self, driver_command, params)\u001b[0m\n\u001b[0;32m    427\u001b[0m response \u001b[38;5;241m=\u001b[39m \u001b[38;5;28mself\u001b[39m\u001b[38;5;241m.\u001b[39mcommand_executor\u001b[38;5;241m.\u001b[39mexecute(driver_command, params)\n\u001b[0;32m    428\u001b[0m \u001b[38;5;28;01mif\u001b[39;00m response:\n\u001b[1;32m--> 429\u001b[0m     \u001b[38;5;28;43mself\u001b[39;49m\u001b[38;5;241;43m.\u001b[39;49m\u001b[43merror_handler\u001b[49m\u001b[38;5;241;43m.\u001b[39;49m\u001b[43mcheck_response\u001b[49m\u001b[43m(\u001b[49m\u001b[43mresponse\u001b[49m\u001b[43m)\u001b[49m\n\u001b[0;32m    430\u001b[0m     response[\u001b[38;5;124m\"\u001b[39m\u001b[38;5;124mvalue\u001b[39m\u001b[38;5;124m\"\u001b[39m] \u001b[38;5;241m=\u001b[39m \u001b[38;5;28mself\u001b[39m\u001b[38;5;241m.\u001b[39m_unwrap_value(response\u001b[38;5;241m.\u001b[39mget(\u001b[38;5;124m\"\u001b[39m\u001b[38;5;124mvalue\u001b[39m\u001b[38;5;124m\"\u001b[39m, \u001b[38;5;28;01mNone\u001b[39;00m))\n\u001b[0;32m    431\u001b[0m     \u001b[38;5;28;01mreturn\u001b[39;00m response\n",
      "File \u001b[1;32m~\\AppData\\Roaming\\Python\\Python313\\site-packages\\selenium\\webdriver\\remote\\errorhandler.py:232\u001b[0m, in \u001b[0;36mErrorHandler.check_response\u001b[1;34m(self, response)\u001b[0m\n\u001b[0;32m    230\u001b[0m         alert_text \u001b[38;5;241m=\u001b[39m value[\u001b[38;5;124m\"\u001b[39m\u001b[38;5;124malert\u001b[39m\u001b[38;5;124m\"\u001b[39m]\u001b[38;5;241m.\u001b[39mget(\u001b[38;5;124m\"\u001b[39m\u001b[38;5;124mtext\u001b[39m\u001b[38;5;124m\"\u001b[39m)\n\u001b[0;32m    231\u001b[0m     \u001b[38;5;28;01mraise\u001b[39;00m exception_class(message, screen, stacktrace, alert_text)  \u001b[38;5;66;03m# type: ignore[call-arg]  # mypy is not smart enough here\u001b[39;00m\n\u001b[1;32m--> 232\u001b[0m \u001b[38;5;28;01mraise\u001b[39;00m exception_class(message, screen, stacktrace)\n",
      "\u001b[1;31mWebDriverException\u001b[0m: Message: Failed to write request to stream\n"
     ]
    }
   ],
   "source": [
    "driver.close()"
   ]
  },
  {
   "cell_type": "code",
   "execution_count": 4,
   "id": "dad53e7e",
   "metadata": {},
   "outputs": [],
   "source": [
    "import pandas as pd"
   ]
  },
  {
   "cell_type": "code",
   "execution_count": 12,
   "id": "a2cf2e97",
   "metadata": {},
   "outputs": [
    {
     "name": "stdout",
     "output_type": "stream",
     "text": [
      "1\n",
      "La Piedra Filosofal\n",
      "N/A\n",
      "5,99 EUR\n",
      "https://i.ebayimg.com/images/g/deAAAOSwGidnM0zk/s-l500.jpg\n",
      "https://www.ebay.es/itm/126773751698?_skw=piedra+filosofal&hash=item1d844def92:g:deAAAOSwGidnM0zk&itmprp=enc%3AAQAKAAAA0FkggFvd1GGDu0w3yXCmi1c%2FicS5u5AR81qcSAFjnTZq3ECOQDWRFJvkgYINwPpjH2fB5z6Eft9svrvrMtf463PHoPBlVCkTkA7gvbJ9Hw5CtPJL%2B5D8C5VzlFmr1qS2wiPuVS7mqM01s%2Bb5qXRMCA64vXY%2BkclJBixmQN%2FHM%2F5HsJZniBCFqYF5v%2FF1%2Bf4p4st%2BX7tx%2BO3q7yTis%2Ftmqav92JzBJpGivcd0nLVlSvnwOSp1wY%2B9GGB3AHvYcyyJxDtD5P3ve9xB8LYTZlJCYAU%3D%7Ctkp%3ABk9SR6Lv3ZrNZQ\n",
      "1\n",
      "2\n",
      "Harry Potter y la Piedra Filosofal\n",
      "N/A\n",
      "5,99 EUR\n",
      "https://i.ebayimg.com/images/g/8r0AAeSwOsln8dvv/s-l500.jpg\n",
      "https://www.ebay.es/itm/297184712730?_skw=piedra+filosofal&hash=item453196d81a:g:8r0AAeSwOsln8dvv&itmprp=enc%3AAQAKAAAA0FkggFvd1GGDu0w3yXCmi1cagRN4im--odl23r5C6B61tJTH5oEbKlsxW4srLFGVYorTFZlVleQY79Jv9aeAJFBMctMwfTyjSCmR6eoXFnA02F8NMsMEhfGIElmZWDcMDnb6oXdGRYLJHNIIbuIMt%2FOqCruKQSoY9l5kI0MMvDy2CE%2BhNvHiXCXO2V%2FDcAriZ%2Bh4zVaeCbSBU6PmTnwMoz%2F8XGInyvQh9LFcofq9eavo4TpnqNhprmuYn4STVW1L0vfdEQiIqZsj%2Bk5XyPEUFKQ%3D%7Ctkp%3ABk9SR6Lv3ZrNZQ\n",
      "2\n",
      "3\n",
      "Harry Potter y la Piedra Filosofal\n",
      "N/A\n",
      "5,99 EUR\n",
      "https://i.ebayimg.com/images/g/JrAAAOSwEDNnBw2l/s-l140.jpg\n",
      "https://www.ebay.es/itm/126714922144?_skw=piedra+filosofal&hash=item1d80cc44a0:g:JrAAAOSwEDNnBw2l&itmprp=enc%3AAQAKAAAA0FkggFvd1GGDu0w3yXCmi1f%2FJmYBQ5%2Fg5r6DkDb1XtXM6tWTApCudaYvrJIbISSmJtj9in8sqqvNCEyvX9AXPEyXX%2FGibuwExTSU3LUQRLsEliS%2BysBxFscJnmcff8CNIh43F8Rv%2Fek%2B%2FyEi5R8IKJae30HKR2s32WHatMNRyNle4NTO6fCeYSd9KhhjhSZ7AIuALr4e3aIBiCQHZfFyY1RXkLPAu3ZMQgRx%2BbHH9SVmojNHXLDuEYbCxbgmS5gZ0uN%2BxTPjl--b0rv31SpCORo%3D%7Ctkp%3ABk9SR6Lv3ZrNZQ\n",
      "3\n",
      "4\n",
      "La Piedra Filosofal\n",
      "N/A\n",
      "6,59 EUR\n",
      "https://i.ebayimg.com/images/g/9-AAAOSwUtZniGSf/s-l140.jpg\n",
      "https://www.ebay.es/itm/306044141588?_skw=piedra+filosofal&hash=item4741a70014:g:9-AAAOSwUtZniGSf&itmprp=enc%3AAQAKAAAA0FkggFvd1GGDu0w3yXCmi1cWfUrvwhZnEfdOtRI%2BulEMEkrKbxTk2DIVF2IVpXu1nusxIpjn8QaWSIzWeNFg5UQ4d0DlUB2ECuFSw%2BEe5HxZHK6C8B7HdPs46%2BFwP%2F48RNg1gN%2Bq8DqG%2Bn2DeNLAKLUOPXeUh9EBOsUs9557OVmUevO8mEDQuMbJzs5UwXYw6v8U1HbrXprYTl5%2B0dDuGAXmeWOI%2Fq7gI9DNa2PvKZpM7Huxo41jSbhgQQVVjo%2F7FLvK%2BTJTXDDpAR9QLMEInO4%3D%7Ctkp%3ABk9SR6Lv3ZrNZQ\n",
      "4\n",
      "5\n",
      "Harry Potter y la piedra filosofal\n",
      "N/A\n",
      "6,76 EUR\n",
      "https://i.ebayimg.com/images/g/qfoAAeSwnNtnyuMP/s-l140.jpg\n",
      "https://www.ebay.es/itm/306163244159?_skw=piedra+filosofal&hash=item4748c05c7f:g:qfoAAeSwnNtnyuMP&itmprp=enc%3AAQAKAAAA0FkggFvd1GGDu0w3yXCmi1c4B5FGp%2BH8C%2BIfaH8eJGjdqXlMxyxzgMWn76DxxDK9Fp7fgHvIJYJ%2BdOmjASTzd4TPGRwn0GqwR3p%2FIUwMpBsMIZsJoUxY3V4ULkIdeXYY%2F5EwN4OAJOrlbB7%2FkUd4RbgEw%2FbnS3Iy5gGjEURlx33EBdlvrQAdi6ti0dMr8BP1xBZcpPw%2FjJ9jXYd%2FInESxxqbdBfdlu6pxaYA7f%2FYdxOcd1EMtAR9RN9DC43BYpo9xgtKfBtbYgluYpx8FxybeiI%3D%7Ctkp%3ABk9SR6Lv3ZrNZQ\n",
      "5\n",
      "tienda 2 size: 5\n"
     ]
    }
   ],
   "source": [
    "query = 'piedra filosofal'\n",
    "bookLimit = 5\n",
    "books = []\n",
    "bookDf = pd.DataFrame()\n",
    "baseUrl = 'https://www.ebay.es/'\n",
    "queryUrl = query.strip().replace(\" \",\"+\")\n",
    "url = f\"{baseUrl}sch/i.html?_nkw={queryUrl}&_sacat=267&_from=R40&_trksid=p2334524.m570.l1313&rt=nc&_odkw=9788478884452&_osacat=267&_sop=15&LH_ItemCondition=1000\"\n",
    "page = requests.get(url)\n",
    "time.sleep(1)\n",
    "soup = BeautifulSoup(page.content,\"html.parser\")\n",
    "results = soup.css.select('li[data-marko-key^=\"0 s0-55-0-9-8-4-4-0-3-0-4\"]', limit=bookLimit)\n",
    "i = 0\n",
    "for result in results:\n",
    "    i+=1\n",
    "    print(i)\n",
    "    try:\n",
    "        # Title\n",
    "        name_element = result.find(\"div\", class_=\"s-item__title\")\n",
    "        title = name_element.get_text().strip()\n",
    "        print(title)\n",
    "\n",
    "        #Author\n",
    "        author = 'N/A'\n",
    "        print(author)\n",
    "        detail_element = result.find(\"div\", class_=\"s-item__subtitle\")\n",
    "        \n",
    "        \n",
    "        detail = detail_element.get_text().strip()\n",
    "        if \"|\" in detail:\n",
    "            detail = detail.split(\"|\")[0]\n",
    "        shipping_element = result.find(\"span\", class_=\"s-item__shipping s-item__logisticsCost\")\n",
    "        if \"EUR\" in shipping_element.get_text():\n",
    "            detail = detail +'. '+ shipping_element.get_text().replace(r\"[^\\d.,]\", \"\", regex=True).replace(\",\",\".\") + '€ envío'\n",
    "        # Price \n",
    "        try:\n",
    "            price_element = result.find(\"span\", class_=\"s-item__price\")\n",
    "            current_price = price_element.get_text().strip()\n",
    "            original_price = current_price\n",
    "        except:\n",
    "            #Book discarded if no price\n",
    "            continue\n",
    "        print(current_price)\n",
    "        # Image\n",
    "        try:\n",
    "            img_element = result.find(\"div\", class_=\"s-item__image-wrapper image-treatment\")\n",
    "            img_url = img_element.find('img')[\"src\"]\n",
    "        except e:\n",
    "            img_url = \"N/A\"\n",
    "        print(img_url)\n",
    "        #Link\n",
    "        try:\n",
    "            link = result.find(\"a\", class_=\"s-item__link\")[\"href\"]\n",
    "            print(link)\n",
    "        except:\n",
    "            link = \"N/A\"\n",
    "\n",
    "        books.append({\n",
    "            \"Título\": title,\n",
    "            \"Autor\": author,\n",
    "            \"Detalle\": detail,\n",
    "            \"Precio base\": original_price,\n",
    "            \"Precio final\": current_price,\n",
    "            \"Cubierta\": img_url,\n",
    "            \"Enlace\": link,\n",
    "            \"Tienda\": \"Librería central\"\n",
    "        })\n",
    "        print(len(books))\n",
    "        bookDf = pd.DataFrame(books)\n",
    "        if len(books) == bookLimit:\n",
    "            break\n",
    "    except Exception as e:\n",
    "        print(f\"Error al obtener resultados de {baseUrl} : {e}\")\n",
    "        print(f\"Error al obtener resultados de {baseUrl} : {e.args}\")\n",
    "# return bookDf.truncate(after=bookLimit)\n",
    "print(f'tienda 2 size: {bookDf.shape[0]}')"
   ]
  },
  {
   "cell_type": "code",
   "execution_count": 28,
   "id": "66797a99",
   "metadata": {},
   "outputs": [],
   "source": [
    "options = webdriver.FirefoxOptions()\n",
    "options.add_argument(\"-private\")\n",
    "driver = webdriver.Firefox(service=service, options=options)"
   ]
  },
  {
   "cell_type": "code",
   "execution_count": 27,
   "id": "48d25251",
   "metadata": {},
   "outputs": [],
   "source": [
    "driver.close()"
   ]
  },
  {
   "cell_type": "code",
   "execution_count": 27,
   "id": "05a631ba",
   "metadata": {},
   "outputs": [],
   "source": [
    "query = 'filosofal'"
   ]
  },
  {
   "cell_type": "code",
   "execution_count": null,
   "id": "9f6f5336",
   "metadata": {},
   "outputs": [],
   "source": [
    "books = []\n",
    "bookDf = pd.DataFrame()\n",
    "\n",
    "url = \"https://www.elcorteingles.es/\"\n",
    "driver.get(url)\n",
    "driver.implicitly_wait(2)\n",
    "try:\n",
    "    driver.find_element(By.ID, \"onetrust-accept-btn-handler\").click()\n",
    "except:\n",
    "    print(\"no cookies\")\n",
    "\n",
    "\n"
   ]
  },
  {
   "cell_type": "code",
   "execution_count": 24,
   "id": "b8c7ba80",
   "metadata": {},
   "outputs": [],
   "source": [
    "driver.get(url)"
   ]
  },
  {
   "cell_type": "code",
   "execution_count": 43,
   "id": "b4201377",
   "metadata": {},
   "outputs": [],
   "source": [
    "driver.switch_to.default_content()"
   ]
  },
  {
   "cell_type": "code",
   "execution_count": 18,
   "id": "b591f058",
   "metadata": {},
   "outputs": [
    {
     "name": "stdout",
     "output_type": "stream",
     "text": [
      "¿Qué estás buscando?\n"
     ]
    }
   ],
   "source": [
    "# driver.switch_to.frame(driver.find_element(By.CSS_SELECTOR,'iframe[id=\"INDdefaultPropIframe\"]'))\n",
    "search = driver.find_element(By.ID, \"searchBoxBtn\")\n",
    "print(search.text)\n",
    "search.click()\n",
    "\n",
    "# search.send_keys(query)\n",
    "# searchButton = driver.find_element(By.CSS_SELECTOR, 'svg[class=search-link__icon]').click()\n",
    "# driver.switch_to.default_content()"
   ]
  },
  {
   "cell_type": "code",
   "execution_count": 16,
   "id": "62209439",
   "metadata": {},
   "outputs": [],
   "source": [
    "from selenium.webdriver.common.keys import Keys"
   ]
  },
  {
   "cell_type": "code",
   "execution_count": 19,
   "id": "7bf09f01",
   "metadata": {},
   "outputs": [
    {
     "ename": "NoSuchElementException",
     "evalue": "Message: Unable to locate element: svg[class=search-link__icon]; For documentation on this error, please visit: https://www.selenium.dev/documentation/webdriver/troubleshooting/errors#no-such-element-exception\nStacktrace:\nRemoteError@chrome://remote/content/shared/RemoteError.sys.mjs:8:8\nWebDriverError@chrome://remote/content/shared/webdriver/Errors.sys.mjs:199:5\nNoSuchElementError@chrome://remote/content/shared/webdriver/Errors.sys.mjs:552:5\ndom.find/</<@chrome://remote/content/shared/DOM.sys.mjs:136:16\n",
     "output_type": "error",
     "traceback": [
      "\u001b[1;31m---------------------------------------------------------------------------\u001b[0m",
      "\u001b[1;31mNoSuchElementException\u001b[0m                    Traceback (most recent call last)",
      "Cell \u001b[1;32mIn[19], line 1\u001b[0m\n\u001b[1;32m----> 1\u001b[0m searchButton \u001b[38;5;241m=\u001b[39m \u001b[43mdriver\u001b[49m\u001b[38;5;241;43m.\u001b[39;49m\u001b[43mfind_element\u001b[49m\u001b[43m(\u001b[49m\u001b[43mBy\u001b[49m\u001b[38;5;241;43m.\u001b[39;49m\u001b[43mCSS_SELECTOR\u001b[49m\u001b[43m,\u001b[49m\u001b[43m \u001b[49m\u001b[38;5;124;43m'\u001b[39;49m\u001b[38;5;124;43msvg[class=search-link__icon]\u001b[39;49m\u001b[38;5;124;43m'\u001b[39;49m\u001b[43m)\u001b[49m\u001b[38;5;241m.\u001b[39mclick()\n",
      "File \u001b[1;32m~\\AppData\\Roaming\\Python\\Python313\\site-packages\\selenium\\webdriver\\remote\\webdriver.py:898\u001b[0m, in \u001b[0;36mWebDriver.find_element\u001b[1;34m(self, by, value)\u001b[0m\n\u001b[0;32m    895\u001b[0m         \u001b[38;5;28;01mraise\u001b[39;00m NoSuchElementException(\u001b[38;5;124mf\u001b[39m\u001b[38;5;124m\"\u001b[39m\u001b[38;5;124mCannot locate relative element with: \u001b[39m\u001b[38;5;132;01m{\u001b[39;00mby\u001b[38;5;241m.\u001b[39mroot\u001b[38;5;132;01m}\u001b[39;00m\u001b[38;5;124m\"\u001b[39m)\n\u001b[0;32m    896\u001b[0m     \u001b[38;5;28;01mreturn\u001b[39;00m elements[\u001b[38;5;241m0\u001b[39m]\n\u001b[1;32m--> 898\u001b[0m \u001b[38;5;28;01mreturn\u001b[39;00m \u001b[38;5;28;43mself\u001b[39;49m\u001b[38;5;241;43m.\u001b[39;49m\u001b[43mexecute\u001b[49m\u001b[43m(\u001b[49m\u001b[43mCommand\u001b[49m\u001b[38;5;241;43m.\u001b[39;49m\u001b[43mFIND_ELEMENT\u001b[49m\u001b[43m,\u001b[49m\u001b[43m \u001b[49m\u001b[43m{\u001b[49m\u001b[38;5;124;43m\"\u001b[39;49m\u001b[38;5;124;43musing\u001b[39;49m\u001b[38;5;124;43m\"\u001b[39;49m\u001b[43m:\u001b[49m\u001b[43m \u001b[49m\u001b[43mby\u001b[49m\u001b[43m,\u001b[49m\u001b[43m \u001b[49m\u001b[38;5;124;43m\"\u001b[39;49m\u001b[38;5;124;43mvalue\u001b[39;49m\u001b[38;5;124;43m\"\u001b[39;49m\u001b[43m:\u001b[49m\u001b[43m \u001b[49m\u001b[43mvalue\u001b[49m\u001b[43m}\u001b[49m\u001b[43m)\u001b[49m[\u001b[38;5;124m\"\u001b[39m\u001b[38;5;124mvalue\u001b[39m\u001b[38;5;124m\"\u001b[39m]\n",
      "File \u001b[1;32m~\\AppData\\Roaming\\Python\\Python313\\site-packages\\selenium\\webdriver\\remote\\webdriver.py:429\u001b[0m, in \u001b[0;36mWebDriver.execute\u001b[1;34m(self, driver_command, params)\u001b[0m\n\u001b[0;32m    427\u001b[0m response \u001b[38;5;241m=\u001b[39m \u001b[38;5;28mself\u001b[39m\u001b[38;5;241m.\u001b[39mcommand_executor\u001b[38;5;241m.\u001b[39mexecute(driver_command, params)\n\u001b[0;32m    428\u001b[0m \u001b[38;5;28;01mif\u001b[39;00m response:\n\u001b[1;32m--> 429\u001b[0m     \u001b[38;5;28;43mself\u001b[39;49m\u001b[38;5;241;43m.\u001b[39;49m\u001b[43merror_handler\u001b[49m\u001b[38;5;241;43m.\u001b[39;49m\u001b[43mcheck_response\u001b[49m\u001b[43m(\u001b[49m\u001b[43mresponse\u001b[49m\u001b[43m)\u001b[49m\n\u001b[0;32m    430\u001b[0m     response[\u001b[38;5;124m\"\u001b[39m\u001b[38;5;124mvalue\u001b[39m\u001b[38;5;124m\"\u001b[39m] \u001b[38;5;241m=\u001b[39m \u001b[38;5;28mself\u001b[39m\u001b[38;5;241m.\u001b[39m_unwrap_value(response\u001b[38;5;241m.\u001b[39mget(\u001b[38;5;124m\"\u001b[39m\u001b[38;5;124mvalue\u001b[39m\u001b[38;5;124m\"\u001b[39m, \u001b[38;5;28;01mNone\u001b[39;00m))\n\u001b[0;32m    431\u001b[0m     \u001b[38;5;28;01mreturn\u001b[39;00m response\n",
      "File \u001b[1;32m~\\AppData\\Roaming\\Python\\Python313\\site-packages\\selenium\\webdriver\\remote\\errorhandler.py:232\u001b[0m, in \u001b[0;36mErrorHandler.check_response\u001b[1;34m(self, response)\u001b[0m\n\u001b[0;32m    230\u001b[0m         alert_text \u001b[38;5;241m=\u001b[39m value[\u001b[38;5;124m\"\u001b[39m\u001b[38;5;124malert\u001b[39m\u001b[38;5;124m\"\u001b[39m]\u001b[38;5;241m.\u001b[39mget(\u001b[38;5;124m\"\u001b[39m\u001b[38;5;124mtext\u001b[39m\u001b[38;5;124m\"\u001b[39m)\n\u001b[0;32m    231\u001b[0m     \u001b[38;5;28;01mraise\u001b[39;00m exception_class(message, screen, stacktrace, alert_text)  \u001b[38;5;66;03m# type: ignore[call-arg]  # mypy is not smart enough here\u001b[39;00m\n\u001b[1;32m--> 232\u001b[0m \u001b[38;5;28;01mraise\u001b[39;00m exception_class(message, screen, stacktrace)\n",
      "\u001b[1;31mNoSuchElementException\u001b[0m: Message: Unable to locate element: svg[class=search-link__icon]; For documentation on this error, please visit: https://www.selenium.dev/documentation/webdriver/troubleshooting/errors#no-such-element-exception\nStacktrace:\nRemoteError@chrome://remote/content/shared/RemoteError.sys.mjs:8:8\nWebDriverError@chrome://remote/content/shared/webdriver/Errors.sys.mjs:199:5\nNoSuchElementError@chrome://remote/content/shared/webdriver/Errors.sys.mjs:552:5\ndom.find/</<@chrome://remote/content/shared/DOM.sys.mjs:136:16\n"
     ]
    }
   ],
   "source": [
    "searchButton = driver.find_element(By.CSS_SELECTOR, 'svg[class=search-link__icon]').click()"
   ]
  },
  {
   "cell_type": "code",
   "execution_count": 20,
   "id": "8c556121",
   "metadata": {},
   "outputs": [],
   "source": [
    "query= 'filosofal'\n",
    "search_2 = driver.find_element(By.CSS_SELECTOR, 'input[class=\"search-bar__input\"]')\n",
    "search_2.send_keys(query)\n"
   ]
  },
  {
   "cell_type": "code",
   "execution_count": 21,
   "id": "a96e717c",
   "metadata": {},
   "outputs": [],
   "source": [
    "time.sleep(0.5)\n",
    "search_2.send_keys(Keys.ENTER)"
   ]
  },
  {
   "cell_type": "code",
   "execution_count": 12,
   "id": "b01160e3",
   "metadata": {},
   "outputs": [],
   "source": [
    "search_accept = driver.find_element(By.CSS_SELECTOR, 'button[data-synth=\"LOCATOR_SEARCH_BUTTON\"]').click()"
   ]
  },
  {
   "cell_type": "code",
   "execution_count": 29,
   "id": "a0fd4bdf",
   "metadata": {},
   "outputs": [],
   "source": [
    "url = \"https://www.elcorteingles.es/search-nwx/1/?s=piedra+filosofal&stype=text_box&sorting=priceAsc\"\n",
    "driver.get(url)"
   ]
  }
 ],
 "metadata": {
  "kernelspec": {
   "display_name": "Python 3",
   "language": "python",
   "name": "python3"
  },
  "language_info": {
   "codemirror_mode": {
    "name": "ipython",
    "version": 3
   },
   "file_extension": ".py",
   "mimetype": "text/x-python",
   "name": "python",
   "nbconvert_exporter": "python",
   "pygments_lexer": "ipython3",
   "version": "3.13.1"
  }
 },
 "nbformat": 4,
 "nbformat_minor": 5
}
