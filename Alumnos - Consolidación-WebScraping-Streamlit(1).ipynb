{
 "cells": [
  {
   "cell_type": "markdown",
   "id": "31f12064",
   "metadata": {},
   "source": [
    "![MBITSchool](https://i.imgur.com/UiDMkO3.png)\n",
    "\n",
    "### Proyecto de Consolidación APIs y Web Scraping\n",
    "\n",
    "##### Alejandro Paredero - paredero@mbitschool.com"
   ]
  },
  {
   "cell_type": "markdown",
   "id": "f5bce86a",
   "metadata": {},
   "source": [
    "**El proyecto de consolidación de Web Scraping, API REST y Streamlit pretende que de forma autónoma combinemos proyectos de captura, procesamiento de datos y visualización basados en un sistema o entre dos o más distintos.**\n",
    "\n",
    "Aquí la creatividad es muy importante ✔️. Una vez resuelto los retos propuestos siéntete libre de extenderlos con características adicionales.\n",
    "\n",
    "⚠️ **ATENCIÓN**: <u>Ten a mano las presentaciones y los cuadernos resueltos de las sesiones anteriores, te serán de gran ayuda.</u>\n",
    "\n",
    "**Los ejercicios EXTRA son opcionales**. Si dais vuestro consentimiento tras la fecha de cierre, podré hacer publicaciones con capturas de pantalla en redes como LinkedIn con objeto de promocionaros.\n",
    "\n",
    "Para dudas tenéis un foro en el campus o mi correo electrónico 📧 paredero@mbitschool.com"
   ]
  },
  {
   "cell_type": "markdown",
   "id": "79ff36f1",
   "metadata": {},
   "source": [
    "**Datos del alumno:**\n",
    "\n",
    "- **Nombre:** `Daniel Herraiz Tello`\n",
    "- **Consentimiento sobre ejercicios EXTRA:** Si realizas el ejercicio, ¿permites que pueda publicar el contenido en foto/vídeo si el resultado es relevante? `SI`\n",
    "- **Comentario:** Tras realizar los diferentes retos, ¿qué te han parecido? ¿qué problemas has encontrado?"
   ]
  },
  {
   "cell_type": "markdown",
   "id": "a5a641e9",
   "metadata": {},
   "source": [
    "\n",
    "##### Comentarios tras finalizar\n",
    "* El reto 1 está por completo en reto1.py\n",
    "* La columna +/- requiere especial atención y me ha dado algunos problemas al variar el nombre de la clase según >0 o <0\n",
    "* Al realizar el reto inicialmente en el notebook, podía usar una variable global como caché. En el script de python he tenido que usar un sistema distinto:\n",
    "    * Las variables globales se reinician al interactuar con el UI\n",
    "    * Ha sido necesario un sistema de archivos\n",
    "    * Inicialmente probé con un archivo y json (pag1->content1...) pero era muy complicado con los formatos, decidí crear un archivo por página\n",
    "    * He añadido una sección para ver y vaciar caché en la app para facilitar las pruebas\n"
   ]
  },
  {
   "cell_type": "markdown",
   "id": "381b96a4",
   "metadata": {},
   "source": [
    "### Reto 1 - BeautifulSoup y Streamlit: Capturar estadísticas de equipos de hockey"
   ]
  },
  {
   "cell_type": "markdown",
   "id": "ecae7c6b",
   "metadata": {},
   "source": [
    "Vista la web https://www.scrapethissite.com/pages/forms/. Examina como se comporta la URL con la paginación.  El objetivo es capturar la información de las primeras 10 páginas y crear una aplicación sencilla en Streamlit que permita mostrar la información de las columnas \"Team name\", \"Year\", \"Win\", \"Loses\" y \"+/-\"\n",
    "\n",
    "##### Ejercicio:\n",
    "* Captura el los términos listados anteriormente:  \"Team name\", \"Year\", \"Win\", \"Loses\" y \"+/-\" , de al menos las primeras 8 páginas.\n",
    "* Almacena el resultado en un **dataframe** de Steramlit.\n",
    "* Implementa el cacheo de contenido de las URL (Revisa la presentación) para evitar consultas repetidas a las URL.\n",
    "* **Extra**: Permite que el usuario elija el rango de página mínima y máxima a capturar contenido\n",
    "* **Extra**: Permite que el usuario elija filtrar por equipos cuyo \"+/-\" sea superior a una cifra determinada.\n",
    "\n",
    "*PISTA: La página 1 tiene la estructura `https://www.scrapethissite.com/pages/forms/?page_num=1` , la página 2 `https://www.scrapethissite.com/pages/forms/?page_num=2` y así sucesivamente.*"
   ]
  },
  {
   "cell_type": "markdown",
   "id": "60597456",
   "metadata": {},
   "source": [
    "\n"
   ]
  },
  {
   "cell_type": "code",
   "execution_count": 1,
   "id": "abf0f061",
   "metadata": {},
   "outputs": [],
   "source": [
    "import requests\n",
    "from bs4 import BeautifulSoup\n",
    "import pandas as pd\n",
    "import selenium\n",
    "import re\n",
    "import time"
   ]
  },
  {
   "cell_type": "markdown",
   "id": "f33da1d1",
   "metadata": {},
   "source": [
    "### Reto 2 - Selenium: Captura del valor del oro"
   ]
  },
  {
   "cell_type": "markdown",
   "id": "31e85677",
   "metadata": {},
   "source": [
    "Como vimos en clase, hay páginas que implementan medidas para evitar el Web Scraping. En la web de https://www.inversoro.es/precio-del-oro/precio-oro-hoy/ apreciamos cómo la página web cara un valor antiguo y pasados unos segundos actualiza. \n",
    "\n",
    "Esto hace que bibliotecas como `request` + `BeautifulSoup` no nos sirva aquí ya que capturamos el instante t=0. Sin embargo, con *Selenium* podemos interactuar en tiempo real mientras el navegador se ejecuta.\n",
    "\n",
    "#### Ejercicio\n",
    "Inspecciona la web, obteniendo la etiqueta HTML donde el valor aparece representado y crea un script que utilice Selenium, cargando la página y capturando  dicho valor en tiempo real cada 5 segundos en un periodo de 1 minuto. Almacena el resultado de dicho valor y del timestamp correspondiente (*[ayuda](https://www.geeksforgeeks.org/get-current-timestamp-using-python/)*)"
   ]
  },
  {
   "cell_type": "code",
   "execution_count": null,
   "id": "37dd5bc6",
   "metadata": {},
   "outputs": [],
   "source": [
    "import selenium"
   ]
  },
  {
   "cell_type": "code",
   "execution_count": null,
   "id": "2d374af5",
   "metadata": {},
   "outputs": [],
   "source": []
  },
  {
   "cell_type": "code",
   "execution_count": null,
   "id": "71e60b65",
   "metadata": {},
   "outputs": [],
   "source": []
  },
  {
   "cell_type": "code",
   "execution_count": null,
   "id": "5153c959",
   "metadata": {},
   "outputs": [],
   "source": []
  },
  {
   "cell_type": "markdown",
   "id": "2f60755b",
   "metadata": {},
   "source": [
    "### Reto EXTRA - Selenium, BeautifulSoup y Streamlit: El comparador (simple) de precios 📊📉"
   ]
  },
  {
   "cell_type": "markdown",
   "id": "85538731",
   "metadata": {},
   "source": [
    "Los comparadores de precios <u>es uno de los nichos de mercado más lucrativos en Internet.</u> Dado un producto o servicio a nivel de usuario nos beneficiamos del precio más bajo existente y a nivel de empresa éstas obtienen grandes beneficios gracias a sistemas de referidos o de comisiones por venta realizada.\n",
    "\n",
    "En esta ocasión vamos a realizar un simple comparador de precios basado en el número ISBN. Un ISBN es un código normalizado internacional para libros (International Standard Book Number). Estos estaban compuestos por 10 dígitos hasta diciembre de 2006 pero, desde enero de 2007, tienen una extensión de 13 dígitos. \n",
    "\n",
    "\n",
    "Por ejemplo, el ISBN [9788478884452](https://www.google.es/search?q=9788478884452) (haz click) corresponde al libro \"Harry Potter y la piedra filosofal\".\n",
    "\n",
    "Dado que no disponemos de acceso a APIs de las tiendas principales <u>capturaremos el precio a través de técnicas de Web Sraping.</u>\n",
    "\n",
    "##### Ejercicio \n",
    "\n",
    "El objetivo es realizar la consulta de un ISBN, por ejemplo el de \"Harry Potter y la Piedra filosofal\" en al menos **tres** de las siguientes tiendas propuestas. Captura el primer resultado en EUROS, y devuelve cómo resultado cuál tiene el precio más bajo. \n",
    "\n",
    "Crea un sencillo interfaz en Streamlit que pregunte por el ISBN de un número (entre 10 y 13 dígitos) y devuelva como resultado el primer elemento de cada tienda examinada, con el título, la imagen (si la hubiese), el precio y un enlace para hacer click.\n",
    "\n",
    "Como puntos extra:\n",
    "* Incluye en la comparativa más de las 3 tiendas propuestas.\n",
    "* Incluye por texto posteriormente cuál es la diferencia de precio en euros y en porcentaje respecto al valor más bajo detectado para saber cuánto nos estamos ahorrando.\n",
    "* Crea un diagrama de barras con el precio en cada tienda para representar visualmente el ahorro en precio.\n",
    "\n",
    "Ejemplo de tiendas propuestas:\n",
    "- https://www.casadellibro.com/\n",
    "- https://www.libreriacentral.com/\n",
    "- https://www.iberlibro.com/\n",
    "- https://www.amazon.es/\n",
    "- https://ebay.es\n",
    "- https://www.elcorteingles.es/\n",
    "\n",
    "Recuerda que para cada página debes realizar ingeniería inversa, averiguando cómo se comportan las URLs de cada sitio web para hacer una búsqueda directa.\n",
    "\n",
    "**Pista**: Utiliza Selenium para capturar datos si te resulta request/BeautifulSoup complicado de utilizar.\n",
    "\n",
    "**Extra**: *¿Conoces alguna otra página donde comprar libros? Inclúyela en el comprador*\n",
    "\n",
    "**Extra 2**: *¿Cómo podríamos obtener una evolución del precio durante una semana?*"
   ]
  },
  {
   "cell_type": "code",
   "execution_count": null,
   "id": "e402237e",
   "metadata": {},
   "outputs": [],
   "source": [
    "import json\n",
    "import requests\n",
    "import streamlit as st\n",
    "from bs4 import BeautifulSoup\n",
    "from selenium import webdriver\n",
    "from time import sleep"
   ]
  },
  {
   "cell_type": "code",
   "execution_count": null,
   "id": "801d7f7d",
   "metadata": {},
   "outputs": [],
   "source": [
    "## ENTREGA AQUÍ EL CÓDIGO PYTHON DE LA APLICACIÓN STREAMLIT"
   ]
  }
 ],
 "metadata": {
  "kernelspec": {
   "display_name": "Python 3",
   "language": "python",
   "name": "python3"
  },
  "language_info": {
   "codemirror_mode": {
    "name": "ipython",
    "version": 3
   },
   "file_extension": ".py",
   "mimetype": "text/x-python",
   "name": "python",
   "nbconvert_exporter": "python",
   "pygments_lexer": "ipython3",
   "version": "3.13.1"
  }
 },
 "nbformat": 4,
 "nbformat_minor": 5
}
